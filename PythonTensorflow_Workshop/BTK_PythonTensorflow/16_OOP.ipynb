{
 "cells": [
  {
   "cell_type": "markdown",
   "id": "d3fde453",
   "metadata": {},
   "source": [
    "liste sınıfından nesne oluşturmak"
   ]
  },
  {
   "cell_type": "code",
   "execution_count": 1,
   "id": "56a571ec",
   "metadata": {},
   "outputs": [],
   "source": [
    "listem = list()"
   ]
  },
  {
   "cell_type": "code",
   "execution_count": 2,
   "id": "4cced7ed",
   "metadata": {},
   "outputs": [
    {
     "data": {
      "text/plain": [
       "list"
      ]
     },
     "execution_count": 2,
     "metadata": {},
     "output_type": "execute_result"
    }
   ],
   "source": [
    "type(listem)"
   ]
  },
  {
   "cell_type": "markdown",
   "id": "520fa676",
   "metadata": {},
   "source": [
    "# instance & attribute (örnek ve öznitelik ) "
   ]
  },
  {
   "cell_type": "markdown",
   "id": "d436237a",
   "metadata": {},
   "source": [
    "list() sınıfından oluşturduğum listem nesnesi, list() sınıfının instance ıdır"
   ]
  },
  {
   "cell_type": "code",
   "execution_count": 4,
   "id": "8f3be49f",
   "metadata": {},
   "outputs": [],
   "source": [
    "superKahraman = \"Superman\"\n",
    "superKahraman = 30\n",
    "superKahraman = \"Gazeteci\"\n",
    "#bu şekilde kodlamak zor. her karakter için bir sürü kod\n",
    "#bunun yerine bir sınıf oluşturup özellikleri oradan çekmek gerek"
   ]
  },
  {
   "cell_type": "markdown",
   "id": "4caac08a",
   "metadata": {},
   "source": [
    "Classların ilk harfi büyük yazılır"
   ]
  },
  {
   "cell_type": "markdown",
   "id": "435f02eb",
   "metadata": {},
   "source": [
    "Genelde büyük harfle yazılan class, küçük harfle yazılan o sınıfın instance ı deriz"
   ]
  },
  {
   "cell_type": "code",
   "execution_count": 6,
   "id": "2e68a2d9",
   "metadata": {},
   "outputs": [],
   "source": [
    "class SuperKahraman():\n",
    "    def __init__():\n",
    "        print(\"init çağırıldı\")"
   ]
  },
  {
   "cell_type": "markdown",
   "id": "3dd664e0",
   "metadata": {},
   "source": [
    " __init__( iki alt çizgi init iki alt çizgi): initializer-başlatıcı\n",
    " Başlatma fonksiyonudur.\n",
    " Yapılan classtan herhangi bir obje oluşturulduğunda hemen bu fonksiyon çağırılır\n"
   ]
  },
  {
   "cell_type": "code",
   "execution_count": 7,
   "id": "85a39cdd",
   "metadata": {},
   "outputs": [
    {
     "ename": "TypeError",
     "evalue": "__init__() takes 0 positional arguments but 1 was given",
     "output_type": "error",
     "traceback": [
      "\u001b[1;31m---------------------------------------------------------------------------\u001b[0m",
      "\u001b[1;31mTypeError\u001b[0m                                 Traceback (most recent call last)",
      "\u001b[1;32m~\\AppData\\Local\\Temp\\ipykernel_3872\\2550987592.py\u001b[0m in \u001b[0;36m<module>\u001b[1;34m\u001b[0m\n\u001b[1;32m----> 1\u001b[1;33m \u001b[0msuperman\u001b[0m \u001b[1;33m=\u001b[0m \u001b[0mSuperKahraman\u001b[0m\u001b[1;33m(\u001b[0m\u001b[1;33m)\u001b[0m\u001b[1;33m\u001b[0m\u001b[1;33m\u001b[0m\u001b[0m\n\u001b[0m",
      "\u001b[1;31mTypeError\u001b[0m: __init__() takes 0 positional arguments but 1 was given"
     ]
    }
   ],
   "source": [
    "superman = SuperKahraman()"
   ]
  },
  {
   "cell_type": "markdown",
   "id": "5e0d631e",
   "metadata": {},
   "source": [
    "Hata aldık: __init__() fonksiyonunda bir argüman sıkıntısı yaşıyormuş. Sorunu çözmek için **self** parametresi verilir."
   ]
  },
  {
   "cell_type": "code",
   "execution_count": 16,
   "id": "145b24e9",
   "metadata": {},
   "outputs": [],
   "source": [
    "class SuperKahraman():\n",
    "    def __init__(self):\n",
    "        print(\"init çağırıldı\")"
   ]
  },
  {
   "cell_type": "code",
   "execution_count": 17,
   "id": "1ddc999a",
   "metadata": {},
   "outputs": [
    {
     "name": "stdout",
     "output_type": "stream",
     "text": [
      "init çağırıldı\n"
     ]
    }
   ],
   "source": [
    "batman = SuperKahraman()"
   ]
  },
  {
   "cell_type": "markdown",
   "id": "d90f2246",
   "metadata": {},
   "source": [
    "tanımladığımız kahramanlara attribute eklemek için de parametreler verelim: **isimInput, yasInput, meslekInput**"
   ]
  },
  {
   "cell_type": "code",
   "execution_count": 30,
   "id": "6ebe8e84",
   "metadata": {},
   "outputs": [],
   "source": [
    "class SuperKahraman():\n",
    "    def __init__(self, isimInput, yasInput, meslekInput):\n",
    "        print(\"init çağırıldı\")\n",
    "        self.isim = isimInput\n",
    "        self.yas = yasInput\n",
    "        self.meslek = meslekInput"
   ]
  },
  {
   "cell_type": "code",
   "execution_count": 31,
   "id": "6eb97b9a",
   "metadata": {},
   "outputs": [
    {
     "name": "stdout",
     "output_type": "stream",
     "text": [
      "init çağırıldı\n"
     ]
    }
   ],
   "source": [
    "superman = SuperKahraman(\"Superman\", 30, \"Gazeteci\")"
   ]
  },
  {
   "cell_type": "markdown",
   "id": "5438da41",
   "metadata": {},
   "source": [
    "**superman.** yazıp tab basınca **isim, yas, meslek** attributeları çıkar"
   ]
  },
  {
   "cell_type": "markdown",
   "id": "71d9b988",
   "metadata": {},
   "source": [
    "self, objemizin attributelerini tanımlamamızı sağladı. "
   ]
  },
  {
   "cell_type": "markdown",
   "id": "d97821de",
   "metadata": {},
   "source": [
    "bu sayede objelerimizizi attributeleri ile çağırabiliriz "
   ]
  },
  {
   "cell_type": "code",
   "execution_count": 32,
   "id": "a0fdc791",
   "metadata": {},
   "outputs": [
    {
     "data": {
      "text/plain": [
       "'Superman'"
      ]
     },
     "execution_count": 32,
     "metadata": {},
     "output_type": "execute_result"
    }
   ],
   "source": [
    "superman.isim"
   ]
  },
  {
   "cell_type": "markdown",
   "id": "70ea0036",
   "metadata": {},
   "source": [
    "bu sayede objelerimizin referaslarını değiştirebiliriz "
   ]
  },
  {
   "cell_type": "code",
   "execution_count": 33,
   "id": "a72e17e4",
   "metadata": {},
   "outputs": [],
   "source": [
    "superman.isim = \"Clark Kent\""
   ]
  },
  {
   "cell_type": "code",
   "execution_count": 34,
   "id": "a89c1a3c",
   "metadata": {},
   "outputs": [
    {
     "data": {
      "text/plain": [
       "'Clark Kent'"
      ]
     },
     "execution_count": 34,
     "metadata": {},
     "output_type": "execute_result"
    }
   ],
   "source": [
    "superman.isim"
   ]
  },
  {
   "cell_type": "markdown",
   "id": "821a2d04",
   "metadata": {},
   "source": [
    "Esas kullanımında parametre adı ile self.ad'daki ad kısmı aynı yazılır"
   ]
  },
  {
   "cell_type": "code",
   "execution_count": 41,
   "id": "e8ca7638",
   "metadata": {},
   "outputs": [],
   "source": [
    "class SuperKahraman():\n",
    "    \n",
    "    ozelGuc = \"Görünmezlik\" #bunu burada tanımlamak mantıklı değil ama yine burada da çalışır\n",
    "    \n",
    "    def __init__(self, isim, yas, meslek):\n",
    "        print(\"init çağırıldı\")\n",
    "        self.isim = isim\n",
    "        self.yas = yas\n",
    "        self.meslek = meslek"
   ]
  },
  {
   "cell_type": "code",
   "execution_count": 42,
   "id": "66d697fc",
   "metadata": {},
   "outputs": [
    {
     "name": "stdout",
     "output_type": "stream",
     "text": [
      "init çağırıldı\n"
     ]
    }
   ],
   "source": [
    "wonderWoman = SuperKahraman(\"WonderWoman\", 30, \"Dövüşçü\")"
   ]
  },
  {
   "cell_type": "code",
   "execution_count": 43,
   "id": "67ad5537",
   "metadata": {},
   "outputs": [
    {
     "data": {
      "text/plain": [
       "'WonderWoman'"
      ]
     },
     "execution_count": 43,
     "metadata": {},
     "output_type": "execute_result"
    }
   ],
   "source": [
    "wonderWoman.isim"
   ]
  },
  {
   "cell_type": "code",
   "execution_count": 44,
   "id": "bd1136e4",
   "metadata": {},
   "outputs": [
    {
     "data": {
      "text/plain": [
       "'Görünmezlik'"
      ]
     },
     "execution_count": 44,
     "metadata": {},
     "output_type": "execute_result"
    }
   ],
   "source": [
    "wonderWoman.ozelGuc"
   ]
  },
  {
   "cell_type": "code",
   "execution_count": 45,
   "id": "1e9a59d8",
   "metadata": {},
   "outputs": [],
   "source": [
    "wonderWoman.ozelGuc = \"ölümsüzlük\""
   ]
  },
  {
   "cell_type": "code",
   "execution_count": 46,
   "id": "de93d1eb",
   "metadata": {},
   "outputs": [
    {
     "data": {
      "text/plain": [
       "'ölümsüzlük'"
      ]
     },
     "execution_count": 46,
     "metadata": {},
     "output_type": "execute_result"
    }
   ],
   "source": [
    "wonderWoman.ozelGuc"
   ]
  },
  {
   "cell_type": "markdown",
   "id": "18c99d74",
   "metadata": {},
   "source": [
    "yeni tanımladığımız bir fonksiyon içine **self** koymadığımızda birçok sorun yaşayabiliriz"
   ]
  },
  {
   "cell_type": "code",
   "execution_count": 10,
   "id": "afc4fc7a",
   "metadata": {},
   "outputs": [],
   "source": [
    "class SuperKahraman():\n",
    "    \n",
    "    ozelGuc = \"Görünmezlik\"\n",
    "    #bunu burada tanımlamak mantıklı değil ama yine burada da çalışır\n",
    "    \n",
    "    def __init__(self, isim, yas, meslek):\n",
    "        print(\"init çağırıldı\")\n",
    "        self.isim = isim\n",
    "        self.yas = yas\n",
    "        self.meslek = meslek\n",
    "        \n",
    "    def ornekMethod(self):\n",
    "        print(f\"ben süperkahramanım ve mesleğim: {self.meslek}\")"
   ]
  },
  {
   "cell_type": "code",
   "execution_count": 11,
   "id": "6b61c977",
   "metadata": {},
   "outputs": [
    {
     "name": "stdout",
     "output_type": "stream",
     "text": [
      "init çağırıldı\n"
     ]
    }
   ],
   "source": [
    "superman = SuperKahraman(\"Superman\", 30, \"Gazeteci\")"
   ]
  },
  {
   "cell_type": "code",
   "execution_count": 12,
   "id": "09b0db8d",
   "metadata": {},
   "outputs": [
    {
     "data": {
      "text/plain": [
       "30"
      ]
     },
     "execution_count": 12,
     "metadata": {},
     "output_type": "execute_result"
    }
   ],
   "source": [
    "superman.yas"
   ]
  },
  {
   "cell_type": "code",
   "execution_count": 13,
   "id": "12db66cd",
   "metadata": {},
   "outputs": [
    {
     "data": {
      "text/plain": [
       "<bound method SuperKahraman.ornekMethod of <__main__.SuperKahraman object at 0x0000013E25612850>>"
      ]
     },
     "execution_count": 13,
     "metadata": {},
     "output_type": "execute_result"
    }
   ],
   "source": [
    "superman.ornekMethod"
   ]
  },
  {
   "cell_type": "markdown",
   "id": "839ed65b",
   "metadata": {},
   "source": [
    "ornekMethod bir attribute değil. Method. bu yüzden () ile çağırmalıyız"
   ]
  },
  {
   "cell_type": "markdown",
   "id": "a566bed4",
   "metadata": {},
   "source": [
    "çalışması için ornekMethod içinde **self** kullanmak zorundayız. "
   ]
  },
  {
   "cell_type": "code",
   "execution_count": 14,
   "id": "d395cb7b",
   "metadata": {},
   "outputs": [
    {
     "name": "stdout",
     "output_type": "stream",
     "text": [
      "ben süperkahramanım ve mesleğim: Gazeteci\n"
     ]
    }
   ],
   "source": [
    "superman.ornekMethod()"
   ]
  },
  {
   "cell_type": "markdown",
   "id": "fd93e409",
   "metadata": {},
   "source": [
    "# "
   ]
  },
  {
   "cell_type": "markdown",
   "id": "091bb270",
   "metadata": {},
   "source": [
    "attributelerde direk bir değer verebilir miyiz?"
   ]
  },
  {
   "cell_type": "markdown",
   "id": "261a9d21",
   "metadata": {},
   "source": [
    "attribute ü yazan kişi attribute e değer vermezse çökmeleri engelleyebilir miyiz?"
   ]
  },
  {
   "cell_type": "code",
   "execution_count": 15,
   "id": "394ab2ca",
   "metadata": {},
   "outputs": [],
   "source": [
    "class Kopek():\n",
    "    \n",
    "    def __init__(self, yas):\n",
    "        self.yas = yas"
   ]
  },
  {
   "cell_type": "code",
   "execution_count": 20,
   "id": "65258146",
   "metadata": {},
   "outputs": [],
   "source": [
    "benimKopek = Kopek(3)"
   ]
  },
  {
   "cell_type": "code",
   "execution_count": 21,
   "id": "792bf2dc",
   "metadata": {},
   "outputs": [
    {
     "data": {
      "text/plain": [
       "3"
      ]
     },
     "execution_count": 21,
     "metadata": {},
     "output_type": "execute_result"
    }
   ],
   "source": [
    "benimKopek.yas"
   ]
  },
  {
   "cell_type": "code",
   "execution_count": 23,
   "id": "417f363d",
   "metadata": {},
   "outputs": [
    {
     "ename": "TypeError",
     "evalue": "__init__() missing 1 required positional argument: 'yas'",
     "output_type": "error",
     "traceback": [
      "\u001b[1;31m---------------------------------------------------------------------------\u001b[0m",
      "\u001b[1;31mTypeError\u001b[0m                                 Traceback (most recent call last)",
      "\u001b[1;32m~\\AppData\\Local\\Temp\\ipykernel_7640\\523532988.py\u001b[0m in \u001b[0;36m<module>\u001b[1;34m\u001b[0m\n\u001b[1;32m----> 1\u001b[1;33m \u001b[0mbenimKopek2\u001b[0m \u001b[1;33m=\u001b[0m \u001b[0mKopek\u001b[0m\u001b[1;33m(\u001b[0m\u001b[1;33m)\u001b[0m\u001b[1;33m\u001b[0m\u001b[1;33m\u001b[0m\u001b[0m\n\u001b[0m",
      "\u001b[1;31mTypeError\u001b[0m: __init__() missing 1 required positional argument: 'yas'"
     ]
    }
   ],
   "source": [
    "benimKopek2 = Kopek()"
   ]
  },
  {
   "cell_type": "markdown",
   "id": "65351740",
   "metadata": {},
   "source": [
    "Burada yas değişkenini vermezsem hata alıyorum. bu hatanın önüne geçebilmek için yas değişkeni girilmediğinde çalışabilecek bir default değer atayalım"
   ]
  },
  {
   "cell_type": "code",
   "execution_count": 24,
   "id": "375f13b6",
   "metadata": {},
   "outputs": [],
   "source": [
    "class Kopek():\n",
    "    \n",
    "    def __init__(self, yas=5):\n",
    "        self.yas = yas"
   ]
  },
  {
   "cell_type": "code",
   "execution_count": 25,
   "id": "16a236c5",
   "metadata": {},
   "outputs": [],
   "source": [
    "benimKopek2 = Kopek()"
   ]
  },
  {
   "cell_type": "code",
   "execution_count": 26,
   "id": "8dbe0388",
   "metadata": {},
   "outputs": [
    {
     "data": {
      "text/plain": [
       "5"
      ]
     },
     "execution_count": 26,
     "metadata": {},
     "output_type": "execute_result"
    }
   ],
   "source": [
    "benimKopek2.yas"
   ]
  },
  {
   "cell_type": "markdown",
   "id": "18c8dd25",
   "metadata": {},
   "source": [
    "Tabi override edip üzerine başka değer yazabiliriz"
   ]
  },
  {
   "cell_type": "code",
   "execution_count": 28,
   "id": "46db4d4d",
   "metadata": {},
   "outputs": [],
   "source": [
    "benimKopek2.yas = 3"
   ]
  },
  {
   "cell_type": "code",
   "execution_count": 29,
   "id": "0a893bdf",
   "metadata": {},
   "outputs": [
    {
     "data": {
      "text/plain": [
       "3"
      ]
     },
     "execution_count": 29,
     "metadata": {},
     "output_type": "execute_result"
    }
   ],
   "source": [
    "benimKopek2.yas"
   ]
  },
  {
   "cell_type": "markdown",
   "id": "79c1f577",
   "metadata": {},
   "source": [
    "# "
   ]
  },
  {
   "cell_type": "markdown",
   "id": "c64ee099",
   "metadata": {},
   "source": [
    "Köpeğin insan yaşını hesaplamak: 1 yaşındaki köpek aslında insan yaşına göre 7 katı yaştadır. bunu bize hesaplayan bir fonksiyon yazalım"
   ]
  },
  {
   "cell_type": "code",
   "execution_count": 72,
   "id": "94053ae7",
   "metadata": {},
   "outputs": [],
   "source": [
    "class Kopek():\n",
    "    \n",
    "    yilCarpani = 7\n",
    "    \n",
    "    def __init__(self, yas=5):\n",
    "        self.yas = yas\n",
    "        \n",
    "        \n",
    "    def kopeginInsanYasi(self):\n",
    "        print(f\"Köpeğin yaşı: {self.yas}\")\n",
    "        print(f\"Köpeğin insan yaşı: \" + str(self.yas * self.yilCarpani))\n",
    "        # self.yilCarpani yerine Kopek.yilCarpani da yazabilirim"
   ]
  },
  {
   "cell_type": "code",
   "execution_count": 73,
   "id": "98f38ebf",
   "metadata": {},
   "outputs": [],
   "source": [
    "benimKopek3 = Kopek()"
   ]
  },
  {
   "cell_type": "code",
   "execution_count": 74,
   "id": "e1630a3b",
   "metadata": {},
   "outputs": [],
   "source": [
    "benimKopek3.yas = 4"
   ]
  },
  {
   "cell_type": "code",
   "execution_count": 75,
   "id": "c65f4c4e",
   "metadata": {},
   "outputs": [
    {
     "data": {
      "text/plain": [
       "4"
      ]
     },
     "execution_count": 75,
     "metadata": {},
     "output_type": "execute_result"
    }
   ],
   "source": [
    "benimKopek3.yas"
   ]
  },
  {
   "cell_type": "code",
   "execution_count": 76,
   "id": "4d3b9b31",
   "metadata": {},
   "outputs": [
    {
     "name": "stdout",
     "output_type": "stream",
     "text": [
      "Köpeğin yaşı: 4\n",
      "Köpeğin insan yaşı: 28\n"
     ]
    }
   ],
   "source": [
    "benimKopek3.kopeginInsanYasi()"
   ]
  },
  {
   "cell_type": "markdown",
   "id": "4aaa8f6c",
   "metadata": {},
   "source": [
    "# "
   ]
  },
  {
   "cell_type": "markdown",
   "id": "17ea462a",
   "metadata": {},
   "source": [
    "# inheritance - miras almak, kalıtım"
   ]
  },
  {
   "cell_type": "code",
   "execution_count": 79,
   "id": "f48102e5",
   "metadata": {},
   "outputs": [],
   "source": [
    "class Hayvan():\n",
    "    def __init__(self):\n",
    "        print(\"Hayvan sınıfı init çağırıldı\")\n",
    "        \n",
    "    def method1(self):\n",
    "        print(\"Hayvan sınıfı method1 çağırıldı\")\n",
    "        \n",
    "    def method2(self):\n",
    "        print(\"Hayvan sınıfı method2 çağırıldı\")"
   ]
  },
  {
   "cell_type": "code",
   "execution_count": 80,
   "id": "dcda5583",
   "metadata": {},
   "outputs": [
    {
     "name": "stdout",
     "output_type": "stream",
     "text": [
      "Hayvan sınıfı init çağırıldı\n"
     ]
    }
   ],
   "source": [
    "benimHayvanim = Hayvan()"
   ]
  },
  {
   "cell_type": "code",
   "execution_count": 81,
   "id": "679b641c",
   "metadata": {},
   "outputs": [
    {
     "name": "stdout",
     "output_type": "stream",
     "text": [
      "Hayvan sınıfı method1 çağırıldı\n"
     ]
    }
   ],
   "source": [
    "benimHayvanim.method1()"
   ]
  },
  {
   "cell_type": "code",
   "execution_count": 82,
   "id": "4a64262b",
   "metadata": {},
   "outputs": [
    {
     "name": "stdout",
     "output_type": "stream",
     "text": [
      "Hayvan sınıfı method2 çağırıldı\n"
     ]
    }
   ],
   "source": [
    "benimHayvanim.method2()"
   ]
  },
  {
   "cell_type": "code",
   "execution_count": 87,
   "id": "9094b4b2",
   "metadata": {},
   "outputs": [],
   "source": [
    "class Kedi(Hayvan):   # Hayvan class ını burada miras aldık\n",
    "    def __init__(self):\n",
    "        Hayvan.__init__(self)\n",
    "        print(\"Kedi sınıfı init çağırıldı\")\n",
    "        \n",
    "    def miyavla(self):\n",
    "        print(\"miyav\")"
   ]
  },
  {
   "cell_type": "code",
   "execution_count": 88,
   "id": "4b146098",
   "metadata": {},
   "outputs": [
    {
     "name": "stdout",
     "output_type": "stream",
     "text": [
      "Hayvan sınıfı init çağırıldı\n",
      "Kedi sınıfı init çağırıldı\n"
     ]
    }
   ],
   "source": [
    "benimKedi = Kedi()"
   ]
  },
  {
   "cell_type": "code",
   "execution_count": 89,
   "id": "10005294",
   "metadata": {},
   "outputs": [
    {
     "name": "stdout",
     "output_type": "stream",
     "text": [
      "Hayvan sınıfı method1 çağırıldı\n"
     ]
    }
   ],
   "source": [
    "benimKedi.method1()"
   ]
  },
  {
   "cell_type": "code",
   "execution_count": 91,
   "id": "ea4f5cb8",
   "metadata": {},
   "outputs": [
    {
     "name": "stdout",
     "output_type": "stream",
     "text": [
      "miyav\n"
     ]
    }
   ],
   "source": [
    "benimKedi.miyavla()"
   ]
  },
  {
   "cell_type": "markdown",
   "id": "cc65b83b",
   "metadata": {},
   "source": [
    "Kedi(), Hayvan() ın yaptığı her şeyi artık yapabilir. Ama  Hayvan(), Kedi() nin yaptığı her şeyi yapamaz"
   ]
  },
  {
   "cell_type": "markdown",
   "id": "c7aa4602",
   "metadata": {},
   "source": [
    "# "
   ]
  },
  {
   "cell_type": "markdown",
   "id": "b892966c",
   "metadata": {},
   "source": [
    "**Override** yapalım üzerine yazalım"
   ]
  },
  {
   "cell_type": "code",
   "execution_count": 93,
   "id": "e67b6fc3",
   "metadata": {},
   "outputs": [],
   "source": [
    "class Hayvan():\n",
    "    def __init__(self):\n",
    "        print(\"Hayvan sınıfı init çağırıldı\")\n",
    "        \n",
    "    def method1(self):\n",
    "        print(\" 'Hayvan sınıfı method1' çağırıldı\")\n",
    "        \n",
    "    def method2(self):\n",
    "        print(\"Hayvan sınıfı method2 çağırıldı\")\n",
    "        \n",
    "        \n",
    "class Kedi(Hayvan):   # Hayvan class ını burada miras aldık\n",
    "    def __init__(self):\n",
    "        Hayvan.__init__(self)\n",
    "        print(\"Kedi sınıfı init çağırıldı\")\n",
    "        \n",
    "    def miyavla(self):\n",
    "        print(\"miyav\")\n",
    "        \n",
    "    #override\n",
    "    def method1(self):\n",
    "        print(\" 'Kedi sınıfı method1' çağırıldı\")"
   ]
  },
  {
   "cell_type": "code",
   "execution_count": 94,
   "id": "69c922c6",
   "metadata": {},
   "outputs": [
    {
     "name": "stdout",
     "output_type": "stream",
     "text": [
      "Hayvan sınıfı init çağırıldı\n",
      "Kedi sınıfı init çağırıldı\n"
     ]
    }
   ],
   "source": [
    "digerKedi = Kedi()"
   ]
  },
  {
   "cell_type": "code",
   "execution_count": 95,
   "id": "1f85e80c",
   "metadata": {},
   "outputs": [
    {
     "name": "stdout",
     "output_type": "stream",
     "text": [
      "Hayvan sınıfı init çağırıldı\n"
     ]
    }
   ],
   "source": [
    "digerHayvan = Hayvan()"
   ]
  },
  {
   "cell_type": "code",
   "execution_count": 96,
   "id": "fb377d35",
   "metadata": {},
   "outputs": [
    {
     "name": "stdout",
     "output_type": "stream",
     "text": [
      " 'Kedi sınıfı method1' çağırıldı\n"
     ]
    }
   ],
   "source": [
    "digerKedi.method1()"
   ]
  },
  {
   "cell_type": "code",
   "execution_count": 97,
   "id": "ade0addb",
   "metadata": {},
   "outputs": [
    {
     "name": "stdout",
     "output_type": "stream",
     "text": [
      " 'Hayvan sınıfı method1' çağırıldı\n"
     ]
    }
   ],
   "source": [
    "digerHayvan.method1()"
   ]
  },
  {
   "cell_type": "markdown",
   "id": "d8a4a3f4",
   "metadata": {},
   "source": [
    "method1 iki class'ta da tanımlandı ve farklı değerler döndürdü"
   ]
  },
  {
   "cell_type": "markdown",
   "id": "ce9add25",
   "metadata": {},
   "source": [
    "# "
   ]
  },
  {
   "cell_type": "markdown",
   "id": "c19e5fa8",
   "metadata": {},
   "source": [
    "# Polymorphism - polimorfizm"
   ]
  },
  {
   "cell_type": "markdown",
   "id": "021f1248",
   "metadata": {},
   "source": [
    "Poly “çok” morph ise “form”, “biçim” anlamlarını taşır. Bu ikisinin birleşimiyle oluşan “polymorphism” sözcüğü “çok biçimlilik” anlamına gelir"
   ]
  },
  {
   "cell_type": "markdown",
   "id": "ff716f1e",
   "metadata": {},
   "source": [
    "Aynı isimde method/fonksiyonların farklı amaca hizmet edebilmesi"
   ]
  },
  {
   "cell_type": "code",
   "execution_count": 98,
   "id": "20fe2e74",
   "metadata": {},
   "outputs": [],
   "source": [
    "class Elma():\n",
    "    def __init__(self, isim):\n",
    "        self.isim = isim\n",
    "        \n",
    "    def bilgiVer(self):\n",
    "        return self.isim + \" 100 kaloridir \""
   ]
  },
  {
   "cell_type": "code",
   "execution_count": 99,
   "id": "9d109ede",
   "metadata": {},
   "outputs": [],
   "source": [
    "class Muz():\n",
    "    def __init__(self, isim):\n",
    "        self.isim = isim\n",
    "        \n",
    "    def bilgiVer(self):\n",
    "        return self.isim + \" 150 kaloridir \""
   ]
  },
  {
   "cell_type": "code",
   "execution_count": 100,
   "id": "e0dd3ded",
   "metadata": {},
   "outputs": [],
   "source": [
    "elma = Elma(\"elma\")"
   ]
  },
  {
   "cell_type": "code",
   "execution_count": 101,
   "id": "260324fa",
   "metadata": {},
   "outputs": [
    {
     "data": {
      "text/plain": [
       "'elma 100 kaloridir '"
      ]
     },
     "execution_count": 101,
     "metadata": {},
     "output_type": "execute_result"
    }
   ],
   "source": [
    "elma.bilgiVer()"
   ]
  },
  {
   "cell_type": "code",
   "execution_count": 102,
   "id": "b62c0d0b",
   "metadata": {},
   "outputs": [],
   "source": [
    "muz = Muz(\"muz\")"
   ]
  },
  {
   "cell_type": "code",
   "execution_count": 103,
   "id": "06bdf0f0",
   "metadata": {},
   "outputs": [
    {
     "data": {
      "text/plain": [
       "'muz 150 kaloridir '"
      ]
     },
     "execution_count": 103,
     "metadata": {},
     "output_type": "execute_result"
    }
   ],
   "source": [
    "muz.bilgiVer()"
   ]
  },
  {
   "cell_type": "code",
   "execution_count": 106,
   "id": "c823711f",
   "metadata": {},
   "outputs": [],
   "source": [
    "meyveListesi = [elma, muz]\n",
    "# meyveListesi içinde custom(gelenek) olarak kendi yazdığım sınıflardan oluşturduğum nesneler var"
   ]
  },
  {
   "cell_type": "code",
   "execution_count": 108,
   "id": "be73e526",
   "metadata": {},
   "outputs": [
    {
     "name": "stdout",
     "output_type": "stream",
     "text": [
      "elma 100 kaloridir \n",
      "muz 150 kaloridir \n"
     ]
    }
   ],
   "source": [
    "for meyve in meyveListesi:\n",
    "    print(meyve.bilgiVer())"
   ]
  },
  {
   "cell_type": "markdown",
   "id": "75de469a",
   "metadata": {},
   "source": [
    "bilgiVer() fonksiyonu ikisinde de var ve meyve.bilgiVer() olarak çağırdığımda her ikisi için de kendine has özellikleri ile çalıştı"
   ]
  },
  {
   "cell_type": "code",
   "execution_count": 110,
   "id": "afeace6d",
   "metadata": {},
   "outputs": [],
   "source": [
    "def bilgiAl(meyve):\n",
    "    print(meyve.bilgiVer())"
   ]
  },
  {
   "cell_type": "code",
   "execution_count": 111,
   "id": "d8db3c48",
   "metadata": {},
   "outputs": [
    {
     "name": "stdout",
     "output_type": "stream",
     "text": [
      "muz 150 kaloridir \n"
     ]
    }
   ],
   "source": [
    "bilgiAl(muz)"
   ]
  },
  {
   "cell_type": "code",
   "execution_count": 112,
   "id": "43f00e9a",
   "metadata": {},
   "outputs": [
    {
     "name": "stdout",
     "output_type": "stream",
     "text": [
      "elma 100 kaloridir \n"
     ]
    }
   ],
   "source": [
    "bilgiAl(elma)"
   ]
  },
  {
   "cell_type": "markdown",
   "id": "8a31cf20",
   "metadata": {},
   "source": [
    "bilgiAl() fonksiyonu içinde tek satırda meyve.bilgiVer() yazsam bile bilgiVer() fonk sonradan girdiğim her iki sınıfta da karşılığını bulduğu için tamamen o sınıfta yazılmış özelliklere göre çalıştırılır  "
   ]
  },
  {
   "cell_type": "code",
   "execution_count": null,
   "id": "14ffac2b",
   "metadata": {},
   "outputs": [],
   "source": []
  }
 ],
 "metadata": {
  "kernelspec": {
   "display_name": "Python 3 (ipykernel)",
   "language": "python",
   "name": "python3"
  },
  "language_info": {
   "codemirror_mode": {
    "name": "ipython",
    "version": 3
   },
   "file_extension": ".py",
   "mimetype": "text/x-python",
   "name": "python",
   "nbconvert_exporter": "python",
   "pygments_lexer": "ipython3",
   "version": "3.9.13"
  }
 },
 "nbformat": 4,
 "nbformat_minor": 5
}
