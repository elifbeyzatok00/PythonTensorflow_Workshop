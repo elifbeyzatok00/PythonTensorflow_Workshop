{
 "cells": [
  {
   "cell_type": "markdown",
   "id": "bea66fb3",
   "metadata": {},
   "source": [
    "# scope - kapsam"
   ]
  },
  {
   "cell_type": "markdown",
   "id": "d4fb2441",
   "metadata": {},
   "source": [
    "Scope-kapsam: Değişkenlerimiz ya da oluşturduğumuz objelerin; kapsamını, nerede çalıştırılabileceğini, nereden ulaşabileceğini belirten bir terim"
   ]
  },
  {
   "cell_type": "code",
   "execution_count": 1,
   "id": "4dc765e3",
   "metadata": {},
   "outputs": [],
   "source": [
    "numara = 20\n",
    "\n",
    "def carpma(rakam):\n",
    "    numara = 10\n",
    "    return numara * rakam"
   ]
  },
  {
   "cell_type": "code",
   "execution_count": 2,
   "id": "5b995f33",
   "metadata": {},
   "outputs": [
    {
     "data": {
      "text/plain": [
       "50"
      ]
     },
     "execution_count": 2,
     "metadata": {},
     "output_type": "execute_result"
    }
   ],
   "source": [
    "carpma(5)"
   ]
  },
  {
   "cell_type": "code",
   "execution_count": 3,
   "id": "04c7db3e",
   "metadata": {},
   "outputs": [
    {
     "name": "stdout",
     "output_type": "stream",
     "text": [
      "20\n"
     ]
    }
   ],
   "source": [
    "print(numara)"
   ]
  },
  {
   "cell_type": "code",
   "execution_count": 4,
   "id": "8111435d",
   "metadata": {},
   "outputs": [],
   "source": [
    "x = 20\n",
    "x = 10"
   ]
  },
  {
   "cell_type": "code",
   "execution_count": 5,
   "id": "f325f3ba",
   "metadata": {},
   "outputs": [
    {
     "data": {
      "text/plain": [
       "10"
      ]
     },
     "execution_count": 5,
     "metadata": {},
     "output_type": "execute_result"
    }
   ],
   "source": [
    "x"
   ]
  },
  {
   "cell_type": "markdown",
   "id": "a765119a",
   "metadata": {},
   "source": [
    "normalde bir değişken tekrar tanımlandığında en son verilen tanım kabul edilir.\n",
    "Ama burada bu kural bazı durumlarda farklılıklar gösterebilir"
   ]
  },
  {
   "cell_type": "markdown",
   "id": "6531ef8a",
   "metadata": {},
   "source": [
    "## Local, Enclosing, Global, Built-in  (LEGB Model)"
   ]
  },
  {
   "cell_type": "code",
   "execution_count": 6,
   "id": "78e32395",
   "metadata": {},
   "outputs": [],
   "source": [
    "adim = \"Elif\"\n",
    "#Global               \n",
    "\n",
    "def fonksiyon():\n",
    "    adim = \"Beyza\"     \n",
    "    #Enclosing\n",
    "    \n",
    "    def icFonksiyon():\n",
    "        adim = \"Tok\"  \n",
    "        #Local\n",
    "        print(adim)\n",
    "        \n",
    "    icFonksiyon() # icFonksiyon() u fonksiyon() içinde çağırdık\n",
    "    \n",
    "#"
   ]
  },
  {
   "cell_type": "code",
   "execution_count": 7,
   "id": "d2ac4619",
   "metadata": {},
   "outputs": [
    {
     "name": "stdout",
     "output_type": "stream",
     "text": [
      "Tok\n"
     ]
    }
   ],
   "source": [
    "fonksiyon()"
   ]
  },
  {
   "cell_type": "code",
   "execution_count": 8,
   "id": "29186dfb",
   "metadata": {},
   "outputs": [
    {
     "name": "stdout",
     "output_type": "stream",
     "text": [
      "Elif\n"
     ]
    }
   ],
   "source": [
    "print(adim)"
   ]
  },
  {
   "cell_type": "raw",
   "id": "9e2cfc94",
   "metadata": {},
   "source": [
    "İlk olarak en içteki fonksiyona bakar. **local** değişkene\n",
    "Eğer burada aranan değişken tanımlı değilse bir üste bakar ve **enclosing** i alır\n",
    "Enclosing de yoksa dışa çıkar ve **global** i alırdı\n",
    "Global de olmasaydı **Built-in** e yani pythonda var mı tanımlanmış mı ona bakacar.\n",
    "orada da yoksa hata verir"
   ]
  },
  {
   "cell_type": "code",
   "execution_count": 23,
   "id": "1b482c13",
   "metadata": {},
   "outputs": [],
   "source": [
    "y = 10\n",
    "#global\n",
    "\n",
    "def yeniFonksiyon(y):\n",
    "    print(y)  #3 - parametre ile geldi\n",
    "    y=5 #local\n",
    "    print(y)  #5 - local değişken ile geldi\n",
    "    return y  #5 -en son local değişken ile ne tanımlandıysa o geldi\n",
    "    "
   ]
  },
  {
   "cell_type": "code",
   "execution_count": 24,
   "id": "735c7248",
   "metadata": {},
   "outputs": [
    {
     "name": "stdout",
     "output_type": "stream",
     "text": [
      "3\n",
      "5\n"
     ]
    },
    {
     "data": {
      "text/plain": [
       "5"
      ]
     },
     "execution_count": 24,
     "metadata": {},
     "output_type": "execute_result"
    }
   ],
   "source": [
    "yeniFonksiyon(3)"
   ]
  },
  {
   "cell_type": "markdown",
   "id": "36331906",
   "metadata": {},
   "source": [
    "yeniFonksiyon'da zaten local tanımlı olan değişken olduğu için global e bakmadı."
   ]
  },
  {
   "cell_type": "code",
   "execution_count": 25,
   "id": "86b6eafd",
   "metadata": {},
   "outputs": [
    {
     "data": {
      "text/plain": [
       "10"
      ]
     },
     "execution_count": 25,
     "metadata": {},
     "output_type": "execute_result"
    }
   ],
   "source": [
    "y"
   ]
  },
  {
   "cell_type": "markdown",
   "id": "07fe5534",
   "metadata": {},
   "source": [
    "Ama y çağırıldığında global olan değişken değeri geldi"
   ]
  },
  {
   "cell_type": "markdown",
   "id": "9eed6cd3",
   "metadata": {},
   "source": [
    "Global'deki değişkeni fonksiyon içindeki değişkenler ile değiştirmek istiyorum. Ne yaparım?"
   ]
  },
  {
   "cell_type": "code",
   "execution_count": 26,
   "id": "8b95dbb4",
   "metadata": {},
   "outputs": [
    {
     "name": "stdout",
     "output_type": "stream",
     "text": [
      "3\n",
      "5\n"
     ]
    }
   ],
   "source": [
    "y = yeniFonksiyon(3)"
   ]
  },
  {
   "cell_type": "code",
   "execution_count": 27,
   "id": "5d312563",
   "metadata": {},
   "outputs": [
    {
     "data": {
      "text/plain": [
       "5"
      ]
     },
     "execution_count": 27,
     "metadata": {},
     "output_type": "execute_result"
    }
   ],
   "source": [
    "y"
   ]
  },
  {
   "cell_type": "markdown",
   "id": "2a91fbea",
   "metadata": {},
   "source": [
    "yukarıdaki gibi y değişkenine ilgili fonksiyon ataması yapılarak"
   ]
  },
  {
   "cell_type": "markdown",
   "id": "14f32b8c",
   "metadata": {},
   "source": [
    "# "
   ]
  },
  {
   "cell_type": "raw",
   "id": "f5aa19e8",
   "metadata": {},
   "source": [
    "Ama bu tarz durumlarda bazı sorunlar çıkabilir.\n",
    "**Fonksiyon return yapmıyor olabilir.**\n",
    "Bir de bu tarz durumlar karşımıza çok çıkacağı için istersek \n",
    "**global değişkeni fonksiyon içerisinde kullanabilecek hale getirebiliriz**"
   ]
  },
  {
   "cell_type": "markdown",
   "id": "a810d9df",
   "metadata": {},
   "source": [
    "###### global değişkeni fonksiyon içerisinde kullanabilecek hale getirelim "
   ]
  },
  {
   "cell_type": "code",
   "execution_count": 28,
   "id": "0594544d",
   "metadata": {},
   "outputs": [],
   "source": [
    "y = 10\n",
    "\n",
    "def ornekFonksiyon():\n",
    "    global y\n",
    "    y = 5\n",
    "    print(y) #y =  5 verildiği için"
   ]
  },
  {
   "cell_type": "code",
   "execution_count": 29,
   "id": "2ab52807",
   "metadata": {},
   "outputs": [
    {
     "name": "stdout",
     "output_type": "stream",
     "text": [
      "5\n"
     ]
    }
   ],
   "source": [
    "ornekFonksiyon()"
   ]
  },
  {
   "cell_type": "code",
   "execution_count": 30,
   "id": "66b19da1",
   "metadata": {},
   "outputs": [
    {
     "data": {
      "text/plain": [
       "5"
      ]
     },
     "execution_count": 30,
     "metadata": {},
     "output_type": "execute_result"
    }
   ],
   "source": [
    "y"
   ]
  },
  {
   "cell_type": "markdown",
   "id": "e7cfd315",
   "metadata": {},
   "source": [
    "global y de artık 5 oldu"
   ]
  },
  {
   "cell_type": "markdown",
   "id": "3ed19b40",
   "metadata": {},
   "source": [
    "# "
   ]
  },
  {
   "cell_type": "code",
   "execution_count": null,
   "id": "ce9e7761",
   "metadata": {},
   "outputs": [],
   "source": []
  }
 ],
 "metadata": {
  "kernelspec": {
   "display_name": "Python 3 (ipykernel)",
   "language": "python",
   "name": "python3"
  },
  "language_info": {
   "codemirror_mode": {
    "name": "ipython",
    "version": 3
   },
   "file_extension": ".py",
   "mimetype": "text/x-python",
   "name": "python",
   "nbconvert_exporter": "python",
   "pygments_lexer": "ipython3",
   "version": "3.9.13"
  }
 },
 "nbformat": 4,
 "nbformat_minor": 5
}
