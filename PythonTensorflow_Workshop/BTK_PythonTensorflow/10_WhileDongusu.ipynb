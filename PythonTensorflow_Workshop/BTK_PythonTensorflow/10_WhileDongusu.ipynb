{
 "cells": [
  {
   "cell_type": "code",
   "execution_count": 1,
   "id": "9f19ddd1",
   "metadata": {},
   "outputs": [
    {
     "name": "stdout",
     "output_type": "stream",
     "text": [
      "0\n",
      "1\n",
      "2\n",
      "3\n",
      "4\n",
      "5\n",
      "6\n",
      "7\n",
      "8\n",
      "9\n",
      "10\n"
     ]
    }
   ],
   "source": [
    "x = 0\n",
    "while x <= 10:\n",
    "    print(x)\n",
    "    x = x + 1"
   ]
  },
  {
   "cell_type": "code",
   "execution_count": 2,
   "id": "76162b1c",
   "metadata": {},
   "outputs": [],
   "source": [
    "liste = [1,2,3,4,5]"
   ]
  },
  {
   "cell_type": "code",
   "execution_count": 3,
   "id": "0e2e112b",
   "metadata": {},
   "outputs": [
    {
     "data": {
      "text/plain": [
       "[1, 2, 3, 4, 5]"
      ]
     },
     "execution_count": 3,
     "metadata": {},
     "output_type": "execute_result"
    }
   ],
   "source": [
    "liste"
   ]
  },
  {
   "cell_type": "code",
   "execution_count": 4,
   "id": "e281ff02",
   "metadata": {},
   "outputs": [
    {
     "data": {
      "text/plain": [
       "5"
      ]
     },
     "execution_count": 4,
     "metadata": {},
     "output_type": "execute_result"
    }
   ],
   "source": [
    "liste.pop() #son elemanı siler"
   ]
  },
  {
   "cell_type": "code",
   "execution_count": 5,
   "id": "fd95fee7",
   "metadata": {},
   "outputs": [
    {
     "data": {
      "text/plain": [
       "[1, 2, 3, 4]"
      ]
     },
     "execution_count": 5,
     "metadata": {},
     "output_type": "execute_result"
    }
   ],
   "source": [
    "liste"
   ]
  },
  {
   "cell_type": "code",
   "execution_count": 6,
   "id": "4f3a1c29",
   "metadata": {},
   "outputs": [],
   "source": [
    "liste.append(5)  #eleman ekler"
   ]
  },
  {
   "cell_type": "code",
   "execution_count": 7,
   "id": "39af3c26",
   "metadata": {},
   "outputs": [
    {
     "data": {
      "text/plain": [
       "[1, 2, 3, 4, 5]"
      ]
     },
     "execution_count": 7,
     "metadata": {},
     "output_type": "execute_result"
    }
   ],
   "source": [
    "liste"
   ]
  },
  {
   "cell_type": "code",
   "execution_count": 8,
   "id": "7ce94860",
   "metadata": {},
   "outputs": [
    {
     "name": "stdout",
     "output_type": "stream",
     "text": [
      "3 hala listenin içinde\n",
      "3 hala listenin içinde\n",
      "3 hala listenin içinde\n"
     ]
    }
   ],
   "source": [
    "while 3 in liste:\n",
    "    print(\"3 hala listenin içinde\")\n",
    "    liste.pop()"
   ]
  },
  {
   "cell_type": "code",
   "execution_count": 9,
   "id": "4c00950d",
   "metadata": {},
   "outputs": [],
   "source": [
    "numara = 0"
   ]
  },
  {
   "cell_type": "code",
   "execution_count": 11,
   "id": "65403924",
   "metadata": {},
   "outputs": [
    {
     "name": "stdout",
     "output_type": "stream",
     "text": [
      "0\n",
      "1\n",
      "2\n",
      "3\n"
     ]
    }
   ],
   "source": [
    "while numara < 5:\n",
    "    if numara == 4:\n",
    "        break\n",
    "    print(numara)\n",
    "    numara = numara + 1"
   ]
  },
  {
   "cell_type": "code",
   "execution_count": 22,
   "id": "7544947e",
   "metadata": {},
   "outputs": [],
   "source": [
    "yeniDegisken = 0"
   ]
  },
  {
   "cell_type": "code",
   "execution_count": 23,
   "id": "cf2cac66",
   "metadata": {},
   "outputs": [
    {
     "name": "stdout",
     "output_type": "stream",
     "text": [
      "yeniDegiskenin güncel değeri: 0\n",
      "yeniDegiskenin güncel değeri: 1\n",
      "yeniDegiskenin güncel değeri: 2\n",
      "yeniDegiskenin güncel değeri: 3\n",
      "yeniDegiskenin güncel değeri: 4\n",
      "yeniDegiskenin güncel değeri: 5\n",
      "yeniDegiskenin güncel değeri: 6\n",
      "yeniDegiskenin güncel değeri: 7\n",
      "yeniDegiskenin güncel değeri: 8\n",
      "yeniDegiskenin güncel değeri: 9\n",
      "yeniDegiskenin güncel değeri: 10\n",
      "yeniDegiskenin güncel değeri: 11\n",
      "yeniDegiskenin güncel değeri: 12\n",
      "yeniDegiskenin güncel değeri: 13\n",
      "yeniDegiskenin güncel değeri: 14\n"
     ]
    }
   ],
   "source": [
    "while yeniDegisken < 15:\n",
    "    print(\"yeniDegiskenin güncel değeri: \"+ str(yeniDegisken)) \n",
    "    yeniDegisken = yeniDegisken + 1"
   ]
  },
  {
   "cell_type": "markdown",
   "id": "515ef98b",
   "metadata": {},
   "source": [
    "str(yeniDegisken) 'ten daha yaygın kullanılan yöntemi yapalım"
   ]
  },
  {
   "cell_type": "code",
   "execution_count": 24,
   "id": "e007592a",
   "metadata": {},
   "outputs": [
    {
     "name": "stdout",
     "output_type": "stream",
     "text": [
      "yeniDegiske2'nin güncel değeri: 0\n",
      "yeniDegiske2'nin güncel değeri: 1\n",
      "yeniDegiske2'nin güncel değeri: 2\n",
      "yeniDegiske2'nin güncel değeri: 3\n",
      "yeniDegiske2'nin güncel değeri: 4\n",
      "yeniDegiske2'nin güncel değeri: 5\n",
      "yeniDegiske2'nin güncel değeri: 6\n",
      "yeniDegiske2'nin güncel değeri: 7\n",
      "yeniDegiske2'nin güncel değeri: 8\n",
      "yeniDegiske2'nin güncel değeri: 9\n",
      "yeniDegiske2'nin güncel değeri: 10\n",
      "yeniDegiske2'nin güncel değeri: 11\n",
      "yeniDegiske2'nin güncel değeri: 12\n",
      "yeniDegiske2'nin güncel değeri: 13\n",
      "yeniDegiske2'nin güncel değeri: 14\n"
     ]
    }
   ],
   "source": [
    "yeniDegisken2 = 0\n",
    "while yeniDegisken2 < 15:\n",
    "    print(f\"yeniDegiske2'nin güncel değeri: {yeniDegisken2}\") \n",
    "    yeniDegisken2 = yeniDegisken2 + 1"
   ]
  },
  {
   "cell_type": "markdown",
   "id": "261fd6a9",
   "metadata": {},
   "source": [
    "f-format, f ile formatlama yapılır. int değişkenin formatını str yaptık"
   ]
  },
  {
   "cell_type": "code",
   "execution_count": null,
   "id": "d6baaf14",
   "metadata": {},
   "outputs": [],
   "source": []
  }
 ],
 "metadata": {
  "kernelspec": {
   "display_name": "Python 3 (ipykernel)",
   "language": "python",
   "name": "python3"
  },
  "language_info": {
   "codemirror_mode": {
    "name": "ipython",
    "version": 3
   },
   "file_extension": ".py",
   "mimetype": "text/x-python",
   "name": "python",
   "nbconvert_exporter": "python",
   "pygments_lexer": "ipython3",
   "version": "3.9.13"
  }
 },
 "nbformat": 4,
 "nbformat_minor": 5
}
