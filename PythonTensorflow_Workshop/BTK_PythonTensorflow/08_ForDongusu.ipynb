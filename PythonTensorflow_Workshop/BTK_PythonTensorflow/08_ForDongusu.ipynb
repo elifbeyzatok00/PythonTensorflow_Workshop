{
 "cells": [
  {
   "cell_type": "code",
   "execution_count": 1,
   "id": "2004b5c8",
   "metadata": {},
   "outputs": [],
   "source": [
    "liste = [10, 20, 30, 40, 50]"
   ]
  },
  {
   "cell_type": "code",
   "execution_count": 8,
   "id": "aca439b6",
   "metadata": {},
   "outputs": [
    {
     "data": {
      "text/plain": [
       "list"
      ]
     },
     "execution_count": 8,
     "metadata": {},
     "output_type": "execute_result"
    }
   ],
   "source": [
    "type(liste)"
   ]
  },
  {
   "cell_type": "code",
   "execution_count": 2,
   "id": "501d2306",
   "metadata": {},
   "outputs": [
    {
     "name": "stdout",
     "output_type": "stream",
     "text": [
      "evet içerisinde mevcut\n"
     ]
    }
   ],
   "source": [
    "if 10 in liste:\n",
    "    print(\"evet içerisinde mevcut\")"
   ]
  },
  {
   "cell_type": "code",
   "execution_count": 3,
   "id": "a0a8b823",
   "metadata": {},
   "outputs": [
    {
     "data": {
      "text/plain": [
       "16.666666666666668"
      ]
     },
     "execution_count": 3,
     "metadata": {},
     "output_type": "execute_result"
    }
   ],
   "source": [
    "liste[0] * 5 / 3"
   ]
  },
  {
   "cell_type": "code",
   "execution_count": 4,
   "id": "4e3ba6b4",
   "metadata": {},
   "outputs": [
    {
     "data": {
      "text/plain": [
       "33.333333333333336"
      ]
     },
     "execution_count": 4,
     "metadata": {},
     "output_type": "execute_result"
    }
   ],
   "source": [
    "liste[1] * 5 / 3"
   ]
  },
  {
   "cell_type": "code",
   "execution_count": 13,
   "id": "8dbc29a5",
   "metadata": {},
   "outputs": [
    {
     "name": "stdout",
     "output_type": "stream",
     "text": [
      "döngü başladı\n",
      "10\n",
      "20\n",
      "30\n",
      "40\n",
      "50\n",
      "döngü bitti\n"
     ]
    }
   ],
   "source": [
    "print(\"döngü başladı\")\n",
    "for numara in liste:\n",
    "    print(numara)\n",
    "print(\"döngü bitti\")"
   ]
  },
  {
   "cell_type": "code",
   "execution_count": 14,
   "id": "1601e894",
   "metadata": {},
   "outputs": [
    {
     "data": {
      "text/plain": [
       "int"
      ]
     },
     "execution_count": 14,
     "metadata": {},
     "output_type": "execute_result"
    }
   ],
   "source": [
    "type(numara)"
   ]
  },
  {
   "cell_type": "markdown",
   "id": "2c13e1a3",
   "metadata": {},
   "source": [
    "numara adlı int değişkeni içine liste içindeki elemanlar sırayla atılıp yazdırılır"
   ]
  },
  {
   "cell_type": "code",
   "execution_count": 16,
   "id": "c84ceee7",
   "metadata": {},
   "outputs": [
    {
     "name": "stdout",
     "output_type": "stream",
     "text": [
      "döngü başladı\n",
      "16.666666666666668\n",
      "33.333333333333336\n",
      "50.0\n",
      "66.66666666666667\n",
      "83.33333333333333\n",
      "döngü bitti\n"
     ]
    }
   ],
   "source": [
    "print(\"döngü başladı\")\n",
    "for numara in liste:\n",
    "    print(numara * 5 / 3 )\n",
    "print(\"döngü bitti\")"
   ]
  },
  {
   "cell_type": "code",
   "execution_count": 17,
   "id": "3f82537d",
   "metadata": {},
   "outputs": [
    {
     "name": "stdout",
     "output_type": "stream",
     "text": [
      "16.666666666666668\n",
      "33.333333333333336\n",
      "50.0\n",
      "66.66666666666667\n",
      "83.33333333333333\n"
     ]
    }
   ],
   "source": [
    "for num in liste:\n",
    "    yeniNumara = num * 5 / 3\n",
    "    print(yeniNumara )"
   ]
  },
  {
   "cell_type": "code",
   "execution_count": 18,
   "id": "45aaea93",
   "metadata": {},
   "outputs": [],
   "source": [
    "yeniListe = [1, 2, 3, 4, 5, 6]"
   ]
  },
  {
   "cell_type": "code",
   "execution_count": 23,
   "id": "d1c6073a",
   "metadata": {},
   "outputs": [
    {
     "name": "stdout",
     "output_type": "stream",
     "text": [
      "1 ikiye bölünmez\n",
      "2 ikiye bölünür\n",
      "3 ikiye bölünmez\n",
      "4 ikiye bölünür\n",
      "5 ikiye bölünmez\n",
      "6 ikiye bölünür\n"
     ]
    }
   ],
   "source": [
    "for rakam in yeniListe:\n",
    "    if rakam % 2 == 0:\n",
    "        strRakam = str(rakam)\n",
    "        print(strRakam + \" ikiye bölünür\")\n",
    "    else:\n",
    "        strRakam = str(rakam)\n",
    "        print(strRakam + \" ikiye bölünmez\")"
   ]
  },
  {
   "cell_type": "code",
   "execution_count": null,
   "id": "39a46100",
   "metadata": {},
   "outputs": [],
   "source": []
  }
 ],
 "metadata": {
  "kernelspec": {
   "display_name": "Python 3 (ipykernel)",
   "language": "python",
   "name": "python3"
  },
  "language_info": {
   "codemirror_mode": {
    "name": "ipython",
    "version": 3
   },
   "file_extension": ".py",
   "mimetype": "text/x-python",
   "name": "python",
   "nbconvert_exporter": "python",
   "pygments_lexer": "ipython3",
   "version": "3.9.13"
  }
 },
 "nbformat": 4,
 "nbformat_minor": 5
}
