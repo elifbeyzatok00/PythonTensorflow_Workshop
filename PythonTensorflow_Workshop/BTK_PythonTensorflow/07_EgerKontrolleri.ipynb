{
 "cells": [
  {
   "cell_type": "code",
   "execution_count": 1,
   "id": "ff457091",
   "metadata": {},
   "outputs": [
    {
     "data": {
      "text/plain": [
       "True"
      ]
     },
     "execution_count": 1,
     "metadata": {},
     "output_type": "execute_result"
    }
   ],
   "source": [
    "3 > 1"
   ]
  },
  {
   "cell_type": "markdown",
   "id": "691a36bc",
   "metadata": {},
   "source": [
    "### boşluklar pythonda önemlidir"
   ]
  },
  {
   "cell_type": "markdown",
   "id": "ff2c7632",
   "metadata": {},
   "source": [
    "if koşulu true dönerse aşağıdaki satırlarda 1 tab boşluk bırakılan satırlar çalışır."
   ]
  },
  {
   "cell_type": "markdown",
   "id": "5541300f",
   "metadata": {},
   "source": [
    "if koşulu false dönerse aşağıdaki satırlarda 1 tab boşluk bırakılmayan satırlar çalışır"
   ]
  },
  {
   "cell_type": "code",
   "execution_count": 12,
   "id": "0e2b9e00",
   "metadata": {},
   "outputs": [
    {
     "name": "stdout",
     "output_type": "stream",
     "text": [
      "elif beyza tok\n",
      "if kosulu sağlandı\n"
     ]
    }
   ],
   "source": [
    "if 3 > 1:  #true\n",
    "    print(\"elif beyza tok\")\n",
    "    print(\"if kosulu sağlandı\")"
   ]
  },
  {
   "cell_type": "code",
   "execution_count": 15,
   "id": "59466b1c",
   "metadata": {},
   "outputs": [
    {
     "name": "stdout",
     "output_type": "stream",
     "text": [
      "elif beyza tok\n",
      "if kosulu sağlandı\n",
      "if koşulunun dışına çıktık\n"
     ]
    }
   ],
   "source": [
    "if 3 > 1:  #true\n",
    "    print(\"elif beyza tok\")\n",
    "    print(\"if kosulu sağlandı\")\n",
    "print(\"if koşulunun dışına çıktık\")\n",
    "#1 tab boşluk bırakılan satırlar bitince if koşulunun işi bitti, if koşulunun dışına çıktık o yüzden son satır da çalıştı"
   ]
  },
  {
   "cell_type": "code",
   "execution_count": 16,
   "id": "e1a84da3",
   "metadata": {},
   "outputs": [
    {
     "name": "stdout",
     "output_type": "stream",
     "text": [
      "if koşulunun dışına çıktık\n"
     ]
    }
   ],
   "source": [
    "if 3 > 4:  #false\n",
    "    print(\"elif beyza tok\")\n",
    "    print(\"if kosulu sağlandı\")\n",
    "print(\"if koşulunun dışına çıktık\")"
   ]
  },
  {
   "cell_type": "markdown",
   "id": "a5a7ebe8",
   "metadata": {},
   "source": []
  },
  {
   "cell_type": "markdown",
   "id": "fb37a4b4",
   "metadata": {},
   "source": [
    "# "
   ]
  },
  {
   "cell_type": "code",
   "execution_count": 20,
   "id": "6c53e98c",
   "metadata": {},
   "outputs": [],
   "source": [
    "x = 5"
   ]
  },
  {
   "cell_type": "code",
   "execution_count": 21,
   "id": "15bdc3f9",
   "metadata": {},
   "outputs": [],
   "source": [
    "y = 4"
   ]
  },
  {
   "cell_type": "code",
   "execution_count": 22,
   "id": "6ba075ea",
   "metadata": {},
   "outputs": [
    {
     "name": "stdout",
     "output_type": "stream",
     "text": [
      "x, y'den daha büyüktür.\n"
     ]
    }
   ],
   "source": [
    "if x > y:\n",
    "    print(\"x, y'den daha büyüktür.\")"
   ]
  },
  {
   "cell_type": "code",
   "execution_count": 24,
   "id": "db5937ab",
   "metadata": {},
   "outputs": [],
   "source": [
    "x = 4"
   ]
  },
  {
   "cell_type": "code",
   "execution_count": 25,
   "id": "5e1b0d56",
   "metadata": {},
   "outputs": [],
   "source": [
    "y = 5"
   ]
  },
  {
   "cell_type": "code",
   "execution_count": 26,
   "id": "a9fb64f8",
   "metadata": {},
   "outputs": [
    {
     "name": "stdout",
     "output_type": "stream",
     "text": [
      "y, x'den daha büyükmüş\n"
     ]
    }
   ],
   "source": [
    "if x > y:\n",
    "    print(\"x, y'den daha büyüktür.\")\n",
    "elif y > x:\n",
    "    print(\"y, x'den daha büyükmüş\")\n"
   ]
  },
  {
   "cell_type": "code",
   "execution_count": 34,
   "id": "775e3e16",
   "metadata": {},
   "outputs": [],
   "source": [
    "x = 2"
   ]
  },
  {
   "cell_type": "code",
   "execution_count": 35,
   "id": "d2de2b6f",
   "metadata": {},
   "outputs": [],
   "source": [
    "y = 2"
   ]
  },
  {
   "cell_type": "code",
   "execution_count": 36,
   "id": "afb6884f",
   "metadata": {},
   "outputs": [
    {
     "name": "stdout",
     "output_type": "stream",
     "text": [
      "y ve x birbirine eşitmiş\n"
     ]
    }
   ],
   "source": [
    "if x > y:\n",
    "    print(\"x, y'den daha büyüktür.\")\n",
    "elif y > x:\n",
    "    print(\"y, x'den daha büyükmüş\")\n",
    "else:\n",
    "    print(\"y ve x birbirine eşitmiş\")"
   ]
  },
  {
   "cell_type": "markdown",
   "id": "fea216f1",
   "metadata": {},
   "source": [
    "# "
   ]
  },
  {
   "cell_type": "code",
   "execution_count": 12,
   "id": "f3fa8a17",
   "metadata": {},
   "outputs": [
    {
     "name": "stdout",
     "output_type": "stream",
     "text": [
      "Super Kahraman seçiniz: Aquaman\n"
     ]
    }
   ],
   "source": [
    "kahraman = input(\"Super Kahraman seçiniz: \")"
   ]
  },
  {
   "cell_type": "code",
   "execution_count": 13,
   "id": "c9a505ec",
   "metadata": {},
   "outputs": [
    {
     "data": {
      "text/plain": [
       "'Aquaman'"
      ]
     },
     "execution_count": 13,
     "metadata": {},
     "output_type": "execute_result"
    }
   ],
   "source": [
    "kahraman"
   ]
  },
  {
   "cell_type": "code",
   "execution_count": 14,
   "id": "c727c021",
   "metadata": {},
   "outputs": [
    {
     "name": "stdout",
     "output_type": "stream",
     "text": [
      "Bu kim gerçekten bilmiyoruz\n"
     ]
    }
   ],
   "source": [
    "if kahraman == \"Batman\":\n",
    "    print(\"Batman'i seçtiniz tebrikler.\")\n",
    "elif kahraman == \"Superman\":\n",
    "    print(\"Keşke Batman'i seçseydiniz\")\n",
    "elif kahraman == \"Ironman\":\n",
    "    print(\"Ironman kimdir?\")\n",
    "else:\n",
    "    print(\"Bu kim gerçekten bilmiyoruz\")"
   ]
  },
  {
   "cell_type": "code",
   "execution_count": 15,
   "id": "1f042361",
   "metadata": {},
   "outputs": [],
   "source": [
    "a = 10\n",
    "b = 20\n",
    "c = 30"
   ]
  },
  {
   "cell_type": "code",
   "execution_count": 16,
   "id": "abb1be78",
   "metadata": {},
   "outputs": [
    {
     "name": "stdout",
     "output_type": "stream",
     "text": [
      "a, b'den küçük VE b de c'den küçük\n"
     ]
    }
   ],
   "source": [
    "if a > b and b > c:\n",
    "    print(\"a, b'den büyük VE b de c'den büyük\")\n",
    "elif a < b and b < c:\n",
    "    print(\"a, b'den küçük VE b de c'den küçük\")\n",
    "else:\n",
    "    print(\"bu koşullar tutmadı\")"
   ]
  },
  {
   "cell_type": "code",
   "execution_count": 17,
   "id": "a379b656",
   "metadata": {},
   "outputs": [],
   "source": [
    "m = 10\n",
    "k = 4\n",
    "l = 1"
   ]
  },
  {
   "cell_type": "code",
   "execution_count": 18,
   "id": "bd6b49fa",
   "metadata": {},
   "outputs": [
    {
     "name": "stdout",
     "output_type": "stream",
     "text": [
      "bu çalıştırılacak mı?\n"
     ]
    }
   ],
   "source": [
    "if m > k or k > l:\n",
    "    print(\"bu çalıştırılacak mı?\")"
   ]
  },
  {
   "cell_type": "markdown",
   "id": "919b173a",
   "metadata": {},
   "source": [
    "# "
   ]
  },
  {
   "cell_type": "code",
   "execution_count": 19,
   "id": "1ef401a0",
   "metadata": {},
   "outputs": [],
   "source": [
    "karakterCanli = True"
   ]
  },
  {
   "cell_type": "code",
   "execution_count": 20,
   "id": "c8642119",
   "metadata": {},
   "outputs": [
    {
     "name": "stdout",
     "output_type": "stream",
     "text": [
      "oyun karakteriniz yaşıyor\n"
     ]
    }
   ],
   "source": [
    "if karakterCanli == True:\n",
    "    print(\"oyun karakteriniz yaşıyor\")\n",
    "else:\n",
    "    print(\"oyun karakteriniz yaşamıyor\")"
   ]
  },
  {
   "cell_type": "code",
   "execution_count": 21,
   "id": "ffe0512d",
   "metadata": {},
   "outputs": [
    {
     "name": "stdout",
     "output_type": "stream",
     "text": [
      "oyun karakteriniz yaşıyor\n"
     ]
    }
   ],
   "source": [
    "if karakterCanli:     # if default u  == true dur \n",
    "    print(\"oyun karakteriniz yaşıyor\")\n",
    "else:\n",
    "    print(\"oyun karakteriniz yaşamıyor\")"
   ]
  },
  {
   "cell_type": "code",
   "execution_count": 22,
   "id": "088f5a6d",
   "metadata": {},
   "outputs": [],
   "source": [
    "if not karakterCanli:\n",
    "    print(\"oyun karakteriniz yaşamıyor\")"
   ]
  },
  {
   "cell_type": "code",
   "execution_count": 23,
   "id": "2734493a",
   "metadata": {},
   "outputs": [],
   "source": [
    "string = \"Elif Beyza\""
   ]
  },
  {
   "cell_type": "code",
   "execution_count": 25,
   "id": "3aaac6dc",
   "metadata": {},
   "outputs": [
    {
     "name": "stdout",
     "output_type": "stream",
     "text": [
      "eşit değilmiş\n"
     ]
    }
   ],
   "source": [
    "if string == \"elif beyza\":\n",
    "    print(\"eşitmiş\")\n",
    "else:\n",
    "    print(\"eşit değilmiş\")"
   ]
  },
  {
   "cell_type": "markdown",
   "id": "5ce0be99",
   "metadata": {},
   "source": [
    "# String içinde veri aramak"
   ]
  },
  {
   "cell_type": "code",
   "execution_count": 26,
   "id": "281467e8",
   "metadata": {},
   "outputs": [
    {
     "name": "stdout",
     "output_type": "stream",
     "text": [
      "varmış\n"
     ]
    }
   ],
   "source": [
    "if \"Beyza\" in string:\n",
    "    print(\"varmış\")\n",
    "else:\n",
    "    print(\"yokmuş\")"
   ]
  },
  {
   "cell_type": "code",
   "execution_count": 27,
   "id": "b456e796",
   "metadata": {},
   "outputs": [
    {
     "name": "stdout",
     "output_type": "stream",
     "text": [
      "varmış\n"
     ]
    }
   ],
   "source": [
    "if \"if Beyza\" in string:\n",
    "    print(\"varmış\")\n",
    "else:\n",
    "    print(\"yokmuş\")"
   ]
  },
  {
   "cell_type": "code",
   "execution_count": 28,
   "id": "37349482",
   "metadata": {},
   "outputs": [],
   "source": [
    "list = [10, 20, 30, 40, 50]"
   ]
  },
  {
   "cell_type": "code",
   "execution_count": 30,
   "id": "7b1b6abf",
   "metadata": {},
   "outputs": [
    {
     "name": "stdout",
     "output_type": "stream",
     "text": [
      "yokmuş\n"
     ]
    }
   ],
   "source": [
    "if 60 in list:\n",
    "    print(\"evet var\")\n",
    "else:\n",
    "    print(\"yokmuş\")"
   ]
  },
  {
   "cell_type": "code",
   "execution_count": 31,
   "id": "922dfc47",
   "metadata": {},
   "outputs": [],
   "source": [
    "sozluk = {\"muz\": 100, \"elma\": 150, \"karpuz\": 500}"
   ]
  },
  {
   "cell_type": "code",
   "execution_count": 33,
   "id": "a26e499e",
   "metadata": {},
   "outputs": [
    {
     "data": {
      "text/plain": [
       "dict_keys(['muz', 'elma', 'karpuz'])"
      ]
     },
     "execution_count": 33,
     "metadata": {},
     "output_type": "execute_result"
    }
   ],
   "source": [
    "sozluk.keys()"
   ]
  },
  {
   "cell_type": "code",
   "execution_count": 34,
   "id": "4d1818f7",
   "metadata": {},
   "outputs": [
    {
     "name": "stdout",
     "output_type": "stream",
     "text": [
      "evet var\n"
     ]
    }
   ],
   "source": [
    "if \"muz\" in sozluk.keys():\n",
    "    print(\"evet var\")\n",
    "else:\n",
    "    print(\"yokmuş\")"
   ]
  },
  {
   "cell_type": "code",
   "execution_count": 35,
   "id": "cedd915a",
   "metadata": {},
   "outputs": [
    {
     "name": "stdout",
     "output_type": "stream",
     "text": [
      "yokmuş\n"
     ]
    }
   ],
   "source": [
    "if 250 in sozluk.values():\n",
    "    print(\"evet var\")\n",
    "else:\n",
    "    print(\"yokmuş\")"
   ]
  },
  {
   "cell_type": "code",
   "execution_count": null,
   "id": "d3fa344c",
   "metadata": {},
   "outputs": [],
   "source": []
  }
 ],
 "metadata": {
  "kernelspec": {
   "display_name": "Python 3 (ipykernel)",
   "language": "python",
   "name": "python3"
  },
  "language_info": {
   "codemirror_mode": {
    "name": "ipython",
    "version": 3
   },
   "file_extension": ".py",
   "mimetype": "text/x-python",
   "name": "python",
   "nbconvert_exporter": "python",
   "pygments_lexer": "ipython3",
   "version": "3.9.13"
  }
 },
 "nbformat": 4,
 "nbformat_minor": 5
}
