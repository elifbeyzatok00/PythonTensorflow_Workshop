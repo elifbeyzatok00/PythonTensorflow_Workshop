{
 "cells": [
  {
   "cell_type": "code",
   "execution_count": 1,
   "id": "0e5eb143",
   "metadata": {},
   "outputs": [],
   "source": [
    "liste = [0,1,2,3,4,5,6]"
   ]
  },
  {
   "cell_type": "code",
   "execution_count": 2,
   "id": "e09cbff7",
   "metadata": {},
   "outputs": [
    {
     "name": "stdout",
     "output_type": "stream",
     "text": [
      "0\n",
      "1\n",
      "2\n",
      "3\n",
      "4\n",
      "5\n",
      "6\n"
     ]
    }
   ],
   "source": [
    "for numara in liste:\n",
    "    print(numara)"
   ]
  },
  {
   "cell_type": "markdown",
   "id": "edf26002",
   "metadata": {},
   "source": [
    "# Range - kapsam, genişlik"
   ]
  },
  {
   "cell_type": "code",
   "execution_count": 3,
   "id": "6703e333",
   "metadata": {},
   "outputs": [
    {
     "data": {
      "text/plain": [
       "range(0, 15)"
      ]
     },
     "execution_count": 3,
     "metadata": {},
     "output_type": "execute_result"
    }
   ],
   "source": [
    "range(15)"
   ]
  },
  {
   "cell_type": "markdown",
   "id": "ddfeeb82",
   "metadata": {},
   "source": [
    "0 başlangıç, 15 bitiş"
   ]
  },
  {
   "cell_type": "code",
   "execution_count": 5,
   "id": "4cf2b65f",
   "metadata": {},
   "outputs": [
    {
     "data": {
      "text/plain": [
       "[0, 1, 2, 3, 4, 5, 6, 7, 8, 9, 10, 11, 12, 13]"
      ]
     },
     "execution_count": 5,
     "metadata": {},
     "output_type": "execute_result"
    }
   ],
   "source": [
    "list(range(14))   #list 0dan başlar"
   ]
  },
  {
   "cell_type": "code",
   "execution_count": 9,
   "id": "a104dda5",
   "metadata": {},
   "outputs": [
    {
     "name": "stdout",
     "output_type": "stream",
     "text": [
      "0\n",
      "5\n",
      "10\n",
      "15\n",
      "20\n",
      "25\n",
      "30\n",
      "35\n",
      "40\n",
      "45\n",
      "50\n",
      "55\n",
      "60\n",
      "65\n",
      "70\n"
     ]
    }
   ],
   "source": [
    "for numara in list(range(15)):\n",
    "    print(numara * 5)"
   ]
  },
  {
   "cell_type": "code",
   "execution_count": 11,
   "id": "705a88ee",
   "metadata": {},
   "outputs": [
    {
     "data": {
      "text/plain": [
       "[5, 9, 13, 17, 21]"
      ]
     },
     "execution_count": 11,
     "metadata": {},
     "output_type": "execute_result"
    }
   ],
   "source": [
    "list(range(5, 22, 4))\n",
    "#5ten başla, 21de dur(22 dahil değil), 4 atla"
   ]
  },
  {
   "cell_type": "markdown",
   "id": "490163e0",
   "metadata": {},
   "source": [
    "# enumerate - numaralandırmak"
   ]
  },
  {
   "cell_type": "code",
   "execution_count": 13,
   "id": "7849c102",
   "metadata": {},
   "outputs": [
    {
     "name": "stdout",
     "output_type": "stream",
     "text": [
      "güncel numara: 5 güncel index: 0 \n",
      "güncel numara: 6 güncel index: 1 \n",
      "güncel numara: 7 güncel index: 2 \n",
      "güncel numara: 8 güncel index: 3 \n",
      "güncel numara: 9 güncel index: 4 \n",
      "güncel numara: 10 güncel index: 5 \n",
      "güncel numara: 11 güncel index: 6 \n",
      "güncel numara: 12 güncel index: 7 \n",
      "güncel numara: 13 güncel index: 8 \n",
      "güncel numara: 14 güncel index: 9 \n"
     ]
    }
   ],
   "source": [
    "index = 0\n",
    "for numara in list(range(5, 15)):\n",
    "    print(f\"güncel numara: {numara} güncel index: {index} \")\n",
    "    index = index + 1"
   ]
  },
  {
   "cell_type": "code",
   "execution_count": 15,
   "id": "9492ae43",
   "metadata": {},
   "outputs": [
    {
     "name": "stdout",
     "output_type": "stream",
     "text": [
      "(0, 5)\n",
      "(1, 6)\n",
      "(2, 7)\n",
      "(3, 8)\n",
      "(4, 9)\n",
      "(5, 10)\n",
      "(6, 11)\n",
      "(7, 12)\n",
      "(8, 13)\n",
      "(9, 14)\n"
     ]
    }
   ],
   "source": [
    "for eleman in enumerate(list(range(5, 15))):\n",
    "    print(eleman)"
   ]
  },
  {
   "cell_type": "code",
   "execution_count": 18,
   "id": "675e7f6c",
   "metadata": {},
   "outputs": [
    {
     "name": "stdout",
     "output_type": "stream",
     "text": [
      "<class 'tuple'>\n",
      "<class 'tuple'>\n",
      "<class 'tuple'>\n",
      "<class 'tuple'>\n",
      "<class 'tuple'>\n",
      "<class 'tuple'>\n",
      "<class 'tuple'>\n",
      "<class 'tuple'>\n",
      "<class 'tuple'>\n",
      "<class 'tuple'>\n"
     ]
    }
   ],
   "source": [
    "for eleman in enumerate(list(range(5, 15))):\n",
    "    print(type(eleman))"
   ]
  },
  {
   "cell_type": "markdown",
   "id": "bc50fbfd",
   "metadata": {},
   "source": [
    "tüm elemanlar tuple"
   ]
  },
  {
   "cell_type": "markdown",
   "id": "004c2ee5",
   "metadata": {},
   "source": [
    "O zaman index, numara birlikte yazdırabilirim"
   ]
  },
  {
   "cell_type": "code",
   "execution_count": 20,
   "id": "6a62261a",
   "metadata": {},
   "outputs": [
    {
     "name": "stdout",
     "output_type": "stream",
     "text": [
      "0 5\n",
      "1 6\n",
      "2 7\n",
      "3 8\n",
      "4 9\n",
      "5 10\n",
      "6 11\n",
      "7 12\n",
      "8 13\n",
      "9 14\n"
     ]
    }
   ],
   "source": [
    "for (index, numara) in enumerate(list(range(5, 15))):\n",
    "    print(index, numara)"
   ]
  },
  {
   "cell_type": "code",
   "execution_count": null,
   "id": "63446939",
   "metadata": {},
   "outputs": [],
   "source": [
    "ya da ikisinden birini tek başına yazdırabilirim"
   ]
  },
  {
   "cell_type": "code",
   "execution_count": 24,
   "id": "5deee680",
   "metadata": {},
   "outputs": [
    {
     "name": "stdout",
     "output_type": "stream",
     "text": [
      "0\n",
      "1\n",
      "2\n",
      "3\n",
      "4\n",
      "5\n",
      "6\n",
      "7\n",
      "8\n",
      "9\n"
     ]
    }
   ],
   "source": [
    "for (index, numara) in enumerate(list(range(5, 15))):\n",
    "    print(index)"
   ]
  },
  {
   "cell_type": "markdown",
   "id": "291cf8a0",
   "metadata": {},
   "source": [
    "# random - rastgele"
   ]
  },
  {
   "cell_type": "markdown",
   "id": "8c39e4aa",
   "metadata": {},
   "source": [
    "random kütüphanesine ihtiyacımız var. random kütüphanesini ekleyelim"
   ]
  },
  {
   "cell_type": "markdown",
   "id": "23e92321",
   "metadata": {},
   "source": [
    "### randint"
   ]
  },
  {
   "cell_type": "code",
   "execution_count": 26,
   "id": "ddfbe0fd",
   "metadata": {},
   "outputs": [],
   "source": [
    "from random import randint"
   ]
  },
  {
   "cell_type": "code",
   "execution_count": 27,
   "id": "07e41561",
   "metadata": {},
   "outputs": [],
   "source": [
    " #random kütüphanesinin içinden randint i importla (import-içe aktarmak)"
   ]
  },
  {
   "cell_type": "markdown",
   "id": "cf7dd193",
   "metadata": {},
   "source": [
    "randint(x, y)  -  x ile y arasında rastgele değer döndürür"
   ]
  },
  {
   "cell_type": "code",
   "execution_count": 29,
   "id": "7ab41276",
   "metadata": {},
   "outputs": [
    {
     "data": {
      "text/plain": [
       "28"
      ]
     },
     "execution_count": 29,
     "metadata": {},
     "output_type": "execute_result"
    }
   ],
   "source": [
    "randint(0, 100)"
   ]
  },
  {
   "cell_type": "markdown",
   "id": "a2abc2fe",
   "metadata": {},
   "source": [
    "randint ile daha önce oluşturduğumuz diziden rastgele değer çağırabiliriz"
   ]
  },
  {
   "cell_type": "code",
   "execution_count": 30,
   "id": "cc41a01c",
   "metadata": {},
   "outputs": [],
   "source": [
    "yeniListe = list(range(0, 10))"
   ]
  },
  {
   "cell_type": "code",
   "execution_count": 31,
   "id": "702b09ee",
   "metadata": {},
   "outputs": [
    {
     "data": {
      "text/plain": [
       "[0, 1, 2, 3, 4, 5, 6, 7, 8, 9]"
      ]
     },
     "execution_count": 31,
     "metadata": {},
     "output_type": "execute_result"
    }
   ],
   "source": [
    "yeniListe"
   ]
  },
  {
   "cell_type": "code",
   "execution_count": 32,
   "id": "21bb15fc",
   "metadata": {},
   "outputs": [
    {
     "data": {
      "text/plain": [
       "0"
      ]
     },
     "execution_count": 32,
     "metadata": {},
     "output_type": "execute_result"
    }
   ],
   "source": [
    "yeniListe[randint(0,9)]"
   ]
  },
  {
   "cell_type": "markdown",
   "id": "893595b6",
   "metadata": {},
   "source": [
    "### shuffle - karıştırmak"
   ]
  },
  {
   "cell_type": "code",
   "execution_count": 33,
   "id": "ceb5e94c",
   "metadata": {},
   "outputs": [],
   "source": [
    "from random import shuffle"
   ]
  },
  {
   "cell_type": "markdown",
   "id": "ea46d1c8",
   "metadata": {},
   "source": [
    "shuffle ile bir dizi içerisindeki elemanları rastgele karıştırabiliriz"
   ]
  },
  {
   "cell_type": "code",
   "execution_count": 35,
   "id": "2663caea",
   "metadata": {},
   "outputs": [],
   "source": [
    "shuffle(yeniListe)"
   ]
  },
  {
   "cell_type": "code",
   "execution_count": 36,
   "id": "5e010adf",
   "metadata": {},
   "outputs": [
    {
     "data": {
      "text/plain": [
       "[6, 3, 0, 1, 5, 7, 9, 4, 8, 2]"
      ]
     },
     "execution_count": 36,
     "metadata": {},
     "output_type": "execute_result"
    }
   ],
   "source": [
    "yeniListe"
   ]
  },
  {
   "cell_type": "markdown",
   "id": "faeb9c6f",
   "metadata": {},
   "source": [
    "# "
   ]
  },
  {
   "cell_type": "markdown",
   "id": "30bf627b",
   "metadata": {},
   "source": [
    "# zip"
   ]
  },
  {
   "cell_type": "markdown",
   "id": "821ff58e",
   "metadata": {},
   "source": [
    "listeleri birleştirmemizi sağlar"
   ]
  },
  {
   "cell_type": "code",
   "execution_count": 37,
   "id": "fc66b26f",
   "metadata": {},
   "outputs": [],
   "source": [
    "yemekListesi = [\"muz\", \"ananas\", \"elma\"]\n",
    "kaloriListesi = [100, 200, 300]\n",
    "gunListesi = [\"pazartesi\", \"salı\", \"çarşamba\", \"perşembe\", \"cuma\"]"
   ]
  },
  {
   "cell_type": "code",
   "execution_count": 38,
   "id": "cd194c31",
   "metadata": {},
   "outputs": [
    {
     "data": {
      "text/plain": [
       "list"
      ]
     },
     "execution_count": 38,
     "metadata": {},
     "output_type": "execute_result"
    }
   ],
   "source": [
    "type(yemekListesi)"
   ]
  },
  {
   "cell_type": "code",
   "execution_count": 47,
   "id": "53584ca6",
   "metadata": {},
   "outputs": [
    {
     "data": {
      "text/plain": [
       "zip"
      ]
     },
     "execution_count": 47,
     "metadata": {},
     "output_type": "execute_result"
    }
   ],
   "source": [
    "type(zip(yemekListesi, kaloriListesi, gunListesi))"
   ]
  },
  {
   "cell_type": "markdown",
   "id": "c6dd4610",
   "metadata": {},
   "source": [
    "listelerimizi birleştirdik ve zip haline getirdik. Bu zip i tekrar listeye çevirelim.\n",
    "ve listeyi listeleyelim(yazdıralım)"
   ]
  },
  {
   "cell_type": "code",
   "execution_count": 49,
   "id": "b9d7f255",
   "metadata": {},
   "outputs": [
    {
     "data": {
      "text/plain": [
       "[('muz', 100, 'pazartesi'), ('ananas', 200, 'salı'), ('elma', 300, 'çarşamba')]"
      ]
     },
     "execution_count": 49,
     "metadata": {},
     "output_type": "execute_result"
    }
   ],
   "source": [
    "list(zip(yemekListesi, kaloriListesi, gunListesi))"
   ]
  },
  {
   "cell_type": "code",
   "execution_count": 50,
   "id": "1b12794a",
   "metadata": {},
   "outputs": [],
   "source": [
    "ziplenmisListe = list(zip(yemekListesi, kaloriListesi, gunListesi))"
   ]
  },
  {
   "cell_type": "code",
   "execution_count": 52,
   "id": "d5b33985",
   "metadata": {},
   "outputs": [
    {
     "name": "stdout",
     "output_type": "stream",
     "text": [
      "('muz', 100, 'pazartesi')\n",
      "('ananas', 200, 'salı')\n",
      "('elma', 300, 'çarşamba')\n"
     ]
    }
   ],
   "source": [
    "for eleman2 in ziplenmisListe:\n",
    "    print(eleman2)"
   ]
  },
  {
   "cell_type": "code",
   "execution_count": 53,
   "id": "4e890f39",
   "metadata": {},
   "outputs": [
    {
     "name": "stdout",
     "output_type": "stream",
     "text": [
      "<class 'tuple'>\n",
      "<class 'tuple'>\n",
      "<class 'tuple'>\n"
     ]
    }
   ],
   "source": [
    "for eleman2 in ziplenmisListe:\n",
    "    print(type(eleman2))"
   ]
  },
  {
   "cell_type": "markdown",
   "id": "18ccb4f4",
   "metadata": {},
   "source": [
    "# "
   ]
  },
  {
   "cell_type": "markdown",
   "id": "e7c6db93",
   "metadata": {},
   "source": [
    "# Listeler İleri Seviye "
   ]
  },
  {
   "cell_type": "code",
   "execution_count": 56,
   "id": "7519920b",
   "metadata": {},
   "outputs": [],
   "source": [
    "listeOrnegi = []\n",
    "string = \"elif beyza\"\n",
    "\n",
    "for harf in string:\n",
    "    listeOrnegi.append(harf)"
   ]
  },
  {
   "cell_type": "code",
   "execution_count": 57,
   "id": "99155df6",
   "metadata": {},
   "outputs": [
    {
     "data": {
      "text/plain": [
       "['e', 'l', 'i', 'f', ' ', 'b', 'e', 'y', 'z', 'a']"
      ]
     },
     "execution_count": 57,
     "metadata": {},
     "output_type": "execute_result"
    }
   ],
   "source": [
    "listeOrnegi"
   ]
  },
  {
   "cell_type": "markdown",
   "id": "0d0563cd",
   "metadata": {},
   "source": [
    "aynı işlemi farklı bir yöntem ile yapalım"
   ]
  },
  {
   "cell_type": "code",
   "execution_count": 58,
   "id": "0af31616",
   "metadata": {},
   "outputs": [],
   "source": [
    "yeniString = \"elif beyza\""
   ]
  },
  {
   "cell_type": "code",
   "execution_count": 60,
   "id": "9031eac0",
   "metadata": {},
   "outputs": [],
   "source": [
    "yeniListeOrnegi = [eleman3 for eleman3 in yeniString]"
   ]
  },
  {
   "cell_type": "code",
   "execution_count": 61,
   "id": "875faf3c",
   "metadata": {},
   "outputs": [
    {
     "data": {
      "text/plain": [
       "['e', 'l', 'i', 'f', ' ', 'b', 'e', 'y', 'z', 'a']"
      ]
     },
     "execution_count": 61,
     "metadata": {},
     "output_type": "execute_result"
    }
   ],
   "source": [
    "yeniListeOrnegi"
   ]
  },
  {
   "cell_type": "markdown",
   "id": "061a8595",
   "metadata": {},
   "source": [
    "# "
   ]
  },
  {
   "cell_type": "code",
   "execution_count": 62,
   "id": "59bd930a",
   "metadata": {},
   "outputs": [],
   "source": [
    "ikinciListeOrnegi = [numara * 5 for numara in list(range(0, 10))]"
   ]
  },
  {
   "cell_type": "code",
   "execution_count": 63,
   "id": "9caf0f4d",
   "metadata": {},
   "outputs": [
    {
     "data": {
      "text/plain": [
       "[0, 5, 10, 15, 20, 25, 30, 35, 40, 45]"
      ]
     },
     "execution_count": 63,
     "metadata": {},
     "output_type": "execute_result"
    }
   ],
   "source": [
    "ikinciListeOrnegi"
   ]
  },
  {
   "cell_type": "markdown",
   "id": "efc81d99",
   "metadata": {},
   "source": [
    "for numara in list(range(0, 10)) ile 0'dan 9'a rakamları ekle dedik ama numara * 5 hallerini ekle"
   ]
  },
  {
   "cell_type": "code",
   "execution_count": 67,
   "id": "d9c0e670",
   "metadata": {},
   "outputs": [
    {
     "data": {
      "text/plain": [
       "[0, 1, 32, 243, 1024, 3125, 7776, 16807, 32768, 59049]"
      ]
     },
     "execution_count": 67,
     "metadata": {},
     "output_type": "execute_result"
    }
   ],
   "source": [
    "ikinciListeOrnegi = [numara ** 5 for numara in list(range(0, 10))]\n",
    "ikinciListeOrnegi\n",
    "# numara ** 5 ile numara^5 hallerini aldık"
   ]
  },
  {
   "cell_type": "code",
   "execution_count": null,
   "id": "de7b6426",
   "metadata": {},
   "outputs": [],
   "source": []
  },
  {
   "cell_type": "code",
   "execution_count": null,
   "id": "aea28c2e",
   "metadata": {},
   "outputs": [],
   "source": []
  }
 ],
 "metadata": {
  "kernelspec": {
   "display_name": "Python 3 (ipykernel)",
   "language": "python",
   "name": "python3"
  },
  "language_info": {
   "codemirror_mode": {
    "name": "ipython",
    "version": 3
   },
   "file_extension": ".py",
   "mimetype": "text/x-python",
   "name": "python",
   "nbconvert_exporter": "python",
   "pygments_lexer": "ipython3",
   "version": "3.9.13"
  }
 },
 "nbformat": 4,
 "nbformat_minor": 5
}
