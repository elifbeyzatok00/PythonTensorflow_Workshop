{
 "cells": [
  {
   "cell_type": "code",
   "execution_count": 5,
   "id": "0f27665c",
   "metadata": {},
   "outputs": [
    {
     "data": {
      "text/plain": [
       "20"
      ]
     },
     "execution_count": 5,
     "metadata": {},
     "output_type": "execute_result"
    }
   ],
   "source": [
    "5*4"
   ]
  },
  {
   "cell_type": "code",
   "execution_count": 7,
   "id": "3037b1a3",
   "metadata": {},
   "outputs": [
    {
     "data": {
      "text/plain": [
       "3500"
      ]
     },
     "execution_count": 7,
     "metadata": {},
     "output_type": "execute_result"
    }
   ],
   "source": [
    "1000+2500"
   ]
  },
  {
   "cell_type": "code",
   "execution_count": 6,
   "id": "fcf8f8f2",
   "metadata": {},
   "outputs": [
    {
     "name": "stdout",
     "output_type": "stream",
     "text": [
      "20\n"
     ]
    }
   ],
   "source": [
    "print(5*4)"
   ]
  },
  {
   "cell_type": "code",
   "execution_count": null,
   "id": "0828f526",
   "metadata": {},
   "outputs": [],
   "source": [
    "##Python Öğreniyorum"
   ]
  },
  {
   "cell_type": "markdown",
   "id": "588b7b66",
   "metadata": {},
   "source": [
    "## Python Öğreniyorum"
   ]
  },
  {
   "cell_type": "markdown",
   "id": "0259320e",
   "metadata": {},
   "source": [
    "# Variables(Değişkenler)"
   ]
  },
  {
   "cell_type": "code",
   "execution_count": 20,
   "id": "9e3612d6",
   "metadata": {},
   "outputs": [],
   "source": [
    "x = 5"
   ]
  },
  {
   "cell_type": "code",
   "execution_count": 15,
   "id": "c364bb83",
   "metadata": {},
   "outputs": [],
   "source": [
    "y = 4"
   ]
  },
  {
   "cell_type": "code",
   "execution_count": 16,
   "id": "21c42a31",
   "metadata": {},
   "outputs": [
    {
     "data": {
      "text/plain": [
       "20"
      ]
     },
     "execution_count": 16,
     "metadata": {},
     "output_type": "execute_result"
    }
   ],
   "source": [
    "x * y"
   ]
  },
  {
   "cell_type": "code",
   "execution_count": 17,
   "id": "daab7fea",
   "metadata": {},
   "outputs": [
    {
     "data": {
      "text/plain": [
       "5"
      ]
     },
     "execution_count": 17,
     "metadata": {},
     "output_type": "execute_result"
    }
   ],
   "source": [
    "x"
   ]
  },
  {
   "cell_type": "code",
   "execution_count": 22,
   "id": "88f5f5d8",
   "metadata": {},
   "outputs": [],
   "source": [
    "x = 6"
   ]
  },
  {
   "cell_type": "code",
   "execution_count": 23,
   "id": "479a705c",
   "metadata": {},
   "outputs": [
    {
     "data": {
      "text/plain": [
       "24"
      ]
     },
     "execution_count": 23,
     "metadata": {},
     "output_type": "execute_result"
    }
   ],
   "source": [
    "x * y"
   ]
  },
  {
   "cell_type": "code",
   "execution_count": 24,
   "id": "55919613",
   "metadata": {},
   "outputs": [
    {
     "data": {
      "text/plain": [
       "40"
      ]
     },
     "execution_count": 24,
     "metadata": {},
     "output_type": "execute_result"
    }
   ],
   "source": [
    "y * 10"
   ]
  },
  {
   "cell_type": "markdown",
   "id": "d6b51229",
   "metadata": {},
   "source": [
    "## Integer && Float"
   ]
  },
  {
   "cell_type": "code",
   "execution_count": 25,
   "id": "1275ff53",
   "metadata": {},
   "outputs": [],
   "source": [
    "benimDegiskenim = 10\n",
    "benimDigerDegiskenim = 20"
   ]
  },
  {
   "cell_type": "code",
   "execution_count": 26,
   "id": "43621149",
   "metadata": {},
   "outputs": [
    {
     "data": {
      "text/plain": [
       "30"
      ]
     },
     "execution_count": 26,
     "metadata": {},
     "output_type": "execute_result"
    }
   ],
   "source": [
    "benimDegiskenim + benimDigerDegiskenim"
   ]
  },
  {
   "cell_type": "code",
   "execution_count": 27,
   "id": "73e70348",
   "metadata": {},
   "outputs": [
    {
     "data": {
      "text/plain": [
       "int"
      ]
     },
     "execution_count": 27,
     "metadata": {},
     "output_type": "execute_result"
    }
   ],
   "source": [
    "type(benimDegiskenim)"
   ]
  },
  {
   "cell_type": "code",
   "execution_count": 29,
   "id": "747de440",
   "metadata": {},
   "outputs": [],
   "source": [
    "sonuc = benimDigerDegiskenim / benimDegiskenim"
   ]
  },
  {
   "cell_type": "code",
   "execution_count": 30,
   "id": "defdc8c1",
   "metadata": {},
   "outputs": [
    {
     "data": {
      "text/plain": [
       "2.0"
      ]
     },
     "execution_count": 30,
     "metadata": {},
     "output_type": "execute_result"
    }
   ],
   "source": [
    "sonuc"
   ]
  },
  {
   "cell_type": "code",
   "execution_count": 31,
   "id": "91c5cf5f",
   "metadata": {},
   "outputs": [
    {
     "data": {
      "text/plain": [
       "float"
      ]
     },
     "execution_count": 31,
     "metadata": {},
     "output_type": "execute_result"
    }
   ],
   "source": [
    "type(sonuc)"
   ]
  },
  {
   "cell_type": "code",
   "execution_count": 33,
   "id": "d33a9e0d",
   "metadata": {},
   "outputs": [],
   "source": [
    "a = 3\n",
    "b = 2"
   ]
  },
  {
   "cell_type": "code",
   "execution_count": 34,
   "id": "1843810d",
   "metadata": {},
   "outputs": [
    {
     "data": {
      "text/plain": [
       "1.5"
      ]
     },
     "execution_count": 34,
     "metadata": {},
     "output_type": "execute_result"
    }
   ],
   "source": [
    "a/b"
   ]
  },
  {
   "cell_type": "code",
   "execution_count": 35,
   "id": "3174d9a2",
   "metadata": {},
   "outputs": [],
   "source": [
    "pi = 3.14"
   ]
  },
  {
   "cell_type": "code",
   "execution_count": 36,
   "id": "98f7c85b",
   "metadata": {},
   "outputs": [
    {
     "data": {
      "text/plain": [
       "float"
      ]
     },
     "execution_count": 36,
     "metadata": {},
     "output_type": "execute_result"
    }
   ],
   "source": [
    "type(pi)"
   ]
  },
  {
   "cell_type": "code",
   "execution_count": 37,
   "id": "0354cb6f",
   "metadata": {},
   "outputs": [],
   "source": [
    "a = 5"
   ]
  },
  {
   "cell_type": "code",
   "execution_count": 38,
   "id": "23e8fd52",
   "metadata": {},
   "outputs": [
    {
     "data": {
      "text/plain": [
       "int"
      ]
     },
     "execution_count": 38,
     "metadata": {},
     "output_type": "execute_result"
    }
   ],
   "source": [
    "type(a)"
   ]
  },
  {
   "cell_type": "code",
   "execution_count": 39,
   "id": "532da325",
   "metadata": {},
   "outputs": [
    {
     "data": {
      "text/plain": [
       "8.14"
      ]
     },
     "execution_count": 39,
     "metadata": {},
     "output_type": "execute_result"
    }
   ],
   "source": [
    "a + pi"
   ]
  },
  {
   "cell_type": "code",
   "execution_count": 40,
   "id": "04470ef3",
   "metadata": {},
   "outputs": [
    {
     "data": {
      "text/plain": [
       "1.592356687898089"
      ]
     },
     "execution_count": 40,
     "metadata": {},
     "output_type": "execute_result"
    }
   ],
   "source": [
    "a / pi"
   ]
  },
  {
   "cell_type": "code",
   "execution_count": 41,
   "id": "3dd6af57",
   "metadata": {},
   "outputs": [],
   "source": [
    "a = 5\n",
    "b = 4"
   ]
  },
  {
   "cell_type": "code",
   "execution_count": 42,
   "id": "9db06520",
   "metadata": {},
   "outputs": [],
   "source": [
    "sonuc = a + b"
   ]
  },
  {
   "cell_type": "code",
   "execution_count": 43,
   "id": "11a0babf",
   "metadata": {},
   "outputs": [
    {
     "data": {
      "text/plain": [
       "int"
      ]
     },
     "execution_count": 43,
     "metadata": {},
     "output_type": "execute_result"
    }
   ],
   "source": [
    "type(sonuc)"
   ]
  },
  {
   "cell_type": "code",
   "execution_count": 45,
   "id": "452f0c38",
   "metadata": {},
   "outputs": [],
   "source": [
    "sonuc = a * b"
   ]
  },
  {
   "cell_type": "code",
   "execution_count": 46,
   "id": "70b1f69d",
   "metadata": {},
   "outputs": [
    {
     "data": {
      "text/plain": [
       "int"
      ]
     },
     "execution_count": 46,
     "metadata": {},
     "output_type": "execute_result"
    }
   ],
   "source": [
    "type(sonuc)"
   ]
  },
  {
   "cell_type": "markdown",
   "id": "3a667479",
   "metadata": {},
   "source": [
    "# Matematiksel İşlemler"
   ]
  },
  {
   "cell_type": "code",
   "execution_count": 47,
   "id": "a3ba1764",
   "metadata": {},
   "outputs": [],
   "source": [
    "x = 5\n",
    "y = 3"
   ]
  },
  {
   "cell_type": "code",
   "execution_count": 48,
   "id": "4e1b87b0",
   "metadata": {},
   "outputs": [
    {
     "data": {
      "text/plain": [
       "150"
      ]
     },
     "execution_count": 48,
     "metadata": {},
     "output_type": "execute_result"
    }
   ],
   "source": [
    "x * y * 10"
   ]
  },
  {
   "cell_type": "code",
   "execution_count": 50,
   "id": "6ce640a4",
   "metadata": {},
   "outputs": [
    {
     "data": {
      "text/plain": [
       "625"
      ]
     },
     "execution_count": 50,
     "metadata": {},
     "output_type": "execute_result"
    }
   ],
   "source": [
    "x * x * x * x"
   ]
  },
  {
   "cell_type": "code",
   "execution_count": 51,
   "id": "baff2f4f",
   "metadata": {},
   "outputs": [
    {
     "data": {
      "text/plain": [
       "625"
      ]
     },
     "execution_count": 51,
     "metadata": {},
     "output_type": "execute_result"
    }
   ],
   "source": [
    "x ** 4    # meaning x^4"
   ]
  },
  {
   "cell_type": "code",
   "execution_count": 52,
   "id": "989a1ee1",
   "metadata": {},
   "outputs": [
    {
     "data": {
      "text/plain": [
       "0"
      ]
     },
     "execution_count": 52,
     "metadata": {},
     "output_type": "execute_result"
    }
   ],
   "source": [
    "#Remainder -Kalanını Bulmak\n",
    "10 % 2"
   ]
  },
  {
   "cell_type": "code",
   "execution_count": 53,
   "id": "97265671",
   "metadata": {},
   "outputs": [
    {
     "data": {
      "text/plain": [
       "2"
      ]
     },
     "execution_count": 53,
     "metadata": {},
     "output_type": "execute_result"
    }
   ],
   "source": [
    "11 % 3"
   ]
  },
  {
   "cell_type": "code",
   "execution_count": 54,
   "id": "71cde5c0",
   "metadata": {},
   "outputs": [],
   "source": [
    "kullanicininYasi = 10"
   ]
  },
  {
   "cell_type": "code",
   "execution_count": 55,
   "id": "04cd32f2",
   "metadata": {},
   "outputs": [
    {
     "data": {
      "text/plain": [
       "16.666666666666668"
      ]
     },
     "execution_count": 55,
     "metadata": {},
     "output_type": "execute_result"
    }
   ],
   "source": [
    "kullanicininYasi * 5 / 3 "
   ]
  },
  {
   "cell_type": "code",
   "execution_count": 57,
   "id": "f45594e3",
   "metadata": {},
   "outputs": [
    {
     "name": "stdout",
     "output_type": "stream",
     "text": [
      "Yaşınızı Giriniz: 60\n"
     ]
    },
    {
     "data": {
      "text/plain": [
       "'60'"
      ]
     },
     "execution_count": 57,
     "metadata": {},
     "output_type": "execute_result"
    }
   ],
   "source": [
    "input(\"Yaşınızı Giriniz: \")"
   ]
  },
  {
   "cell_type": "code",
   "execution_count": 58,
   "id": "44ddaeab",
   "metadata": {},
   "outputs": [
    {
     "name": "stdout",
     "output_type": "stream",
     "text": [
      "Yaşınızı Giriniz: 40\n"
     ]
    }
   ],
   "source": [
    "kullanicininYasi = input(\"Yaşınızı Giriniz: \")"
   ]
  },
  {
   "cell_type": "code",
   "execution_count": 59,
   "id": "9923934e",
   "metadata": {},
   "outputs": [
    {
     "data": {
      "text/plain": [
       "'40'"
      ]
     },
     "execution_count": 59,
     "metadata": {},
     "output_type": "execute_result"
    }
   ],
   "source": [
    "kullanicininYasi"
   ]
  },
  {
   "cell_type": "markdown",
   "id": "a92b6df2",
   "metadata": {},
   "source": [
    " string olarak çıktı verdi"
   ]
  },
  {
   "cell_type": "code",
   "execution_count": 61,
   "id": "595a3e20",
   "metadata": {},
   "outputs": [
    {
     "data": {
      "text/plain": [
       "str"
      ]
     },
     "execution_count": 61,
     "metadata": {},
     "output_type": "execute_result"
    }
   ],
   "source": [
    "type(kullanicininYasi)"
   ]
  },
  {
   "cell_type": "code",
   "execution_count": 62,
   "id": "2e294f75",
   "metadata": {},
   "outputs": [
    {
     "data": {
      "text/plain": [
       "'4040404040'"
      ]
     },
     "execution_count": 62,
     "metadata": {},
     "output_type": "execute_result"
    }
   ],
   "source": [
    "kullanicininYasi * 5"
   ]
  },
  {
   "cell_type": "markdown",
   "id": "7b70d155",
   "metadata": {},
   "source": [
    "# String"
   ]
  },
  {
   "cell_type": "code",
   "execution_count": 63,
   "id": "c52c3cf8",
   "metadata": {},
   "outputs": [
    {
     "data": {
      "text/plain": [
       "' merhaba dünya'"
      ]
     },
     "execution_count": 63,
     "metadata": {},
     "output_type": "execute_result"
    }
   ],
   "source": [
    "\" merhaba dünya\""
   ]
  },
  {
   "cell_type": "code",
   "execution_count": 64,
   "id": "7f077b5a",
   "metadata": {},
   "outputs": [],
   "source": [
    "x = \"merhaba dünya\""
   ]
  },
  {
   "cell_type": "code",
   "execution_count": 65,
   "id": "a835afd7",
   "metadata": {},
   "outputs": [
    {
     "data": {
      "text/plain": [
       "str"
      ]
     },
     "execution_count": 65,
     "metadata": {},
     "output_type": "execute_result"
    }
   ],
   "source": [
    "type(x)"
   ]
  },
  {
   "cell_type": "code",
   "execution_count": 66,
   "id": "cdabdc05",
   "metadata": {},
   "outputs": [],
   "source": [
    "y = 'yeni string'"
   ]
  },
  {
   "cell_type": "code",
   "execution_count": 67,
   "id": "3047d572",
   "metadata": {},
   "outputs": [
    {
     "data": {
      "text/plain": [
       "\"Elif'in yeri\""
      ]
     },
     "execution_count": 67,
     "metadata": {},
     "output_type": "execute_result"
    }
   ],
   "source": [
    "\"Elif'in yeri\""
   ]
  },
  {
   "cell_type": "code",
   "execution_count": 68,
   "id": "13da1c5d",
   "metadata": {},
   "outputs": [],
   "source": [
    "a = 5"
   ]
  },
  {
   "cell_type": "code",
   "execution_count": 69,
   "id": "874cae50",
   "metadata": {},
   "outputs": [
    {
     "data": {
      "text/plain": [
       "<function str.capitalize()>"
      ]
     },
     "execution_count": 69,
     "metadata": {},
     "output_type": "execute_result"
    }
   ],
   "source": [
    "y.capitalize "
   ]
  },
  {
   "cell_type": "code",
   "execution_count": 71,
   "id": "f871ebd2",
   "metadata": {},
   "outputs": [
    {
     "data": {
      "text/plain": [
       "'Yeni string'"
      ]
     },
     "execution_count": 71,
     "metadata": {},
     "output_type": "execute_result"
    }
   ],
   "source": [
    "y.capitalize ()  #ilk harfi büyüt"
   ]
  },
  {
   "cell_type": "code",
   "execution_count": 72,
   "id": "c2adb9de",
   "metadata": {},
   "outputs": [
    {
     "data": {
      "text/plain": [
       "['yeni', 'string']"
      ]
     },
     "execution_count": 72,
     "metadata": {},
     "output_type": "execute_result"
    }
   ],
   "source": [
    "y.split() "
   ]
  },
  {
   "cell_type": "code",
   "execution_count": 77,
   "id": "328a4d39",
   "metadata": {},
   "outputs": [],
   "source": [
    "benimString = \"Elif Beyza \""
   ]
  },
  {
   "cell_type": "code",
   "execution_count": 78,
   "id": "89fd7f5c",
   "metadata": {},
   "outputs": [
    {
     "data": {
      "text/plain": [
       "'Elif Beyza yeni string'"
      ]
     },
     "execution_count": 78,
     "metadata": {},
     "output_type": "execute_result"
    }
   ],
   "source": [
    "benimString + y"
   ]
  },
  {
   "cell_type": "code",
   "execution_count": 79,
   "id": "7c317d57",
   "metadata": {},
   "outputs": [
    {
     "data": {
      "text/plain": [
       "'Elif Beyza Elif Beyza Elif Beyza Elif Beyza '"
      ]
     },
     "execution_count": 79,
     "metadata": {},
     "output_type": "execute_result"
    }
   ],
   "source": [
    "benimString * 4"
   ]
  },
  {
   "cell_type": "code",
   "execution_count": 80,
   "id": "20974be4",
   "metadata": {},
   "outputs": [
    {
     "name": "stdout",
     "output_type": "stream",
     "text": [
      "Yaşınızı Giriniz: 20\n"
     ]
    }
   ],
   "source": [
    "benimInput = input(\"Yaşınızı Giriniz: \")"
   ]
  },
  {
   "cell_type": "code",
   "execution_count": 81,
   "id": "8c7e200c",
   "metadata": {},
   "outputs": [
    {
     "data": {
      "text/plain": [
       "str"
      ]
     },
     "execution_count": 81,
     "metadata": {},
     "output_type": "execute_result"
    }
   ],
   "source": [
    "type(benimInput)"
   ]
  },
  {
   "cell_type": "code",
   "execution_count": 82,
   "id": "b4d1c50b",
   "metadata": {},
   "outputs": [],
   "source": [
    "benimIntInput = int(benimInput)"
   ]
  },
  {
   "cell_type": "code",
   "execution_count": 84,
   "id": "00c6f202",
   "metadata": {},
   "outputs": [
    {
     "data": {
      "text/plain": [
       "'20'"
      ]
     },
     "execution_count": 84,
     "metadata": {},
     "output_type": "execute_result"
    }
   ],
   "source": [
    "benimInput"
   ]
  },
  {
   "cell_type": "code",
   "execution_count": 85,
   "id": "a7ab371f",
   "metadata": {},
   "outputs": [
    {
     "data": {
      "text/plain": [
       "20"
      ]
     },
     "execution_count": 85,
     "metadata": {},
     "output_type": "execute_result"
    }
   ],
   "source": [
    "benimIntInput"
   ]
  },
  {
   "cell_type": "code",
   "execution_count": 87,
   "id": "0d8e13e1",
   "metadata": {},
   "outputs": [
    {
     "data": {
      "text/plain": [
       "int"
      ]
     },
     "execution_count": 87,
     "metadata": {},
     "output_type": "execute_result"
    }
   ],
   "source": [
    "type(benimIntInput)  #string to int"
   ]
  },
  {
   "cell_type": "code",
   "execution_count": 88,
   "id": "bde22375",
   "metadata": {},
   "outputs": [
    {
     "ename": "TypeError",
     "evalue": "unsupported operand type(s) for /: 'str' and 'int'",
     "output_type": "error",
     "traceback": [
      "\u001b[1;31m---------------------------------------------------------------------------\u001b[0m",
      "\u001b[1;31mTypeError\u001b[0m                                 Traceback (most recent call last)",
      "\u001b[1;32m~\\AppData\\Local\\Temp\\ipykernel_2844\\3063886051.py\u001b[0m in \u001b[0;36m<module>\u001b[1;34m\u001b[0m\n\u001b[1;32m----> 1\u001b[1;33m \u001b[0mbenimInput\u001b[0m \u001b[1;33m/\u001b[0m \u001b[1;36m3\u001b[0m \u001b[1;33m*\u001b[0m \u001b[1;36m5\u001b[0m\u001b[1;33m\u001b[0m\u001b[1;33m\u001b[0m\u001b[0m\n\u001b[0m",
      "\u001b[1;31mTypeError\u001b[0m: unsupported operand type(s) for /: 'str' and 'int'"
     ]
    }
   ],
   "source": [
    "benimInput / 3 * 5"
   ]
  },
  {
   "cell_type": "markdown",
   "id": "11bab727",
   "metadata": {},
   "source": [
    "(String bir değişken ile matematiksel işlemler yapılamaz onu int e çevirmek gerekir)"
   ]
  },
  {
   "cell_type": "code",
   "execution_count": 89,
   "id": "2f7c0308",
   "metadata": {},
   "outputs": [
    {
     "data": {
      "text/plain": [
       "33.333333333333336"
      ]
     },
     "execution_count": 89,
     "metadata": {},
     "output_type": "execute_result"
    }
   ],
   "source": [
    "benimIntInput / 3 * 5"
   ]
  },
  {
   "cell_type": "code",
   "execution_count": 90,
   "id": "4ec11e20",
   "metadata": {},
   "outputs": [],
   "source": [
    "k = \"Tok\""
   ]
  },
  {
   "cell_type": "code",
   "execution_count": 93,
   "id": "aa6027b1",
   "metadata": {},
   "outputs": [
    {
     "data": {
      "text/plain": [
       "3"
      ]
     },
     "execution_count": 93,
     "metadata": {},
     "output_type": "execute_result"
    }
   ],
   "source": [
    "len(k)  #len from length"
   ]
  },
  {
   "cell_type": "code",
   "execution_count": 94,
   "id": "50f3e56c",
   "metadata": {},
   "outputs": [
    {
     "name": "stdout",
     "output_type": "stream",
     "text": [
      "merhaba \n",
      " python\n"
     ]
    }
   ],
   "source": [
    "print(\"merhaba \\n python\")"
   ]
  },
  {
   "cell_type": "code",
   "execution_count": 95,
   "id": "5ccfe7b0",
   "metadata": {},
   "outputs": [
    {
     "name": "stdout",
     "output_type": "stream",
     "text": [
      "merhaba\n",
      " python\n"
     ]
    }
   ],
   "source": [
    "print(\"merhaba\\n python\")"
   ]
  },
  {
   "cell_type": "code",
   "execution_count": 97,
   "id": "1868831d",
   "metadata": {},
   "outputs": [
    {
     "name": "stdout",
     "output_type": "stream",
     "text": [
      "merhaba \n",
      "python\n"
     ]
    }
   ],
   "source": [
    "print(\"merhaba \\npython\")  # \\n ile alt satıra geç"
   ]
  },
  {
   "cell_type": "code",
   "execution_count": 98,
   "id": "545defc1",
   "metadata": {},
   "outputs": [],
   "source": [
    "isimString = \"Elif Beyza\""
   ]
  },
  {
   "cell_type": "code",
   "execution_count": 99,
   "id": "f1dae279",
   "metadata": {},
   "outputs": [
    {
     "data": {
      "text/plain": [
       "'Elif Beyza'"
      ]
     },
     "execution_count": 99,
     "metadata": {},
     "output_type": "execute_result"
    }
   ],
   "source": [
    "isimString"
   ]
  },
  {
   "cell_type": "markdown",
   "id": "480778f5",
   "metadata": {},
   "source": [
    "## Index(indexing)"
   ]
  },
  {
   "cell_type": "code",
   "execution_count": 100,
   "id": "f3ce69f2",
   "metadata": {},
   "outputs": [
    {
     "data": {
      "text/plain": [
       "'E'"
      ]
     },
     "execution_count": 100,
     "metadata": {},
     "output_type": "execute_result"
    }
   ],
   "source": [
    "isimString[0]"
   ]
  },
  {
   "cell_type": "code",
   "execution_count": 101,
   "id": "f749cf50",
   "metadata": {},
   "outputs": [
    {
     "data": {
      "text/plain": [
       "'y'"
      ]
     },
     "execution_count": 101,
     "metadata": {},
     "output_type": "execute_result"
    }
   ],
   "source": [
    "isimString[7]"
   ]
  },
  {
   "cell_type": "code",
   "execution_count": 105,
   "id": "45c30c3d",
   "metadata": {},
   "outputs": [],
   "source": [
    "# Elif Beyza\n",
    "# 0123456789   boşluk da bir karakter"
   ]
  },
  {
   "cell_type": "code",
   "execution_count": 106,
   "id": "f736fb7a",
   "metadata": {},
   "outputs": [
    {
     "data": {
      "text/plain": [
       "' '"
      ]
     },
     "execution_count": 106,
     "metadata": {},
     "output_type": "execute_result"
    }
   ],
   "source": [
    "isimString[4]"
   ]
  },
  {
   "cell_type": "code",
   "execution_count": 107,
   "id": "6f0dad66",
   "metadata": {},
   "outputs": [
    {
     "data": {
      "text/plain": [
       "'a'"
      ]
     },
     "execution_count": 107,
     "metadata": {},
     "output_type": "execute_result"
    }
   ],
   "source": [
    "isimString[-1]   #son karakteri getir"
   ]
  },
  {
   "cell_type": "code",
   "execution_count": 108,
   "id": "c8025f9c",
   "metadata": {},
   "outputs": [
    {
     "data": {
      "text/plain": [
       "'Ea'"
      ]
     },
     "execution_count": 108,
     "metadata": {},
     "output_type": "execute_result"
    }
   ],
   "source": [
    "isimString[0] + isimString[-1]"
   ]
  },
  {
   "cell_type": "markdown",
   "id": "0a44d31d",
   "metadata": {},
   "source": [
    "### Slicing"
   ]
  },
  {
   "cell_type": "code",
   "execution_count": 112,
   "id": "c24824c2",
   "metadata": {},
   "outputs": [],
   "source": [
    "yeniString = \"0123456789\""
   ]
  },
  {
   "cell_type": "code",
   "execution_count": 113,
   "id": "7838460c",
   "metadata": {},
   "outputs": [
    {
     "data": {
      "text/plain": [
       "str"
      ]
     },
     "execution_count": 113,
     "metadata": {},
     "output_type": "execute_result"
    }
   ],
   "source": [
    "type(yeniString)"
   ]
  },
  {
   "cell_type": "code",
   "execution_count": 119,
   "id": "81277be7",
   "metadata": {},
   "outputs": [
    {
     "data": {
      "text/plain": [
       "'23456789'"
      ]
     },
     "execution_count": 119,
     "metadata": {},
     "output_type": "execute_result"
    }
   ],
   "source": [
    "yeniString[2:]   \n",
    "#ilk iki karakteri aldı sildi (ikinci karakterden sonrasını aldı)"
   ]
  },
  {
   "cell_type": "code",
   "execution_count": 116,
   "id": "fc41ba24",
   "metadata": {},
   "outputs": [],
   "source": [
    "harfString = \"abcdefgh\""
   ]
  },
  {
   "cell_type": "code",
   "execution_count": 117,
   "id": "64feac5a",
   "metadata": {},
   "outputs": [
    {
     "data": {
      "text/plain": [
       "'defgh'"
      ]
     },
     "execution_count": 117,
     "metadata": {},
     "output_type": "execute_result"
    }
   ],
   "source": [
    "harfString[3:]   #ilk üç karakteri aldı sildi"
   ]
  },
  {
   "cell_type": "code",
   "execution_count": 122,
   "id": "eda5ee37",
   "metadata": {},
   "outputs": [
    {
     "data": {
      "text/plain": [
       "'abc'"
      ]
     },
     "execution_count": 122,
     "metadata": {},
     "output_type": "execute_result"
    }
   ],
   "source": [
    "harfString[:3]   #ilk üç karakteri aldı sildi\n",
    "#(üçüncü karakter ve üçüncü karakterden öncesini aldı)"
   ]
  },
  {
   "cell_type": "code",
   "execution_count": 123,
   "id": "7c954302",
   "metadata": {},
   "outputs": [],
   "source": [
    "gelenVeri = \"AhmetinYasi65\""
   ]
  },
  {
   "cell_type": "code",
   "execution_count": null,
   "id": "8169cff7",
   "metadata": {},
   "outputs": [],
   "source": [
    "# son iki rakamı alalım"
   ]
  },
  {
   "cell_type": "code",
   "execution_count": 124,
   "id": "cf931de0",
   "metadata": {},
   "outputs": [
    {
     "data": {
      "text/plain": [
       "'metinYasi65'"
      ]
     },
     "execution_count": 124,
     "metadata": {},
     "output_type": "execute_result"
    }
   ],
   "source": [
    "gelenVeri[2:] "
   ]
  },
  {
   "cell_type": "code",
   "execution_count": 126,
   "id": "50bf47f0",
   "metadata": {},
   "outputs": [
    {
     "data": {
      "text/plain": [
       "'Ah'"
      ]
     },
     "execution_count": 126,
     "metadata": {},
     "output_type": "execute_result"
    }
   ],
   "source": [
    "gelenVeri[:2] "
   ]
  },
  {
   "cell_type": "code",
   "execution_count": 130,
   "id": "1b58a699",
   "metadata": {},
   "outputs": [
    {
     "data": {
      "text/plain": [
       "'65'"
      ]
     },
     "execution_count": 130,
     "metadata": {},
     "output_type": "execute_result"
    }
   ],
   "source": [
    "gelenVeri[-2:] #sondan ilk iki char.(0 ve 1.char.) almadı"
   ]
  },
  {
   "cell_type": "code",
   "execution_count": 133,
   "id": "b157b332",
   "metadata": {},
   "outputs": [
    {
     "data": {
      "text/plain": [
       "'me'"
      ]
     },
     "execution_count": 133,
     "metadata": {},
     "output_type": "execute_result"
    }
   ],
   "source": [
    "gelenVeri[2:4] \n",
    "# A h m e t i n Y a s i  6  5\n",
    "# 0 1 2 3 4 5 6 7 8 9 10 11 12\n",
    "#   [ başlangıç indexi : durma indexi  ]\n",
    "# [2:4] 2.indexten başla, 4.indexe kadar(4.index dahil değil)"
   ]
  },
  {
   "cell_type": "code",
   "execution_count": 137,
   "id": "4448f164",
   "metadata": {},
   "outputs": [],
   "source": [
    "# [ start index : stop index]"
   ]
  },
  {
   "cell_type": "markdown",
   "id": "1598320e",
   "metadata": {},
   "source": [
    "#### Step Size"
   ]
  },
  {
   "cell_type": "code",
   "execution_count": 135,
   "id": "d968614c",
   "metadata": {},
   "outputs": [],
   "source": [
    "gelenVeri = \"AhmetinYasi65\"\n",
    "# A h m e t i n Y a s i  6  5\n",
    "# 0 1 2 3 4 5 6 7 8 9 10 11 12"
   ]
  },
  {
   "cell_type": "code",
   "execution_count": 138,
   "id": "6e4c1cec",
   "metadata": {},
   "outputs": [
    {
     "data": {
      "text/plain": [
       "'Amtnai5'"
      ]
     },
     "execution_count": 138,
     "metadata": {},
     "output_type": "execute_result"
    }
   ],
   "source": [
    "gelenVeri[ : :2] # 2de 1 getiriyor\n",
    "# 2li nin 1.sini yazdır 2.sini sil"
   ]
  },
  {
   "cell_type": "code",
   "execution_count": 140,
   "id": "106a9a64",
   "metadata": {},
   "outputs": [
    {
     "data": {
      "text/plain": [
       "'Aens5'"
      ]
     },
     "execution_count": 140,
     "metadata": {},
     "output_type": "execute_result"
    }
   ],
   "source": [
    "gelenVeri[ : :3] # 3de 1 getiriyor\n",
    "# 3lü nün 1.sini yazdır 2 ve 3.sünü sil"
   ]
  },
  {
   "cell_type": "code",
   "execution_count": 141,
   "id": "917b1030",
   "metadata": {},
   "outputs": [
    {
     "data": {
      "text/plain": [
       "'Aens'"
      ]
     },
     "execution_count": 141,
     "metadata": {},
     "output_type": "execute_result"
    }
   ],
   "source": [
    "gelenVeri[0:12:3]"
   ]
  },
  {
   "cell_type": "code",
   "execution_count": 142,
   "id": "78171a37",
   "metadata": {},
   "outputs": [
    {
     "data": {
      "text/plain": [
       "'56isaYnitemhA'"
      ]
     },
     "execution_count": 142,
     "metadata": {},
     "output_type": "execute_result"
    }
   ],
   "source": [
    "gelenVeri[ : :-1] #tersten yazdırma işini step size ile yaptık"
   ]
  },
  {
   "cell_type": "code",
   "execution_count": 143,
   "id": "734d4d52",
   "metadata": {},
   "outputs": [
    {
     "data": {
      "text/plain": [
       "'5'"
      ]
     },
     "execution_count": 143,
     "metadata": {},
     "output_type": "execute_result"
    }
   ],
   "source": [
    "gelenVeri[-1:] "
   ]
  },
  {
   "cell_type": "code",
   "execution_count": 146,
   "id": "8ef16a16",
   "metadata": {},
   "outputs": [
    {
     "data": {
      "text/plain": [
       "'AhmetinYasi6'"
      ]
     },
     "execution_count": 146,
     "metadata": {},
     "output_type": "execute_result"
    }
   ],
   "source": [
    "gelenVeri[:-1] "
   ]
  },
  {
   "cell_type": "markdown",
   "id": "a36025d6",
   "metadata": {},
   "source": [
    "### String Metodları"
   ]
  },
  {
   "cell_type": "code",
   "execution_count": 147,
   "id": "bfa06b69",
   "metadata": {},
   "outputs": [],
   "source": [
    "ad= \"elif\""
   ]
  },
  {
   "cell_type": "code",
   "execution_count": 149,
   "id": "21239ae1",
   "metadata": {},
   "outputs": [
    {
     "data": {
      "text/plain": [
       "'Elif'"
      ]
     },
     "execution_count": 149,
     "metadata": {},
     "output_type": "execute_result"
    }
   ],
   "source": [
    "ad.capitalize() #ilk harfii büyüt"
   ]
  },
  {
   "cell_type": "code",
   "execution_count": 150,
   "id": "7759202c",
   "metadata": {},
   "outputs": [
    {
     "data": {
      "text/plain": [
       "'elif'"
      ]
     },
     "execution_count": 150,
     "metadata": {},
     "output_type": "execute_result"
    }
   ],
   "source": [
    "ad #eski değişken değişmedi"
   ]
  },
  {
   "cell_type": "code",
   "execution_count": 154,
   "id": "383b6b17",
   "metadata": {},
   "outputs": [],
   "source": [
    "yeniAd = ad.capitalize()\n",
    "#yeni bir değişken oluşturup orada istenen değişikliği depolayalım"
   ]
  },
  {
   "cell_type": "code",
   "execution_count": 155,
   "id": "f969d0ae",
   "metadata": {},
   "outputs": [
    {
     "data": {
      "text/plain": [
       "'Elif'"
      ]
     },
     "execution_count": 155,
     "metadata": {},
     "output_type": "execute_result"
    }
   ],
   "source": [
    "yeniAd"
   ]
  },
  {
   "cell_type": "code",
   "execution_count": 156,
   "id": "629c38c5",
   "metadata": {},
   "outputs": [
    {
     "data": {
      "text/plain": [
       "'elif'"
      ]
     },
     "execution_count": 156,
     "metadata": {},
     "output_type": "execute_result"
    }
   ],
   "source": [
    "ad"
   ]
  },
  {
   "cell_type": "code",
   "execution_count": 157,
   "id": "e39a7d0a",
   "metadata": {},
   "outputs": [],
   "source": [
    "tamAd = \"Elif Beyza Tok\""
   ]
  },
  {
   "cell_type": "code",
   "execution_count": 159,
   "id": "1ba5fdc9",
   "metadata": {},
   "outputs": [
    {
     "data": {
      "text/plain": [
       "['Elif', 'Beyza', 'Tok']"
      ]
     },
     "execution_count": 159,
     "metadata": {},
     "output_type": "execute_result"
    }
   ],
   "source": [
    "tamAd.split()  # boşluğa göre ayırıyor"
   ]
  },
  {
   "cell_type": "code",
   "execution_count": 161,
   "id": "41a587e0",
   "metadata": {},
   "outputs": [
    {
     "data": {
      "text/plain": [
       "'Elif Beyza Tok'"
      ]
     },
     "execution_count": 161,
     "metadata": {},
     "output_type": "execute_result"
    }
   ],
   "source": [
    "tamAd"
   ]
  },
  {
   "cell_type": "code",
   "execution_count": 162,
   "id": "734da67c",
   "metadata": {},
   "outputs": [
    {
     "data": {
      "text/plain": [
       "str"
      ]
     },
     "execution_count": 162,
     "metadata": {},
     "output_type": "execute_result"
    }
   ],
   "source": [
    "type(tamAd)"
   ]
  },
  {
   "cell_type": "code",
   "execution_count": 163,
   "id": "15f712a6",
   "metadata": {},
   "outputs": [
    {
     "data": {
      "text/plain": [
       "list"
      ]
     },
     "execution_count": 163,
     "metadata": {},
     "output_type": "execute_result"
    }
   ],
   "source": [
    "type(tamAd.split())"
   ]
  },
  {
   "cell_type": "code",
   "execution_count": 164,
   "id": "385a777f",
   "metadata": {},
   "outputs": [],
   "source": [
    "listeler = tamAd.split()"
   ]
  },
  {
   "cell_type": "code",
   "execution_count": 165,
   "id": "8c5f05ba",
   "metadata": {},
   "outputs": [
    {
     "data": {
      "text/plain": [
       "'Elif'"
      ]
     },
     "execution_count": 165,
     "metadata": {},
     "output_type": "execute_result"
    }
   ],
   "source": [
    "listeler[0]"
   ]
  },
  {
   "cell_type": "code",
   "execution_count": 167,
   "id": "4af37f3d",
   "metadata": {},
   "outputs": [
    {
     "data": {
      "text/plain": [
       "'ELIF BEYZA TOK'"
      ]
     },
     "execution_count": 167,
     "metadata": {},
     "output_type": "execute_result"
    }
   ],
   "source": [
    "tamAd.upper() #tüm harfleri büyütür"
   ]
  },
  {
   "cell_type": "code",
   "execution_count": 168,
   "id": "e17b33a8",
   "metadata": {},
   "outputs": [
    {
     "data": {
      "text/plain": [
       "'elifelifelif'"
      ]
     },
     "execution_count": 168,
     "metadata": {},
     "output_type": "execute_result"
    }
   ],
   "source": [
    "ad * 3"
   ]
  },
  {
   "cell_type": "code",
   "execution_count": 170,
   "id": "fc8ba24e",
   "metadata": {},
   "outputs": [
    {
     "data": {
      "text/plain": [
       "'Adım Elif Beyza Tok'"
      ]
     },
     "execution_count": 170,
     "metadata": {},
     "output_type": "execute_result"
    }
   ],
   "source": [
    "\"Adım \" + tamAd "
   ]
  },
  {
   "cell_type": "code",
   "execution_count": 171,
   "id": "f7c232f8",
   "metadata": {},
   "outputs": [
    {
     "data": {
      "text/plain": [
       "'510'"
      ]
     },
     "execution_count": 171,
     "metadata": {},
     "output_type": "execute_result"
    }
   ],
   "source": [
    "j = \"5\"\n",
    "k = \"10\"\n",
    "j + k"
   ]
  },
  {
   "cell_type": "code",
   "execution_count": null,
   "id": "e55fb18e",
   "metadata": {},
   "outputs": [],
   "source": []
  }
 ],
 "metadata": {
  "kernelspec": {
   "display_name": "Python 3 (ipykernel)",
   "language": "python",
   "name": "python3"
  },
  "language_info": {
   "codemirror_mode": {
    "name": "ipython",
    "version": 3
   },
   "file_extension": ".py",
   "mimetype": "text/x-python",
   "name": "python",
   "nbconvert_exporter": "python",
   "pygments_lexer": "ipython3",
   "version": "3.9.13"
  }
 },
 "nbformat": 4,
 "nbformat_minor": 5
}
