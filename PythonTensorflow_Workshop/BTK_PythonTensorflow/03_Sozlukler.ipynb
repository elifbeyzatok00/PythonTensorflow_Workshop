{
 "cells": [
  {
   "cell_type": "markdown",
   "id": "4a4e281d",
   "metadata": {},
   "source": [
    "# Dictionary(Sözlük)"
   ]
  },
  {
   "cell_type": "markdown",
   "id": "f650e9fa",
   "metadata": {},
   "source": [
    "### Sözlük, Listeler gibi bir collection(koleksiyon) yapısı ama Listeler gibi dizin ile çalışmıyor"
   ]
  },
  {
   "cell_type": "markdown",
   "id": "5a62a763",
   "metadata": {},
   "source": [
    "### Listeler index ile çağırılırdı. örn: liste[0]"
   ]
  },
  {
   "cell_type": "markdown",
   "id": "19310a26",
   "metadata": {},
   "source": [
    "### Sözlükler anahtar kelime ile çağırılır  örn: benimSozluk[\"anahtarKelime\"]"
   ]
  },
  {
   "cell_type": "markdown",
   "id": "fbfea102",
   "metadata": {},
   "source": [
    "## key-value pairing (anahtar kelime - değer eşlemesi)"
   ]
  },
  {
   "cell_type": "code",
   "execution_count": 6,
   "id": "27075013",
   "metadata": {},
   "outputs": [],
   "source": [
    "benimYemeklerim = [\"Elma\", \"Karpuz\", \"Muz\"]"
   ]
  },
  {
   "cell_type": "code",
   "execution_count": 7,
   "id": "43be5229",
   "metadata": {},
   "outputs": [],
   "source": [
    "benimKalorilerim = [100, 200, 300]"
   ]
  },
  {
   "cell_type": "code",
   "execution_count": 8,
   "id": "eb7ad02c",
   "metadata": {},
   "outputs": [
    {
     "data": {
      "text/plain": [
       "'Karpuz'"
      ]
     },
     "execution_count": 8,
     "metadata": {},
     "output_type": "execute_result"
    }
   ],
   "source": [
    "benimYemeklerim[1]"
   ]
  },
  {
   "cell_type": "code",
   "execution_count": 9,
   "id": "ba39224f",
   "metadata": {},
   "outputs": [
    {
     "data": {
      "text/plain": [
       "200"
      ]
     },
     "execution_count": 9,
     "metadata": {},
     "output_type": "execute_result"
    }
   ],
   "source": [
    "benimKalorilerim[1]"
   ]
  },
  {
   "cell_type": "code",
   "execution_count": 10,
   "id": "90fa3a93",
   "metadata": {},
   "outputs": [],
   "source": [
    "benimSozluk = {\"anahtarKelime\": \"deger\"}"
   ]
  },
  {
   "cell_type": "code",
   "execution_count": 11,
   "id": "8d0b52a6",
   "metadata": {},
   "outputs": [
    {
     "data": {
      "text/plain": [
       "dict"
      ]
     },
     "execution_count": 11,
     "metadata": {},
     "output_type": "execute_result"
    }
   ],
   "source": [
    "type(benimSozluk)"
   ]
  },
  {
   "cell_type": "code",
   "execution_count": 13,
   "id": "de095f22",
   "metadata": {},
   "outputs": [
    {
     "data": {
      "text/plain": [
       "'deger'"
      ]
     },
     "execution_count": 13,
     "metadata": {},
     "output_type": "execute_result"
    }
   ],
   "source": [
    "benimSozluk[\"anahtarKelime\"]"
   ]
  },
  {
   "cell_type": "code",
   "execution_count": 24,
   "id": "6121b993",
   "metadata": {},
   "outputs": [],
   "source": [
    "benimYemekKaloriSozlugum = {\"elma\": 100, \"karpuz\":200, \"muz\":300 }"
   ]
  },
  {
   "cell_type": "code",
   "execution_count": 25,
   "id": "b741b8d1",
   "metadata": {},
   "outputs": [
    {
     "data": {
      "text/plain": [
       "{'elma': 100, 'karpuz': 200, 'muz': 300}"
      ]
     },
     "execution_count": 25,
     "metadata": {},
     "output_type": "execute_result"
    }
   ],
   "source": [
    "benimYemekKaloriSozlugum"
   ]
  },
  {
   "cell_type": "code",
   "execution_count": 26,
   "id": "467d4640",
   "metadata": {},
   "outputs": [
    {
     "data": {
      "text/plain": [
       "300"
      ]
     },
     "execution_count": 26,
     "metadata": {},
     "output_type": "execute_result"
    }
   ],
   "source": [
    "benimYemekKaloriSozlugum[\"muz\"]"
   ]
  },
  {
   "cell_type": "code",
   "execution_count": 27,
   "id": "88ccd5cc",
   "metadata": {},
   "outputs": [
    {
     "data": {
      "text/plain": [
       "100"
      ]
     },
     "execution_count": 27,
     "metadata": {},
     "output_type": "execute_result"
    }
   ],
   "source": [
    "benimYemekKaloriSozlugum[\"elma\"]"
   ]
  },
  {
   "cell_type": "code",
   "execution_count": 28,
   "id": "a94c70d4",
   "metadata": {},
   "outputs": [],
   "source": [
    "benimYemekKaloriSozlugum[\"elma\"] = 200"
   ]
  },
  {
   "cell_type": "code",
   "execution_count": 29,
   "id": "e93a87e6",
   "metadata": {},
   "outputs": [
    {
     "data": {
      "text/plain": [
       "200"
      ]
     },
     "execution_count": 29,
     "metadata": {},
     "output_type": "execute_result"
    }
   ],
   "source": [
    "benimYemekKaloriSozlugum[\"elma\"]"
   ]
  },
  {
   "cell_type": "code",
   "execution_count": 33,
   "id": "28c22d71",
   "metadata": {},
   "outputs": [],
   "source": [
    "benimDegisikYemekKaloriSozlugum = {150:\"elif\", -2:\"beyza\"}"
   ]
  },
  {
   "cell_type": "code",
   "execution_count": 34,
   "id": "e507f050",
   "metadata": {},
   "outputs": [
    {
     "data": {
      "text/plain": [
       "'elif'"
      ]
     },
     "execution_count": 34,
     "metadata": {},
     "output_type": "execute_result"
    }
   ],
   "source": [
    "benimDegisikYemekKaloriSozlugum[150]"
   ]
  },
  {
   "cell_type": "code",
   "execution_count": 35,
   "id": "89aa2c8d",
   "metadata": {},
   "outputs": [],
   "source": [
    "yeniDictionary = { \"anahtar\":100, \"anahtar2\":[10, 20, 30, 40, 4.5, \"elif\"], \"anahtar3\":{\"anahtar9\":4} }"
   ]
  },
  {
   "cell_type": "code",
   "execution_count": 40,
   "id": "84d581e6",
   "metadata": {},
   "outputs": [
    {
     "data": {
      "text/plain": [
       "int"
      ]
     },
     "execution_count": 40,
     "metadata": {},
     "output_type": "execute_result"
    }
   ],
   "source": [
    "type(yeniDictionary[\"anahtar\"])"
   ]
  },
  {
   "cell_type": "code",
   "execution_count": 41,
   "id": "0f7ede8c",
   "metadata": {},
   "outputs": [
    {
     "data": {
      "text/plain": [
       "list"
      ]
     },
     "execution_count": 41,
     "metadata": {},
     "output_type": "execute_result"
    }
   ],
   "source": [
    "type(yeniDictionary[\"anahtar2\"])"
   ]
  },
  {
   "cell_type": "code",
   "execution_count": 42,
   "id": "d2a9f54a",
   "metadata": {},
   "outputs": [
    {
     "data": {
      "text/plain": [
       "dict"
      ]
     },
     "execution_count": 42,
     "metadata": {},
     "output_type": "execute_result"
    }
   ],
   "source": [
    "type(yeniDictionary[\"anahtar3\"])"
   ]
  },
  {
   "cell_type": "code",
   "execution_count": 43,
   "id": "874c617b",
   "metadata": {},
   "outputs": [
    {
     "data": {
      "text/plain": [
       "int"
      ]
     },
     "execution_count": 43,
     "metadata": {},
     "output_type": "execute_result"
    }
   ],
   "source": [
    "type(yeniDictionary[\"anahtar3\"][\"anahtar9\"])"
   ]
  },
  {
   "cell_type": "code",
   "execution_count": 47,
   "id": "be171410",
   "metadata": {},
   "outputs": [
    {
     "data": {
      "text/plain": [
       "dict_keys(['anahtar', 'anahtar2', 'anahtar3'])"
      ]
     },
     "execution_count": 47,
     "metadata": {},
     "output_type": "execute_result"
    }
   ],
   "source": [
    "yeniDictionary.keys()   # sadece anahtar kelimeleri verir"
   ]
  },
  {
   "cell_type": "code",
   "execution_count": 48,
   "id": "1360fcac",
   "metadata": {},
   "outputs": [
    {
     "data": {
      "text/plain": [
       "dict_values([100, [10, 20, 30, 40, 4.5, 'elif'], {'anahtar9': 4}])"
      ]
     },
     "execution_count": 48,
     "metadata": {},
     "output_type": "execute_result"
    }
   ],
   "source": [
    "yeniDictionary.values()"
   ]
  },
  {
   "cell_type": "code",
   "execution_count": 50,
   "id": "cba4709a",
   "metadata": {},
   "outputs": [
    {
     "data": {
      "text/plain": [
       "'elif'"
      ]
     },
     "execution_count": 50,
     "metadata": {},
     "output_type": "execute_result"
    }
   ],
   "source": [
    "# elif değerini alalım\n",
    "yeniDictionary[\"anahtar2\"][5]"
   ]
  },
  {
   "cell_type": "code",
   "execution_count": 52,
   "id": "e0fe59a3",
   "metadata": {},
   "outputs": [
    {
     "data": {
      "text/plain": [
       "'elif'"
      ]
     },
     "execution_count": 52,
     "metadata": {},
     "output_type": "execute_result"
    }
   ],
   "source": [
    "# elif değerini alalım\n",
    "yeniDictionary[\"anahtar2\"][-1]  #dizinin son elemanı olduğu için -1 ile alınabilir"
   ]
  },
  {
   "cell_type": "code",
   "execution_count": 53,
   "id": "030d0b11",
   "metadata": {},
   "outputs": [
    {
     "data": {
      "text/plain": [
       "4"
      ]
     },
     "execution_count": 53,
     "metadata": {},
     "output_type": "execute_result"
    }
   ],
   "source": [
    "# 4 değerini alalım\n",
    "yeniDictionary[\"anahtar3\"][\"anahtar9\"]"
   ]
  },
  {
   "cell_type": "code",
   "execution_count": null,
   "id": "c29178cc",
   "metadata": {},
   "outputs": [],
   "source": []
  }
 ],
 "metadata": {
  "kernelspec": {
   "display_name": "Python 3 (ipykernel)",
   "language": "python",
   "name": "python3"
  },
  "language_info": {
   "codemirror_mode": {
    "name": "ipython",
    "version": 3
   },
   "file_extension": ".py",
   "mimetype": "text/x-python",
   "name": "python",
   "nbconvert_exporter": "python",
   "pygments_lexer": "ipython3",
   "version": "3.9.13"
  }
 },
 "nbformat": 4,
 "nbformat_minor": 5
}
