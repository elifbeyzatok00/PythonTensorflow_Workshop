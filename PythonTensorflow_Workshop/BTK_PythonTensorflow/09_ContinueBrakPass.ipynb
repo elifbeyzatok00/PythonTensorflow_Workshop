{
 "cells": [
  {
   "cell_type": "code",
   "execution_count": 1,
   "id": "1ca69cde",
   "metadata": {},
   "outputs": [],
   "source": [
    "liste = [5,10,15,20,25,30]"
   ]
  },
  {
   "cell_type": "code",
   "execution_count": 2,
   "id": "8bfa67a4",
   "metadata": {},
   "outputs": [
    {
     "name": "stdout",
     "output_type": "stream",
     "text": [
      "1.0\n",
      "2.0\n",
      "3.0\n",
      "4.0\n",
      "5.0\n",
      "6.0\n"
     ]
    }
   ],
   "source": [
    "for numara in liste:\n",
    "    print(numara / 5)"
   ]
  },
  {
   "cell_type": "code",
   "execution_count": 6,
   "id": "837b9619",
   "metadata": {},
   "outputs": [
    {
     "name": "stdout",
     "output_type": "stream",
     "text": [
      "5\n",
      "10\n"
     ]
    }
   ],
   "source": [
    "for numara in liste:\n",
    "    if numara == 15:\n",
    "        break\n",
    "    print(numara)\n",
    "#eğer numara 15 ise döngüyü durdur"
   ]
  },
  {
   "cell_type": "code",
   "execution_count": 7,
   "id": "9978519b",
   "metadata": {},
   "outputs": [
    {
     "name": "stdout",
     "output_type": "stream",
     "text": [
      "5\n",
      "10\n",
      "20\n",
      "25\n",
      "30\n"
     ]
    }
   ],
   "source": [
    "for numara in liste:\n",
    "    if numara == 15:\n",
    "        continue\n",
    "    print(numara)\n",
    "#eğer numara 15 ise 15 i atla, döngüye devam et"
   ]
  },
  {
   "cell_type": "code",
   "execution_count": 9,
   "id": "00f532fa",
   "metadata": {},
   "outputs": [],
   "source": [
    "for numara in liste:\n",
    "    pass\n",
    "        \n",
    "# pass, orada bir işlem yapmayacaksak. daha sonra bir şeyler ekleyeceksek geçmek için kullanırız"
   ]
  },
  {
   "cell_type": "code",
   "execution_count": null,
   "id": "333ee02c",
   "metadata": {},
   "outputs": [],
   "source": []
  }
 ],
 "metadata": {
  "kernelspec": {
   "display_name": "Python 3 (ipykernel)",
   "language": "python",
   "name": "python3"
  },
  "language_info": {
   "codemirror_mode": {
    "name": "ipython",
    "version": 3
   },
   "file_extension": ".py",
   "mimetype": "text/x-python",
   "name": "python",
   "nbconvert_exporter": "python",
   "pygments_lexer": "ipython3",
   "version": "3.9.13"
  }
 },
 "nbformat": 4,
 "nbformat_minor": 5
}
