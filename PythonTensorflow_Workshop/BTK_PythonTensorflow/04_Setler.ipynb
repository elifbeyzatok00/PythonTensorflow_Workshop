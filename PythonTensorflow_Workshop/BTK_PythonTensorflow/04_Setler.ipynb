{
 "cells": [
  {
   "cell_type": "markdown",
   "id": "000c35b6",
   "metadata": {},
   "source": [
    "# Sets"
   ]
  },
  {
   "cell_type": "markdown",
   "id": "bfd1d981",
   "metadata": {},
   "source": [
    "Listelerde aynı değer tekrar edebilir"
   ]
  },
  {
   "cell_type": "code",
   "execution_count": 4,
   "id": "0ea0aa3f",
   "metadata": {},
   "outputs": [],
   "source": [
    "benimListem = [1, 2, 3, 1, 2, 3]"
   ]
  },
  {
   "cell_type": "code",
   "execution_count": 5,
   "id": "ac81e8eb",
   "metadata": {},
   "outputs": [
    {
     "data": {
      "text/plain": [
       "1"
      ]
     },
     "execution_count": 5,
     "metadata": {},
     "output_type": "execute_result"
    }
   ],
   "source": [
    "benimListem[0]"
   ]
  },
  {
   "cell_type": "code",
   "execution_count": 6,
   "id": "942110e4",
   "metadata": {},
   "outputs": [
    {
     "data": {
      "text/plain": [
       "1"
      ]
     },
     "execution_count": 6,
     "metadata": {},
     "output_type": "execute_result"
    }
   ],
   "source": [
    "benimListem[3]"
   ]
  },
  {
   "cell_type": "markdown",
   "id": "9fcc658e",
   "metadata": {},
   "source": [
    "Ama Setler bir elemanı bir kerer barındırır"
   ]
  },
  {
   "cell_type": "code",
   "execution_count": 7,
   "id": "90e0f521",
   "metadata": {},
   "outputs": [],
   "source": [
    "benimListeSetim = set(benimListem)"
   ]
  },
  {
   "cell_type": "code",
   "execution_count": 8,
   "id": "8afb6d08",
   "metadata": {},
   "outputs": [
    {
     "data": {
      "text/plain": [
       "list"
      ]
     },
     "execution_count": 8,
     "metadata": {},
     "output_type": "execute_result"
    }
   ],
   "source": [
    "type(benimListem)"
   ]
  },
  {
   "cell_type": "code",
   "execution_count": 9,
   "id": "8917f170",
   "metadata": {},
   "outputs": [
    {
     "data": {
      "text/plain": [
       "set"
      ]
     },
     "execution_count": 9,
     "metadata": {},
     "output_type": "execute_result"
    }
   ],
   "source": [
    "type(benimListeSetim)"
   ]
  },
  {
   "cell_type": "code",
   "execution_count": 10,
   "id": "5832dc50",
   "metadata": {},
   "outputs": [
    {
     "data": {
      "text/plain": [
       "{1, 2, 3}"
      ]
     },
     "execution_count": 10,
     "metadata": {},
     "output_type": "execute_result"
    }
   ],
   "source": [
    "benimListeSetim"
   ]
  },
  {
   "cell_type": "markdown",
   "id": "5751d06c",
   "metadata": {},
   "source": [
    "Aynı değerler tekrar etmemiş. duplicated(tekrar eden) veriler temizlenmiş"
   ]
  },
  {
   "cell_type": "code",
   "execution_count": 16,
   "id": "a372282c",
   "metadata": {},
   "outputs": [],
   "source": [
    "benimSet = {\"a\", \"b\", \"c\", \"a\"}"
   ]
  },
  {
   "cell_type": "code",
   "execution_count": 17,
   "id": "8a00bf23",
   "metadata": {},
   "outputs": [
    {
     "data": {
      "text/plain": [
       "set"
      ]
     },
     "execution_count": 17,
     "metadata": {},
     "output_type": "execute_result"
    }
   ],
   "source": [
    "type(benimSet)"
   ]
  },
  {
   "cell_type": "code",
   "execution_count": 18,
   "id": "c69c6618",
   "metadata": {},
   "outputs": [
    {
     "data": {
      "text/plain": [
       "{'a', 'b', 'c'}"
      ]
     },
     "execution_count": 18,
     "metadata": {},
     "output_type": "execute_result"
    }
   ],
   "source": [
    "benimSet"
   ]
  },
  {
   "cell_type": "markdown",
   "id": "9a4186fa",
   "metadata": {},
   "source": [
    "boş bir liste oluşturup eleman ekleyelim"
   ]
  },
  {
   "cell_type": "code",
   "execution_count": 19,
   "id": "3390d70e",
   "metadata": {},
   "outputs": [],
   "source": [
    "bosListe = []"
   ]
  },
  {
   "cell_type": "code",
   "execution_count": 20,
   "id": "a8c17302",
   "metadata": {},
   "outputs": [
    {
     "data": {
      "text/plain": [
       "list"
      ]
     },
     "execution_count": 20,
     "metadata": {},
     "output_type": "execute_result"
    }
   ],
   "source": [
    "type(bosListe)"
   ]
  },
  {
   "cell_type": "code",
   "execution_count": 21,
   "id": "d3b1f420",
   "metadata": {},
   "outputs": [
    {
     "data": {
      "text/plain": [
       "[]"
      ]
     },
     "execution_count": 21,
     "metadata": {},
     "output_type": "execute_result"
    }
   ],
   "source": [
    "bosListe"
   ]
  },
  {
   "cell_type": "code",
   "execution_count": 41,
   "id": "428b5b05",
   "metadata": {},
   "outputs": [],
   "source": [
    "bosListe2 = list()"
   ]
  },
  {
   "cell_type": "code",
   "execution_count": 42,
   "id": "bcaeb91f",
   "metadata": {},
   "outputs": [
    {
     "data": {
      "text/plain": [
       "list"
      ]
     },
     "execution_count": 42,
     "metadata": {},
     "output_type": "execute_result"
    }
   ],
   "source": [
    "type(bosListe2)"
   ]
  },
  {
   "cell_type": "code",
   "execution_count": 22,
   "id": "6cb85d8f",
   "metadata": {},
   "outputs": [],
   "source": [
    "bosListe.append(1)"
   ]
  },
  {
   "cell_type": "code",
   "execution_count": 23,
   "id": "0dc1eb43",
   "metadata": {},
   "outputs": [
    {
     "data": {
      "text/plain": [
       "[1]"
      ]
     },
     "execution_count": 23,
     "metadata": {},
     "output_type": "execute_result"
    }
   ],
   "source": [
    "bosListe"
   ]
  },
  {
   "cell_type": "markdown",
   "id": "8ca21a4f",
   "metadata": {},
   "source": [
    "bos bir sözlük oluşturup eleman ekleyelim"
   ]
  },
  {
   "cell_type": "code",
   "execution_count": 30,
   "id": "16601fb1",
   "metadata": {},
   "outputs": [],
   "source": [
    "bosSozluk = {}"
   ]
  },
  {
   "cell_type": "code",
   "execution_count": 31,
   "id": "e13f3a83",
   "metadata": {},
   "outputs": [
    {
     "data": {
      "text/plain": [
       "dict"
      ]
     },
     "execution_count": 31,
     "metadata": {},
     "output_type": "execute_result"
    }
   ],
   "source": [
    "type(bosSozluk)"
   ]
  },
  {
   "cell_type": "code",
   "execution_count": 45,
   "id": "b7bbb1b2",
   "metadata": {},
   "outputs": [],
   "source": [
    "bosSozluk2 = dict()"
   ]
  },
  {
   "cell_type": "code",
   "execution_count": 46,
   "id": "0df682da",
   "metadata": {},
   "outputs": [
    {
     "data": {
      "text/plain": [
       "dict"
      ]
     },
     "execution_count": 46,
     "metadata": {},
     "output_type": "execute_result"
    }
   ],
   "source": [
    "type(bosSozluk2)"
   ]
  },
  {
   "cell_type": "code",
   "execution_count": 32,
   "id": "0c2e7ffa",
   "metadata": {},
   "outputs": [],
   "source": [
    "bosSozluk[\"anahtarKelime\"] = 10"
   ]
  },
  {
   "cell_type": "code",
   "execution_count": 33,
   "id": "dcd12795",
   "metadata": {},
   "outputs": [
    {
     "data": {
      "text/plain": [
       "{'anahtarKelime': 10}"
      ]
     },
     "execution_count": 33,
     "metadata": {},
     "output_type": "execute_result"
    }
   ],
   "source": [
    "bosSozluk"
   ]
  },
  {
   "cell_type": "markdown",
   "id": "4fec4046",
   "metadata": {},
   "source": [
    "bos bir set oluşturup eleman ekleyelim"
   ]
  },
  {
   "cell_type": "code",
   "execution_count": 34,
   "id": "32edf888",
   "metadata": {},
   "outputs": [],
   "source": [
    "bosSet = set()"
   ]
  },
  {
   "cell_type": "code",
   "execution_count": 35,
   "id": "1cd83c47",
   "metadata": {},
   "outputs": [
    {
     "data": {
      "text/plain": [
       "set"
      ]
     },
     "execution_count": 35,
     "metadata": {},
     "output_type": "execute_result"
    }
   ],
   "source": [
    "type(bosSet)"
   ]
  },
  {
   "cell_type": "code",
   "execution_count": 36,
   "id": "1c65aa7f",
   "metadata": {},
   "outputs": [
    {
     "data": {
      "text/plain": [
       "set()"
      ]
     },
     "execution_count": 36,
     "metadata": {},
     "output_type": "execute_result"
    }
   ],
   "source": [
    "bosSet"
   ]
  },
  {
   "cell_type": "code",
   "execution_count": 37,
   "id": "98896b1b",
   "metadata": {},
   "outputs": [],
   "source": [
    "bosSet.add(10)"
   ]
  },
  {
   "cell_type": "code",
   "execution_count": 38,
   "id": "77bfeb4b",
   "metadata": {},
   "outputs": [],
   "source": [
    "bosSet.add(10)"
   ]
  },
  {
   "cell_type": "code",
   "execution_count": 39,
   "id": "9e526332",
   "metadata": {},
   "outputs": [],
   "source": [
    "bosSet.add(20)"
   ]
  },
  {
   "cell_type": "code",
   "execution_count": 40,
   "id": "e5b0f977",
   "metadata": {},
   "outputs": [
    {
     "data": {
      "text/plain": [
       "{10, 20}"
      ]
     },
     "execution_count": 40,
     "metadata": {},
     "output_type": "execute_result"
    }
   ],
   "source": [
    "bosSet"
   ]
  },
  {
   "cell_type": "code",
   "execution_count": null,
   "id": "958b1933",
   "metadata": {},
   "outputs": [],
   "source": []
  }
 ],
 "metadata": {
  "kernelspec": {
   "display_name": "Python 3 (ipykernel)",
   "language": "python",
   "name": "python3"
  },
  "language_info": {
   "codemirror_mode": {
    "name": "ipython",
    "version": 3
   },
   "file_extension": ".py",
   "mimetype": "text/x-python",
   "name": "python",
   "nbconvert_exporter": "python",
   "pygments_lexer": "ipython3",
   "version": "3.9.13"
  }
 },
 "nbformat": 4,
 "nbformat_minor": 5
}
