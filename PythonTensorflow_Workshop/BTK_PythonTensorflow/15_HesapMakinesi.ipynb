{
 "cells": [
  {
   "cell_type": "code",
   "execution_count": 1,
   "id": "352c2a48",
   "metadata": {},
   "outputs": [
    {
     "name": "stdout",
     "output_type": "stream",
     "text": [
      "ilk sayıyı giriniz: 4\n",
      "İşleminizi seçiniz: +-*/ : *\n",
      "ikinci sayıyı giriniz: 2\n"
     ]
    },
    {
     "data": {
      "text/plain": [
       "'4 + 2 = 8'"
      ]
     },
     "execution_count": 1,
     "metadata": {},
     "output_type": "execute_result"
    }
   ],
   "source": [
    "def hesapla(a, b, islem):\n",
    "    if islem == \"+\":\n",
    "        return (str(a)+\" + \"+str(b)+\" = \"+ str(a+b))\n",
    "    if islem == \"-\":\n",
    "        return (str(a)+\" - \"+str(b)+\" = \"+ str(a-b))\n",
    "    if islem == \"*\":\n",
    "        return (str(a)+\" + \"+str(b)+\" = \"+ str(a*b))\n",
    "    if islem == \"/\":\n",
    "        return (str(a)+\" - \"+str(b)+\" = \"+ str(a/b))\n",
    "\n",
    "\n",
    "\n",
    "a = int(input(\"ilk sayıyı giriniz: \"))\n",
    "\n",
    "islem = input(\"İşleminizi seçiniz: +-*/ : \")\n",
    "\n",
    "b = int(input(\"ikinci sayıyı giriniz: \"))\n",
    "\n",
    "\n",
    "\n",
    "hesapla(a, b, islem)"
   ]
  },
  {
   "cell_type": "markdown",
   "id": "a32d170f",
   "metadata": {},
   "source": [
    "# Alabileceğimiz hatalar ve Çözümleri"
   ]
  },
  {
   "cell_type": "code",
   "execution_count": 2,
   "id": "25af48c0",
   "metadata": {},
   "outputs": [
    {
     "name": "stdout",
     "output_type": "stream",
     "text": [
      "ilk sayıyı giriniz: a\n"
     ]
    },
    {
     "ename": "ValueError",
     "evalue": "invalid literal for int() with base 10: 'a'",
     "output_type": "error",
     "traceback": [
      "\u001b[1;31m---------------------------------------------------------------------------\u001b[0m",
      "\u001b[1;31mValueError\u001b[0m                                Traceback (most recent call last)",
      "\u001b[1;32m~\\AppData\\Local\\Temp\\ipykernel_12308\\2595745135.py\u001b[0m in \u001b[0;36m<module>\u001b[1;34m\u001b[0m\n\u001b[0;32m     11\u001b[0m \u001b[1;33m\u001b[0m\u001b[0m\n\u001b[0;32m     12\u001b[0m \u001b[1;33m\u001b[0m\u001b[0m\n\u001b[1;32m---> 13\u001b[1;33m \u001b[0ma\u001b[0m \u001b[1;33m=\u001b[0m \u001b[0mint\u001b[0m\u001b[1;33m(\u001b[0m\u001b[0minput\u001b[0m\u001b[1;33m(\u001b[0m\u001b[1;34m\"ilk sayıyı giriniz: \"\u001b[0m\u001b[1;33m)\u001b[0m\u001b[1;33m)\u001b[0m\u001b[1;33m\u001b[0m\u001b[1;33m\u001b[0m\u001b[0m\n\u001b[0m\u001b[0;32m     14\u001b[0m \u001b[1;33m\u001b[0m\u001b[0m\n\u001b[0;32m     15\u001b[0m \u001b[0mislem\u001b[0m \u001b[1;33m=\u001b[0m \u001b[0minput\u001b[0m\u001b[1;33m(\u001b[0m\u001b[1;34m\"İşleminizi seçiniz: +-*/ : \"\u001b[0m\u001b[1;33m)\u001b[0m\u001b[1;33m\u001b[0m\u001b[1;33m\u001b[0m\u001b[0m\n",
      "\u001b[1;31mValueError\u001b[0m: invalid literal for int() with base 10: 'a'"
     ]
    }
   ],
   "source": [
    "def hesapla2(a, b, islem):\n",
    "    if islem == \"+\":\n",
    "        return (str(a)+\" + \"+str(b)+\" = \"+ str(a+b))\n",
    "    if islem == \"-\":\n",
    "        return (str(a)+\" - \"+str(b)+\" = \"+ str(a-b))\n",
    "    if islem == \"*\":\n",
    "        return (str(a)+\" + \"+str(b)+\" = \"+ str(a*b))\n",
    "    if islem == \"/\":\n",
    "        return (str(a)+\" - \"+str(b)+\" = \"+ str(a/b))\n",
    "\n",
    "\n",
    "\n",
    "a = int(input(\"ilk sayıyı giriniz: \"))\n",
    "\n",
    "islem = input(\"İşleminizi seçiniz: +-*/ : \")\n",
    "\n",
    "b = int(input(\"ikinci sayıyı giriniz: \"))\n",
    "\n",
    "\n",
    "\n",
    "hesapla2(a, b, islem)"
   ]
  },
  {
   "cell_type": "code",
   "execution_count": 3,
   "id": "a8bf8c14",
   "metadata": {},
   "outputs": [],
   "source": [
    "#uygulama inputlarda str girerse hata verir"
   ]
  },
  {
   "cell_type": "code",
   "execution_count": 4,
   "id": "18d8e7a3",
   "metadata": {},
   "outputs": [
    {
     "name": "stdout",
     "output_type": "stream",
     "text": [
      "ilk sayıyı giriniz: 2\n",
      "İşleminizi seçiniz: +-*/ : atıl\n",
      "ikinci sayıyı giriniz: 3\n"
     ]
    }
   ],
   "source": [
    "def hesapla3(a, b, islem):\n",
    "    if islem == \"+\":\n",
    "        return (str(a)+\" + \"+str(b)+\" = \"+ str(a+b))\n",
    "    if islem == \"-\":\n",
    "        return (str(a)+\" - \"+str(b)+\" = \"+ str(a-b))\n",
    "    if islem == \"*\":\n",
    "        return (str(a)+\" + \"+str(b)+\" = \"+ str(a*b))\n",
    "    if islem == \"/\":\n",
    "        return (str(a)+\" - \"+str(b)+\" = \"+ str(a/b))\n",
    "\n",
    "\n",
    "\n",
    "a = int(input(\"ilk sayıyı giriniz: \"))\n",
    "\n",
    "islem = input(\"İşleminizi seçiniz: +-*/ : \")\n",
    "\n",
    "b = int(input(\"ikinci sayıyı giriniz: \"))\n",
    "\n",
    "\n",
    "\n",
    "hesapla3(a, b, islem)"
   ]
  },
  {
   "cell_type": "code",
   "execution_count": 5,
   "id": "46cf970c",
   "metadata": {},
   "outputs": [],
   "source": [
    "# uygulama işlem seçin kısmında if'lerde tanımlanmamış bir değer girdiğimizde uygulama çöker"
   ]
  },
  {
   "cell_type": "code",
   "execution_count": 6,
   "id": "5821627e",
   "metadata": {},
   "outputs": [
    {
     "name": "stdout",
     "output_type": "stream",
     "text": [
      "ilk sayıyı giriniz: 5\n",
      "İşleminizi seçiniz: +-*/ : /\n",
      "ikinci sayıyı giriniz: 5\n"
     ]
    },
    {
     "data": {
      "text/plain": [
       "'5 - 5 = 1.0'"
      ]
     },
     "execution_count": 6,
     "metadata": {},
     "output_type": "execute_result"
    }
   ],
   "source": [
    "def hesapla4(a, b, islem):\n",
    "    if islem == \"+\":\n",
    "        return (str(a)+\" + \"+str(b)+\" = \"+ str(a+b))\n",
    "    if islem == \"-\":\n",
    "        return (str(a)+\" - \"+str(b)+\" = \"+ str(a-b))\n",
    "    if islem == \"*\":\n",
    "        return (str(a)+\" + \"+str(b)+\" = \"+ str(a*b))\n",
    "    if islem == \"/\":\n",
    "        return (str(a)+\" - \"+str(b)+\" = \"+ str(a/b))\n",
    "\n",
    "\n",
    "\n",
    "a = int(input(\"ilk sayıyı giriniz: \"))\n",
    "\n",
    "islem = input(\"İşleminizi seçiniz: +-*/ : \")\n",
    "\n",
    "b = int(input(\"ikinci sayıyı giriniz: \"))\n",
    "\n",
    "\n",
    "\n",
    "hesapla4(a, b, islem)"
   ]
  },
  {
   "cell_type": "code",
   "execution_count": 7,
   "id": "a2b982b1",
   "metadata": {},
   "outputs": [],
   "source": [
    "#Uygulama bir kere çalışır ve durur ama ben sürekli çalışmasını istiyorum"
   ]
  },
  {
   "cell_type": "markdown",
   "id": "96936981",
   "metadata": {},
   "source": [
    "# "
   ]
  },
  {
   "cell_type": "markdown",
   "id": "6f813ae3",
   "metadata": {},
   "source": [
    "## Sorunları Çözelim:"
   ]
  },
  {
   "cell_type": "markdown",
   "id": "a6a963bf",
   "metadata": {},
   "source": [
    " 1- uygulamanın sürekli olarak çalışmasını sağlayalım"
   ]
  },
  {
   "cell_type": "code",
   "execution_count": null,
   "id": "2f3e6049",
   "metadata": {},
   "outputs": [
    {
     "name": "stdout",
     "output_type": "stream",
     "text": [
      "ilk sayıyı giriniz: 2\n",
      "İşleminizi seçiniz: +-*/ : +\n",
      "ikinci sayıyı giriniz: 2\n",
      "2 + 2 = 4\n"
     ]
    }
   ],
   "source": [
    "def hesapla5(a, b, islem):\n",
    "    if islem == \"+\":\n",
    "        return (str(a)+\" + \"+str(b)+\" = \"+ str(a+b))\n",
    "    if islem == \"-\":\n",
    "        return (str(a)+\" - \"+str(b)+\" = \"+ str(a-b))\n",
    "    if islem == \"*\":\n",
    "        return (str(a)+\" + \"+str(b)+\" = \"+ str(a*b))\n",
    "    if islem == \"/\":\n",
    "        return (str(a)+\" - \"+str(b)+\" = \"+ str(a/b))\n",
    "\n",
    "\n",
    "while True:  \n",
    "    a = int(input(\"ilk sayıyı giriniz: \"))\n",
    "    islem = input(\"İşleminizi seçiniz: +-*/ : \")\n",
    "    b = int(input(\"ikinci sayıyı giriniz: \"))\n",
    "    print(hesapla5(a, b, islem))"
   ]
  },
  {
   "cell_type": "markdown",
   "id": "0df5edb0",
   "metadata": {},
   "source": [
    "**while True:**  bundan sonra bu işin devamlı olmasını sağlar"
   ]
  },
  {
   "cell_type": "code",
   "execution_count": null,
   "id": "e860ecc3",
   "metadata": {},
   "outputs": [],
   "source": [
    "#bu sefer de sürekli olarak değer girmemi istedi ama çıktı vermedi\n",
    "#çıktı alabilmek için print fonk kullandık\n",
    "# Not: eğer fonk çalışmazsa Kernel>>Interrupt ile programı yeniden başlatın"
   ]
  },
  {
   "cell_type": "markdown",
   "id": "6259ff7f",
   "metadata": {},
   "source": [
    "# "
   ]
  },
  {
   "cell_type": "markdown",
   "id": "c2ce2fd5",
   "metadata": {},
   "source": [
    "2-uygulamanın işlem seçin kısmında if'lerde tanımlanmamış bir değer girdiğimizde programın çökmesini engelleyelim"
   ]
  },
  {
   "cell_type": "code",
   "execution_count": null,
   "id": "49b73825",
   "metadata": {},
   "outputs": [
    {
     "name": "stdout",
     "output_type": "stream",
     "text": [
      "ilk sayıyı giriniz: 10\n",
      "İşleminizi seçiniz: +-*/ : *\n",
      "ikinci sayıyı giriniz: 20\n",
      "10 + 20 = 200\n",
      "ilk sayıyı giriniz: 10\n",
      "İşleminizi seçiniz: +-*/ : atıl\n",
      "ikinci sayıyı giriniz: 20\n",
      "Lütfen şu işlemlerden birini seçiniz: +-*/\n",
      "ilk sayıyı giriniz: 40\n",
      "İşleminizi seçiniz: +-*/ : *\n",
      "ikinci sayıyı giriniz: 20\n",
      "40 + 20 = 800\n"
     ]
    }
   ],
   "source": [
    "def hesapla6(a, b, islem):\n",
    "    if islem not in \"+-*/\":\n",
    "        return \"Lütfen şu işlemlerden birini seçiniz: +-*/\"\n",
    "    \n",
    "    if islem == \"+\":\n",
    "        return (str(a)+\" + \"+str(b)+\" = \"+ str(a+b))\n",
    "    if islem == \"-\":\n",
    "        return (str(a)+\" - \"+str(b)+\" = \"+ str(a-b))\n",
    "    if islem == \"*\":\n",
    "        return (str(a)+\" + \"+str(b)+\" = \"+ str(a*b))\n",
    "    if islem == \"/\":\n",
    "        return (str(a)+\" - \"+str(b)+\" = \"+ str(a/b))\n",
    "\n",
    "\n",
    "while True:  \n",
    "    a = int(input(\"ilk sayıyı giriniz: \"))\n",
    "    islem = input(\"İşleminizi seçiniz: +-*/ : \")\n",
    "    b = int(input(\"ikinci sayıyı giriniz: \"))\n",
    "    print(hesapla6(a, b, islem))"
   ]
  },
  {
   "cell_type": "markdown",
   "id": "fb04379e",
   "metadata": {},
   "source": [
    "# "
   ]
  },
  {
   "cell_type": "markdown",
   "id": "32b1ecd2",
   "metadata": {},
   "source": [
    "Bir programın ters gitme, çökme ihtimali varsa **Error Handling - Hataları Ele Almak** işemini yapmalıyız"
   ]
  },
  {
   "cell_type": "markdown",
   "id": "830a4043",
   "metadata": {},
   "source": [
    "Python'da **Error Handling** : **try** ve **except** blokları ile sağlanır"
   ]
  },
  {
   "cell_type": "code",
   "execution_count": null,
   "id": "8009202f",
   "metadata": {},
   "outputs": [
    {
     "name": "stdout",
     "output_type": "stream",
     "text": [
      "ilk sayıyı giriniz: 4\n",
      "İşleminizi seçiniz: +-*/ : +\n",
      "ikinci sayıyı giriniz: 2\n",
      "4 + 2 = 6\n",
      "ilk sayıyı giriniz: atıl\n",
      "Lütfen sayıları düzgün giriniz\n",
      "ilk sayıyı giriniz: 6\n",
      "İşleminizi seçiniz: +-*/ : +\n",
      "ikinci sayıyı giriniz: osman\n",
      "Lütfen sayıları düzgün giriniz\n",
      "ilk sayıyı giriniz: 6\n",
      "İşleminizi seçiniz: +-*/ : mert\n",
      "ikinci sayıyı giriniz: 3\n",
      "Lütfen şu işlemlerden birini seçiniz: +-*/\n",
      "ilk sayıyı giriniz: 6\n",
      "İşleminizi seçiniz: +-*/ : +\n",
      "ikinci sayıyı giriniz: ali\n",
      "Lütfen sayıları düzgün giriniz\n",
      "ilk sayıyı giriniz: 6\n",
      "İşleminizi seçiniz: +-*/ : +\n",
      "ikinci sayıyı giriniz: 3\n",
      "6 + 3 = 9\n",
      "Lütfen sayıları düzgün giriniz\n"
     ]
    }
   ],
   "source": [
    "def hesapla7(a, b, islem):\n",
    "    if islem not in \"+-*/\":\n",
    "        return \"Lütfen şu işlemlerden birini seçiniz: +-*/\"\n",
    "    \n",
    "    if islem == \"+\":\n",
    "        return (str(a)+\" + \"+str(b)+\" = \"+ str(a+b))\n",
    "    if islem == \"-\":\n",
    "        return (str(a)+\" - \"+str(b)+\" = \"+ str(a-b))\n",
    "    if islem == \"*\":\n",
    "        return (str(a)+\" + \"+str(b)+\" = \"+ str(a*b))\n",
    "    if islem == \"/\":\n",
    "        return (str(a)+\" - \"+str(b)+\" = \"+ str(a/b))\n",
    "\n",
    "\n",
    "while True:  \n",
    "    try:\n",
    "        a = int(input(\"ilk sayıyı giriniz: \"))\n",
    "        islem = input(\"İşleminizi seçiniz: +-*/ : \")\n",
    "        b = int(input(\"ikinci sayıyı giriniz: \"))\n",
    "        print(hesapla7(a, b, islem))\n",
    "    except:\n",
    "        print(\"Lütfen sayıları düzgün giriniz\")\n",
    "        "
   ]
  },
  {
   "cell_type": "raw",
   "id": "cadcadc8",
   "metadata": {},
   "source": [
    "try altındakiler - bunu önce dene\n",
    "except altındakiler - try altındakileri yapamazsan buraya gel"
   ]
  },
  {
   "cell_type": "markdown",
   "id": "2a37fd41",
   "metadata": {},
   "source": [
    "# "
   ]
  },
  {
   "cell_type": "markdown",
   "id": "d393be60",
   "metadata": {},
   "source": [
    "Sonsuz döngü kullandığımız için programı çalışmazsa: Restart ya da interrupt+Restart"
   ]
  },
  {
   "cell_type": "markdown",
   "id": "cd0078ff",
   "metadata": {},
   "source": [
    "Sonsuz döngü kullandığımız için programı **kapatırken**: interrupt+Restart"
   ]
  },
  {
   "cell_type": "markdown",
   "id": "59a85feb",
   "metadata": {},
   "source": [
    "yapınız (bu işlemler Toolbar'da **Kernel** sekmesi altındadır)"
   ]
  },
  {
   "cell_type": "code",
   "execution_count": null,
   "id": "bd17165e",
   "metadata": {},
   "outputs": [],
   "source": []
  }
 ],
 "metadata": {
  "kernelspec": {
   "display_name": "Python 3 (ipykernel)",
   "language": "python",
   "name": "python3"
  },
  "language_info": {
   "codemirror_mode": {
    "name": "ipython",
    "version": 3
   },
   "file_extension": ".py",
   "mimetype": "text/x-python",
   "name": "python",
   "nbconvert_exporter": "python",
   "pygments_lexer": "ipython3",
   "version": "3.9.13"
  }
 },
 "nbformat": 4,
 "nbformat_minor": 5
}
