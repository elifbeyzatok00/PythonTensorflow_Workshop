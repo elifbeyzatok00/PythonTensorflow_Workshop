{
 "cells": [
  {
   "cell_type": "code",
   "execution_count": 15,
   "id": "fb563847",
   "metadata": {},
   "outputs": [
    {
     "name": "stdout",
     "output_type": "stream",
     "text": [
      "ilk sayıyı giriniz: 4\n",
      "İşleminizi seçiniz: +-*/ : /\n",
      "ikinci sayıyı giriniz: 2\n"
     ]
    },
    {
     "data": {
      "text/plain": [
       "'4 - 2 = 2.0'"
      ]
     },
     "execution_count": 15,
     "metadata": {},
     "output_type": "execute_result"
    }
   ],
   "source": [
    "def hesapla(a, b, islem):\n",
    "    if islem == \"+\":\n",
    "        return (str(a)+\" + \"+str(b)+\" = \"+ str(a+b))\n",
    "    if islem == \"-\":\n",
    "        return (str(a)+\" - \"+str(b)+\" = \"+ str(a-b))\n",
    "    if islem == \"*\":\n",
    "        return (str(a)+\" + \"+str(b)+\" = \"+ str(a*b))\n",
    "    if islem == \"/\":\n",
    "        return (str(a)+\" - \"+str(b)+\" = \"+ str(a/b))\n",
    "\n",
    "\n",
    "\n",
    "a = int(input(\"ilk sayıyı giriniz: \"))\n",
    "\n",
    "islem = input(\"İşleminizi seçiniz: +-*/ : \")\n",
    "\n",
    "b = int(input(\"ikinci sayıyı giriniz: \"))\n",
    "\n",
    "\n",
    "\n",
    "hesapla(a, b, islem)"
   ]
  },
  {
   "cell_type": "code",
   "execution_count": null,
   "id": "5ed8f4ff",
   "metadata": {},
   "outputs": [],
   "source": []
  }
 ],
 "metadata": {
  "kernelspec": {
   "display_name": "Python 3 (ipykernel)",
   "language": "python",
   "name": "python3"
  },
  "language_info": {
   "codemirror_mode": {
    "name": "ipython",
    "version": 3
   },
   "file_extension": ".py",
   "mimetype": "text/x-python",
   "name": "python",
   "nbconvert_exporter": "python",
   "pygments_lexer": "ipython3",
   "version": "3.9.13"
  }
 },
 "nbformat": 4,
 "nbformat_minor": 5
}
