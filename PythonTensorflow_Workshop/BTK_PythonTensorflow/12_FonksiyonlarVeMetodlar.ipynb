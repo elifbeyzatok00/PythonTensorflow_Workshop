{
 "cells": [
  {
   "cell_type": "markdown",
   "id": "1fa296a2",
   "metadata": {},
   "source": [
    "fonksiyonlar girdi alabilir, çıktı verebilir, ikisini aynı anda da yapabilir. Bu girdi,çıktılar isteğe bağlı kullanılır.\n",
    "Zorunlu değildir."
   ]
  },
  {
   "cell_type": "code",
   "execution_count": 6,
   "id": "27842eec",
   "metadata": {},
   "outputs": [],
   "source": [
    "adim = \"Elif Beyza Tok\""
   ]
  },
  {
   "cell_type": "code",
   "execution_count": 7,
   "id": "4c4e7efe",
   "metadata": {},
   "outputs": [
    {
     "data": {
      "text/plain": [
       "'ELIF BEYZA TOK'"
      ]
     },
     "execution_count": 7,
     "metadata": {},
     "output_type": "execute_result"
    }
   ],
   "source": [
    "adim.upper()"
   ]
  },
  {
   "cell_type": "code",
   "execution_count": 8,
   "id": "1667cef7",
   "metadata": {},
   "outputs": [],
   "source": [
    "adimBuyuk = adim.upper()"
   ]
  },
  {
   "cell_type": "code",
   "execution_count": 9,
   "id": "efa7fe14",
   "metadata": {},
   "outputs": [
    {
     "data": {
      "text/plain": [
       "'ELIF BEYZA TOK'"
      ]
     },
     "execution_count": 9,
     "metadata": {},
     "output_type": "execute_result"
    }
   ],
   "source": [
    "adimBuyuk"
   ]
  },
  {
   "cell_type": "code",
   "execution_count": 10,
   "id": "4a2467d0",
   "metadata": {},
   "outputs": [
    {
     "data": {
      "text/plain": [
       "'Elif Beyza Tok'"
      ]
     },
     "execution_count": 10,
     "metadata": {},
     "output_type": "execute_result"
    }
   ],
   "source": [
    "adim"
   ]
  },
  {
   "cell_type": "code",
   "execution_count": 11,
   "id": "4a8e3bdd",
   "metadata": {},
   "outputs": [
    {
     "name": "stdout",
     "output_type": "stream",
     "text": [
      "Help on built-in function upper:\n",
      "\n",
      "upper() method of builtins.str instance\n",
      "    Return a copy of the string converted to uppercase.\n",
      "\n"
     ]
    }
   ],
   "source": [
    "help(adim.upper)"
   ]
  },
  {
   "cell_type": "code",
   "execution_count": 12,
   "id": "75f51a79",
   "metadata": {},
   "outputs": [],
   "source": [
    "def ilkFonksiyon():\n",
    "    print(\"ilk fonksiyonum\")"
   ]
  },
  {
   "cell_type": "code",
   "execution_count": 14,
   "id": "53618f9c",
   "metadata": {},
   "outputs": [
    {
     "name": "stdout",
     "output_type": "stream",
     "text": [
      "ilk fonksiyonum\n"
     ]
    }
   ],
   "source": [
    "ilkFonksiyon()  # () koymak execute-uygula, çalıştır anlamına gelir"
   ]
  },
  {
   "cell_type": "markdown",
   "id": "2f567991",
   "metadata": {},
   "source": [
    "## input & return"
   ]
  },
  {
   "cell_type": "code",
   "execution_count": 19,
   "id": "5fe06b01",
   "metadata": {},
   "outputs": [],
   "source": [
    "def merhabaDunya(yazdirilacakIsim): #merhabaDunya parametre olarak ne girilirse onu döndürecek\n",
    "    print(\"Merhaba \")\n",
    "    print(yazdirilacakIsim)"
   ]
  },
  {
   "cell_type": "code",
   "execution_count": 20,
   "id": "93465b99",
   "metadata": {},
   "outputs": [
    {
     "name": "stdout",
     "output_type": "stream",
     "text": [
      "Merhaba \n",
      "Elif\n"
     ]
    }
   ],
   "source": [
    "merhabaDunya(\"Elif\")"
   ]
  },
  {
   "cell_type": "code",
   "execution_count": 21,
   "id": "9eb291e3",
   "metadata": {},
   "outputs": [
    {
     "name": "stdout",
     "output_type": "stream",
     "text": [
      "Merhaba \n",
      "python\n"
     ]
    }
   ],
   "source": [
    "merhabaDunya(\"python\")"
   ]
  },
  {
   "cell_type": "code",
   "execution_count": 23,
   "id": "3d4821b2",
   "metadata": {},
   "outputs": [],
   "source": [
    "def merhaba(isim = \"elif\"): #merhaba parametre girilmezse elif; girilirse girilen parametreyi döndürecek\n",
    "    print(\"merhaba\")\n",
    "    print(isim)"
   ]
  },
  {
   "cell_type": "code",
   "execution_count": 24,
   "id": "8c2b7315",
   "metadata": {},
   "outputs": [
    {
     "name": "stdout",
     "output_type": "stream",
     "text": [
      "merhaba\n",
      "elif\n"
     ]
    }
   ],
   "source": [
    "merhaba()"
   ]
  },
  {
   "cell_type": "code",
   "execution_count": 25,
   "id": "981bc1b3",
   "metadata": {},
   "outputs": [
    {
     "name": "stdout",
     "output_type": "stream",
     "text": [
      "merhaba\n",
      "dünya\n"
     ]
    }
   ],
   "source": [
    "merhaba(\"dünya\")"
   ]
  },
  {
   "cell_type": "code",
   "execution_count": 26,
   "id": "9567ea4d",
   "metadata": {},
   "outputs": [],
   "source": [
    "def toplama(numara1, numara2):\n",
    "    sonuc = numara1 + numara2\n",
    "    print(sonuc)"
   ]
  },
  {
   "cell_type": "code",
   "execution_count": 27,
   "id": "e727aa95",
   "metadata": {},
   "outputs": [
    {
     "name": "stdout",
     "output_type": "stream",
     "text": [
      "30\n"
     ]
    }
   ],
   "source": [
    "toplama(10, 20)"
   ]
  },
  {
   "cell_type": "code",
   "execution_count": 28,
   "id": "fd17f5e2",
   "metadata": {},
   "outputs": [
    {
     "name": "stdout",
     "output_type": "stream",
     "text": [
      "150\n"
     ]
    }
   ],
   "source": [
    "toplama(-200, 350)"
   ]
  },
  {
   "cell_type": "code",
   "execution_count": 30,
   "id": "7cdb51e6",
   "metadata": {},
   "outputs": [],
   "source": [
    "def superToplama(numara1, numara2, numara3):\n",
    "    print(numara1 + numara2 + numara3)"
   ]
  },
  {
   "cell_type": "code",
   "execution_count": 31,
   "id": "5c7fab08",
   "metadata": {},
   "outputs": [
    {
     "name": "stdout",
     "output_type": "stream",
     "text": [
      "60\n"
     ]
    }
   ],
   "source": [
    "superToplama(10, 20, 30)"
   ]
  },
  {
   "cell_type": "markdown",
   "id": "ac6a3277",
   "metadata": {},
   "source": [
    "toplama() fonksiyonu bir değer döndürmüyor. None döndürüyor boşluk. Görelim:"
   ]
  },
  {
   "cell_type": "code",
   "execution_count": 37,
   "id": "3a15d562",
   "metadata": {},
   "outputs": [
    {
     "name": "stdout",
     "output_type": "stream",
     "text": [
      "30\n"
     ]
    }
   ],
   "source": [
    "yeniDegisken = toplama(10, 20)"
   ]
  },
  {
   "cell_type": "code",
   "execution_count": 44,
   "id": "fd32792e",
   "metadata": {},
   "outputs": [],
   "source": [
    "yeniDegisken"
   ]
  },
  {
   "cell_type": "code",
   "execution_count": 38,
   "id": "a011f052",
   "metadata": {},
   "outputs": [
    {
     "name": "stdout",
     "output_type": "stream",
     "text": [
      "None\n"
     ]
    }
   ],
   "source": [
    "print(yeniDegisken)"
   ]
  },
  {
   "cell_type": "code",
   "execution_count": 39,
   "id": "9d9e4beb",
   "metadata": {},
   "outputs": [
    {
     "data": {
      "text/plain": [
       "NoneType"
      ]
     },
     "execution_count": 39,
     "metadata": {},
     "output_type": "execute_result"
    }
   ],
   "source": [
    "type(yeniDegisken)"
   ]
  },
  {
   "cell_type": "markdown",
   "id": "6be67578",
   "metadata": {},
   "source": [
    "Eğer bu fonksiyonu bir değişkene eşitlemek istiyorsam bu fonksiyon bir sonuç döndürmeli. Nasıl? :"
   ]
  },
  {
   "cell_type": "code",
   "execution_count": 41,
   "id": "b712f314",
   "metadata": {},
   "outputs": [],
   "source": [
    "def dondurmeliToplama(num1, num2):\n",
    "    return num1 + num2"
   ]
  },
  {
   "cell_type": "code",
   "execution_count": 42,
   "id": "302692a4",
   "metadata": {},
   "outputs": [
    {
     "data": {
      "text/plain": [
       "30"
      ]
     },
     "execution_count": 42,
     "metadata": {},
     "output_type": "execute_result"
    }
   ],
   "source": [
    "dondurmeliToplama(10, 20)"
   ]
  },
  {
   "cell_type": "code",
   "execution_count": 43,
   "id": "8d6e2fc9",
   "metadata": {},
   "outputs": [],
   "source": [
    "yeniSonuc = dondurmeliToplama(10, 20)"
   ]
  },
  {
   "cell_type": "code",
   "execution_count": 45,
   "id": "908ce552",
   "metadata": {},
   "outputs": [
    {
     "data": {
      "text/plain": [
       "30"
      ]
     },
     "execution_count": 45,
     "metadata": {},
     "output_type": "execute_result"
    }
   ],
   "source": [
    "yeniSonuc"
   ]
  },
  {
   "cell_type": "code",
   "execution_count": 46,
   "id": "1946d5a0",
   "metadata": {},
   "outputs": [
    {
     "data": {
      "text/plain": [
       "int"
      ]
     },
     "execution_count": 46,
     "metadata": {},
     "output_type": "execute_result"
    }
   ],
   "source": [
    "type(yeniSonuc)"
   ]
  },
  {
   "cell_type": "code",
   "execution_count": 47,
   "id": "2ae5d5ab",
   "metadata": {},
   "outputs": [],
   "source": [
    "def kontrolFonksiyon(s):\n",
    "    if s == \"elif\":\n",
    "        print(\"verdiğiniz string elif\")\n",
    "    else:\n",
    "        print(\"verdiğiniz string elif değil\")\n",
    "        "
   ]
  },
  {
   "cell_type": "code",
   "execution_count": 49,
   "id": "b67c19a9",
   "metadata": {},
   "outputs": [
    {
     "name": "stdout",
     "output_type": "stream",
     "text": [
      "verdiğiniz string elif\n"
     ]
    }
   ],
   "source": [
    "kontrolFonksiyon(\"elif\")"
   ]
  },
  {
   "cell_type": "code",
   "execution_count": 50,
   "id": "be6c6286",
   "metadata": {},
   "outputs": [
    {
     "name": "stdout",
     "output_type": "stream",
     "text": [
      "verdiğiniz string elif değil\n"
     ]
    }
   ],
   "source": [
    "kontrolFonksiyon(\"beyza\")"
   ]
  },
  {
   "cell_type": "markdown",
   "id": "0d171ec5",
   "metadata": {},
   "source": [
    "# args & kwargs"
   ]
  },
  {
   "cell_type": "markdown",
   "id": "91974007",
   "metadata": {},
   "source": [
    "**args**- argumans, **kwargs**- keyword argumans"
   ]
  },
  {
   "cell_type": "markdown",
   "id": "6a0d0c93",
   "metadata": {},
   "source": [
    "*args - önüne *(yıldız) koyunca, istediğimiz kadar argüman koyabileceğimizi söylemiş oluruz"
   ]
  },
  {
   "cell_type": "code",
   "execution_count": 51,
   "id": "c70eb67b",
   "metadata": {},
   "outputs": [],
   "source": [
    "def yeniToplama(*args):\n",
    "    return sum(args)\n",
    "#alınan tüm argümanları toplayan bir fonksiyon yazdık"
   ]
  },
  {
   "cell_type": "code",
   "execution_count": 52,
   "id": "762cd68f",
   "metadata": {},
   "outputs": [
    {
     "data": {
      "text/plain": [
       "210"
      ]
     },
     "execution_count": 52,
     "metadata": {},
     "output_type": "execute_result"
    }
   ],
   "source": [
    "yeniToplama(10,20,30,40,50,60)"
   ]
  },
  {
   "cell_type": "code",
   "execution_count": 53,
   "id": "6deb0eca",
   "metadata": {},
   "outputs": [
    {
     "data": {
      "text/plain": [
       "30"
      ]
     },
     "execution_count": 53,
     "metadata": {},
     "output_type": "execute_result"
    }
   ],
   "source": [
    "yeniToplama(10,20)"
   ]
  },
  {
   "cell_type": "code",
   "execution_count": 54,
   "id": "71742741",
   "metadata": {},
   "outputs": [],
   "source": [
    "def yeniToplama(*args):\n",
    "    print(args)\n",
    "#    return sum(args)"
   ]
  },
  {
   "cell_type": "code",
   "execution_count": 55,
   "id": "dbb444a3",
   "metadata": {},
   "outputs": [
    {
     "name": "stdout",
     "output_type": "stream",
     "text": [
      "(20, 30, 40)\n"
     ]
    }
   ],
   "source": [
    "yeniToplama(20,30,40)"
   ]
  },
  {
   "cell_type": "code",
   "execution_count": 56,
   "id": "366263c0",
   "metadata": {},
   "outputs": [
    {
     "name": "stdout",
     "output_type": "stream",
     "text": [
      "(20, 30, 40)\n"
     ]
    },
    {
     "data": {
      "text/plain": [
       "NoneType"
      ]
     },
     "execution_count": 56,
     "metadata": {},
     "output_type": "execute_result"
    }
   ],
   "source": [
    "type(yeniToplama(20,30,40))"
   ]
  },
  {
   "cell_type": "markdown",
   "id": "1636196d",
   "metadata": {},
   "source": [
    "Tuple gibi gözüküyor ama değil NoneType. Yukarıda da sadece print etti "
   ]
  },
  {
   "cell_type": "code",
   "execution_count": 59,
   "id": "3137c532",
   "metadata": {},
   "outputs": [],
   "source": [
    "def yeniToplama(*args):\n",
    "    return args"
   ]
  },
  {
   "cell_type": "code",
   "execution_count": 60,
   "id": "25b484b5",
   "metadata": {},
   "outputs": [
    {
     "data": {
      "text/plain": [
       "(20, 30, 40)"
      ]
     },
     "execution_count": 60,
     "metadata": {},
     "output_type": "execute_result"
    }
   ],
   "source": [
    "yeniToplama(20,30,40)"
   ]
  },
  {
   "cell_type": "code",
   "execution_count": 61,
   "id": "567dc63d",
   "metadata": {},
   "outputs": [
    {
     "data": {
      "text/plain": [
       "tuple"
      ]
     },
     "execution_count": 61,
     "metadata": {},
     "output_type": "execute_result"
    }
   ],
   "source": [
    "type(yeniToplama(20,30,40))"
   ]
  },
  {
   "cell_type": "markdown",
   "id": "7ed37aee",
   "metadata": {},
   "source": [
    "Return ettiğimiz için artık Tuple döndürüyor"
   ]
  },
  {
   "cell_type": "markdown",
   "id": "067d6f8a",
   "metadata": {},
   "source": [
    "Yani return işlemi bir tuple ı değişkene kaydetmemizi sağladı.\n",
    "\n",
    "Yani args(argümanlar) başına *(yıldız) konarak verildiğinde **Tuple** olarak tanımlanıyor.\n",
    "Ama tam olarak Tuple diyebilmek için **return de etmemiz gerekiyor**"
   ]
  },
  {
   "cell_type": "markdown",
   "id": "6d1296e6",
   "metadata": {},
   "source": [
    "# "
   ]
  },
  {
   "cell_type": "markdown",
   "id": "0e2b33dd",
   "metadata": {},
   "source": [
    "**kwargs**, anahtar kelimeler ile çalıştığımızda işe yarar"
   ]
  },
  {
   "cell_type": "code",
   "execution_count": 69,
   "id": "9c89fc01",
   "metadata": {},
   "outputs": [],
   "source": [
    "def ornekFonksiyon(**kwargs):   \n",
    "    print(kwargs)"
   ]
  },
  {
   "cell_type": "markdown",
   "id": "03b29ce3",
   "metadata": {},
   "source": [
    "' **  '(iki yıldız)'dan sonra **kwargs** yazdık ama buna gerek yok. Çünkü ' **  '(iki yıldız)'dan sonra ne yazarsak yazalım kwargs olduğu kodlar tarafından anlaşılır. Ama önerilen kullanım **kwargs yazamaktır."
   ]
  },
  {
   "cell_type": "code",
   "execution_count": 70,
   "id": "63a11791",
   "metadata": {},
   "outputs": [
    {
     "name": "stdout",
     "output_type": "stream",
     "text": [
      "{'muz': 100, 'elma': 200, 'ananas': 300}\n"
     ]
    }
   ],
   "source": [
    "ornekFonksiyon(muz = 100, elma = 200, ananas = 300)"
   ]
  },
  {
   "cell_type": "code",
   "execution_count": 71,
   "id": "d00e6efc",
   "metadata": {},
   "outputs": [
    {
     "name": "stdout",
     "output_type": "stream",
     "text": [
      "{'muz': 100, 'elma': 200, 'ananas': 300}\n"
     ]
    },
    {
     "data": {
      "text/plain": [
       "NoneType"
      ]
     },
     "execution_count": 71,
     "metadata": {},
     "output_type": "execute_result"
    }
   ],
   "source": [
    "type(ornekFonksiyon(muz = 100, elma = 200, ananas = 300))"
   ]
  },
  {
   "cell_type": "markdown",
   "id": "cb591a2f",
   "metadata": {},
   "source": [
    "NoneType çünkü **return yaptırmadık**"
   ]
  },
  {
   "cell_type": "code",
   "execution_count": 72,
   "id": "7e7f4045",
   "metadata": {},
   "outputs": [],
   "source": [
    "def ornekFonksiyon2(**kwargs):   \n",
    "    return kwargs"
   ]
  },
  {
   "cell_type": "code",
   "execution_count": 73,
   "id": "c290ddd0",
   "metadata": {},
   "outputs": [
    {
     "data": {
      "text/plain": [
       "{'muz': 100, 'elma': 200, 'ananas': 300}"
      ]
     },
     "execution_count": 73,
     "metadata": {},
     "output_type": "execute_result"
    }
   ],
   "source": [
    "ornekFonksiyon2(muz = 100, elma = 200, ananas = 300)"
   ]
  },
  {
   "cell_type": "code",
   "execution_count": 74,
   "id": "aab5529c",
   "metadata": {},
   "outputs": [
    {
     "data": {
      "text/plain": [
       "dict"
      ]
     },
     "execution_count": 74,
     "metadata": {},
     "output_type": "execute_result"
    }
   ],
   "source": [
    "type(ornekFonksiyon2(muz = 100, elma = 200, ananas = 300))"
   ]
  },
  {
   "cell_type": "markdown",
   "id": "5b8bfd6f",
   "metadata": {},
   "source": [
    "keyword ve argüman döndürdüğümüzde bunu dictinory(sözlük olarak algıladı)"
   ]
  },
  {
   "cell_type": "code",
   "execution_count": 89,
   "id": "d904504e",
   "metadata": {},
   "outputs": [],
   "source": [
    "def keyWordKontrolu(**kwargs):  \n",
    "    if \"atıl\" in kwargs:\n",
    "        print(\"atıl var\")\n",
    "    else:\n",
    "        print(\"atıl yok\")\n",
    "#    return kwargs"
   ]
  },
  {
   "cell_type": "code",
   "execution_count": 90,
   "id": "788fd8ea",
   "metadata": {},
   "outputs": [
    {
     "name": "stdout",
     "output_type": "stream",
     "text": [
      "atıl var\n"
     ]
    }
   ],
   "source": [
    "keyWordKontrolu(atıl = 70, zeynep = 50, burak = 40 )"
   ]
  },
  {
   "cell_type": "code",
   "execution_count": null,
   "id": "9f69aba6",
   "metadata": {},
   "outputs": [],
   "source": []
  }
 ],
 "metadata": {
  "kernelspec": {
   "display_name": "Python 3 (ipykernel)",
   "language": "python",
   "name": "python3"
  },
  "language_info": {
   "codemirror_mode": {
    "name": "ipython",
    "version": 3
   },
   "file_extension": ".py",
   "mimetype": "text/x-python",
   "name": "python",
   "nbconvert_exporter": "python",
   "pygments_lexer": "ipython3",
   "version": "3.9.13"
  }
 },
 "nbformat": 4,
 "nbformat_minor": 5
}
