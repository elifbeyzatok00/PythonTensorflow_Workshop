{
 "cells": [
  {
   "cell_type": "code",
   "execution_count": 1,
   "id": "35d11fc2",
   "metadata": {},
   "outputs": [],
   "source": [
    "class Meyve():\n",
    "    \n",
    "    def __init__(self, isim, kalori):\n",
    "        self.isim = isim\n",
    "        self.kalori = kalori"
   ]
  },
  {
   "cell_type": "code",
   "execution_count": 2,
   "id": "a3bc97d5",
   "metadata": {},
   "outputs": [],
   "source": [
    "muz = Meyve(\"Muz\", 150)"
   ]
  },
  {
   "cell_type": "code",
   "execution_count": 3,
   "id": "1526ebaa",
   "metadata": {},
   "outputs": [
    {
     "data": {
      "text/plain": [
       "150"
      ]
     },
     "execution_count": 3,
     "metadata": {},
     "output_type": "execute_result"
    }
   ],
   "source": [
    "muz.kalori"
   ]
  },
  {
   "cell_type": "code",
   "execution_count": 4,
   "id": "00ac87d8",
   "metadata": {},
   "outputs": [
    {
     "name": "stdout",
     "output_type": "stream",
     "text": [
      "<__main__.Meyve object at 0x0000014523D821C0>\n"
     ]
    }
   ],
   "source": [
    "print(muz)"
   ]
  },
  {
   "cell_type": "markdown",
   "id": "e478782e",
   "metadata": {},
   "source": [
    "Meyve sınıfı içinde bir object  ve hafızada buraya kaydedildi 0x0000014523D821C0> diyor"
   ]
  },
  {
   "cell_type": "code",
   "execution_count": 8,
   "id": "709fd251",
   "metadata": {},
   "outputs": [
    {
     "ename": "TypeError",
     "evalue": "object of type 'Meyve' has no len()",
     "output_type": "error",
     "traceback": [
      "\u001b[1;31m---------------------------------------------------------------------------\u001b[0m",
      "\u001b[1;31mTypeError\u001b[0m                                 Traceback (most recent call last)",
      "\u001b[1;32m~\\AppData\\Local\\Temp\\ipykernel_16712\\727440559.py\u001b[0m in \u001b[0;36m<module>\u001b[1;34m\u001b[0m\n\u001b[1;32m----> 1\u001b[1;33m \u001b[0mlen\u001b[0m\u001b[1;33m(\u001b[0m\u001b[0mmuz\u001b[0m\u001b[1;33m)\u001b[0m\u001b[1;33m\u001b[0m\u001b[1;33m\u001b[0m\u001b[0m\n\u001b[0m",
      "\u001b[1;31mTypeError\u001b[0m: object of type 'Meyve' has no len()"
     ]
    }
   ],
   "source": [
    "len(muz)"
   ]
  },
  {
   "cell_type": "markdown",
   "id": "db47e8e4",
   "metadata": {},
   "source": [
    "Meyve tipindeki bu objenin bir uzunluğu yok diyor"
   ]
  },
  {
   "cell_type": "code",
   "execution_count": null,
   "id": "6d56337d",
   "metadata": {},
   "outputs": [],
   "source": [
    "listem = [1,2,3,\"a\",4.5]"
   ]
  },
  {
   "cell_type": "code",
   "execution_count": 6,
   "id": "d23382ee",
   "metadata": {},
   "outputs": [
    {
     "name": "stdout",
     "output_type": "stream",
     "text": [
      "[1, 2, 3, 'a', 4.5]\n"
     ]
    }
   ],
   "source": [
    "print(listem)"
   ]
  },
  {
   "cell_type": "code",
   "execution_count": 7,
   "id": "cf84cab4",
   "metadata": {},
   "outputs": [
    {
     "data": {
      "text/plain": [
       "5"
      ]
     },
     "execution_count": 7,
     "metadata": {},
     "output_type": "execute_result"
    }
   ],
   "source": [
    "len(listem)"
   ]
  },
  {
   "cell_type": "markdown",
   "id": "3e447983",
   "metadata": {},
   "source": [
    "listem listesi ile aynı fonksiyonları denedik. Neden muz nesenesinde de aynı sonuçları alamadık?"
   ]
  },
  {
   "cell_type": "markdown",
   "id": "a7b5832b",
   "metadata": {},
   "source": [
    "Özel metodları kullanarak bu tarz durumların üstesinden gelebiliriz"
   ]
  },
  {
   "cell_type": "markdown",
   "id": "fd07e3c8",
   "metadata": {},
   "source": [
    "# "
   ]
  },
  {
   "cell_type": "raw",
   "id": "07b8c250",
   "metadata": {},
   "source": [
    "#  __str__ , __len__"
   ]
  },
  {
   "cell_type": "code",
   "execution_count": 14,
   "id": "4f0593ee",
   "metadata": {},
   "outputs": [],
   "source": [
    "class Meyve():\n",
    "    \n",
    "    def __init__(self, isim, kalori):\n",
    "        self.isim = isim\n",
    "        self.kalori = kalori\n",
    "        \n",
    "    def __str__(self):  # __str__ : yazdırınca ne döndüreceğini belirten metod\n",
    "        return (f\"{self.isim} şu kadar kaloriye sahiptir: {self.kalori}\")\n",
    "    \n",
    "    def __len__(self):  \n",
    "        return self.kalori"
   ]
  },
  {
   "cell_type": "code",
   "execution_count": 15,
   "id": "f80836dd",
   "metadata": {},
   "outputs": [],
   "source": [
    "muz = Meyve(\"Muz\", 150)"
   ]
  },
  {
   "cell_type": "code",
   "execution_count": 16,
   "id": "02a410a7",
   "metadata": {},
   "outputs": [
    {
     "name": "stdout",
     "output_type": "stream",
     "text": [
      "Muz şu kadar kaloriye sahiptir: 150\n"
     ]
    }
   ],
   "source": [
    "print(muz)"
   ]
  },
  {
   "cell_type": "code",
   "execution_count": 17,
   "id": "b6ee2157",
   "metadata": {},
   "outputs": [
    {
     "data": {
      "text/plain": [
       "150"
      ]
     },
     "execution_count": 17,
     "metadata": {},
     "output_type": "execute_result"
    }
   ],
   "source": [
    "len(muz)"
   ]
  },
  {
   "cell_type": "code",
   "execution_count": 18,
   "id": "185425e5",
   "metadata": {},
   "outputs": [],
   "source": [
    "elma = Meyve(\"Elma\", 200)"
   ]
  },
  {
   "cell_type": "code",
   "execution_count": 19,
   "id": "03d2282e",
   "metadata": {},
   "outputs": [
    {
     "name": "stdout",
     "output_type": "stream",
     "text": [
      "Elma şu kadar kaloriye sahiptir: 200\n"
     ]
    }
   ],
   "source": [
    "print(elma)"
   ]
  },
  {
   "cell_type": "code",
   "execution_count": 20,
   "id": "34f0d6fa",
   "metadata": {},
   "outputs": [
    {
     "data": {
      "text/plain": [
       "200"
      ]
     },
     "execution_count": 20,
     "metadata": {},
     "output_type": "execute_result"
    }
   ],
   "source": [
    "len(elma)"
   ]
  },
  {
   "cell_type": "code",
   "execution_count": null,
   "id": "2a03feca",
   "metadata": {},
   "outputs": [],
   "source": [
    "Diğer özel metodları öğrenmek için internett şu aramaları yapabilirsiniz:\n",
    "    special methods in python, magic methods in python "
   ]
  }
 ],
 "metadata": {
  "kernelspec": {
   "display_name": "Python 3 (ipykernel)",
   "language": "python",
   "name": "python3"
  },
  "language_info": {
   "codemirror_mode": {
    "name": "ipython",
    "version": 3
   },
   "file_extension": ".py",
   "mimetype": "text/x-python",
   "name": "python",
   "nbconvert_exporter": "python",
   "pygments_lexer": "ipython3",
   "version": "3.9.13"
  }
 },
 "nbformat": 4,
 "nbformat_minor": 5
}
