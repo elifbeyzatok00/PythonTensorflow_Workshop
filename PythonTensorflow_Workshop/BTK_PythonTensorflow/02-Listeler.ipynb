{
 "cells": [
  {
   "cell_type": "code",
   "execution_count": 1,
   "id": "2db506dc",
   "metadata": {},
   "outputs": [],
   "source": [
    "benimString = \"Atıl Samancıoğlu\""
   ]
  },
  {
   "cell_type": "code",
   "execution_count": 2,
   "id": "528eeaa4",
   "metadata": {},
   "outputs": [
    {
     "data": {
      "text/plain": [
       "'A'"
      ]
     },
     "execution_count": 2,
     "metadata": {},
     "output_type": "execute_result"
    }
   ],
   "source": [
    "benimString[0]"
   ]
  },
  {
   "cell_type": "code",
   "execution_count": 3,
   "id": "90b466ca",
   "metadata": {},
   "outputs": [],
   "source": [
    "# immutability-değişmezlik   & mutable-değiştirilebilir"
   ]
  },
  {
   "cell_type": "code",
   "execution_count": 7,
   "id": "ddf6fb7d",
   "metadata": {},
   "outputs": [
    {
     "ename": "TypeError",
     "evalue": "'str' object does not support item assignment",
     "output_type": "error",
     "traceback": [
      "\u001b[1;31m---------------------------------------------------------------------------\u001b[0m",
      "\u001b[1;31mTypeError\u001b[0m                                 Traceback (most recent call last)",
      "\u001b[1;32m~\\AppData\\Local\\Temp\\ipykernel_14652\\1301955635.py\u001b[0m in \u001b[0;36m<module>\u001b[1;34m\u001b[0m\n\u001b[1;32m----> 1\u001b[1;33m \u001b[0mbenimString\u001b[0m\u001b[1;33m[\u001b[0m\u001b[1;36m0\u001b[0m\u001b[1;33m]\u001b[0m \u001b[1;33m=\u001b[0m \u001b[1;34m\"B\"\u001b[0m\u001b[1;33m\u001b[0m\u001b[1;33m\u001b[0m\u001b[0m\n\u001b[0m",
      "\u001b[1;31mTypeError\u001b[0m: 'str' object does not support item assignment"
     ]
    }
   ],
   "source": [
    "benimString[0] = \"B\""
   ]
  },
  {
   "cell_type": "code",
   "execution_count": 8,
   "id": "36dd2602",
   "metadata": {},
   "outputs": [],
   "source": [
    "# burada immutability var"
   ]
  },
  {
   "cell_type": "code",
   "execution_count": 9,
   "id": "723875fb",
   "metadata": {},
   "outputs": [],
   "source": [
    "#listelerde immutability yok:"
   ]
  },
  {
   "cell_type": "code",
   "execution_count": 10,
   "id": "f3eb79bf",
   "metadata": {},
   "outputs": [],
   "source": [
    "benimListem = [10, 20, 30, 40]"
   ]
  },
  {
   "cell_type": "code",
   "execution_count": 12,
   "id": "2030aa78",
   "metadata": {},
   "outputs": [
    {
     "data": {
      "text/plain": [
       "list"
      ]
     },
     "execution_count": 12,
     "metadata": {},
     "output_type": "execute_result"
    }
   ],
   "source": [
    "type(benimListem)"
   ]
  },
  {
   "cell_type": "code",
   "execution_count": 13,
   "id": "2df9874a",
   "metadata": {},
   "outputs": [],
   "source": [
    "benimNumaram = 10\n",
    "benimDigerNumaram = 20"
   ]
  },
  {
   "cell_type": "code",
   "execution_count": 17,
   "id": "a5ddc457",
   "metadata": {},
   "outputs": [],
   "source": [
    "benimNumaraListem = [benimNumaram, benimDigerNumaram]"
   ]
  },
  {
   "cell_type": "code",
   "execution_count": 18,
   "id": "3bc3d610",
   "metadata": {},
   "outputs": [
    {
     "data": {
      "text/plain": [
       "10"
      ]
     },
     "execution_count": 18,
     "metadata": {},
     "output_type": "execute_result"
    }
   ],
   "source": [
    "benimListem[0]"
   ]
  },
  {
   "cell_type": "code",
   "execution_count": 19,
   "id": "6c36e554",
   "metadata": {},
   "outputs": [
    {
     "data": {
      "text/plain": [
       "10"
      ]
     },
     "execution_count": 19,
     "metadata": {},
     "output_type": "execute_result"
    }
   ],
   "source": [
    "benimNumaraListem[0]"
   ]
  },
  {
   "cell_type": "code",
   "execution_count": 20,
   "id": "90899f31",
   "metadata": {},
   "outputs": [
    {
     "data": {
      "text/plain": [
       "[10, 20, 30, 40]"
      ]
     },
     "execution_count": 20,
     "metadata": {},
     "output_type": "execute_result"
    }
   ],
   "source": [
    "benimListem"
   ]
  },
  {
   "cell_type": "code",
   "execution_count": 21,
   "id": "a21aa03c",
   "metadata": {},
   "outputs": [],
   "source": [
    "benimListem[0] = 100"
   ]
  },
  {
   "cell_type": "code",
   "execution_count": 22,
   "id": "8e91ba95",
   "metadata": {},
   "outputs": [
    {
     "data": {
      "text/plain": [
       "[100, 20, 30, 40]"
      ]
     },
     "execution_count": 22,
     "metadata": {},
     "output_type": "execute_result"
    }
   ],
   "source": [
    "benimListem"
   ]
  },
  {
   "cell_type": "code",
   "execution_count": 23,
   "id": "42c70006",
   "metadata": {},
   "outputs": [],
   "source": [
    "#istediğim değeri istediğim zaman atayabiliyorum"
   ]
  },
  {
   "cell_type": "code",
   "execution_count": 24,
   "id": "8c75d992",
   "metadata": {},
   "outputs": [],
   "source": [
    "benimListem.append(50)   #append - eklemek"
   ]
  },
  {
   "cell_type": "code",
   "execution_count": 25,
   "id": "4975a94a",
   "metadata": {},
   "outputs": [
    {
     "data": {
      "text/plain": [
       "[100, 20, 30, 40, 50]"
      ]
     },
     "execution_count": 25,
     "metadata": {},
     "output_type": "execute_result"
    }
   ],
   "source": [
    "benimListem"
   ]
  },
  {
   "cell_type": "code",
   "execution_count": 26,
   "id": "ec5982d6",
   "metadata": {},
   "outputs": [
    {
     "data": {
      "text/plain": [
       "50"
      ]
     },
     "execution_count": 26,
     "metadata": {},
     "output_type": "execute_result"
    }
   ],
   "source": [
    "benimListem.pop()  #son elemanı atar"
   ]
  },
  {
   "cell_type": "code",
   "execution_count": 27,
   "id": "b10e5816",
   "metadata": {},
   "outputs": [
    {
     "data": {
      "text/plain": [
       "[100, 20, 30, 40]"
      ]
     },
     "execution_count": 27,
     "metadata": {},
     "output_type": "execute_result"
    }
   ],
   "source": [
    "benimListem"
   ]
  },
  {
   "cell_type": "code",
   "execution_count": 29,
   "id": "40b8456c",
   "metadata": {},
   "outputs": [],
   "source": [
    "#son eleman silindi"
   ]
  },
  {
   "cell_type": "code",
   "execution_count": 30,
   "id": "2e3d7ef2",
   "metadata": {},
   "outputs": [],
   "source": [
    "benimListem.remove(40)  #remove-çıkartmak"
   ]
  },
  {
   "cell_type": "code",
   "execution_count": 31,
   "id": "f92b3d79",
   "metadata": {},
   "outputs": [
    {
     "data": {
      "text/plain": [
       "[100, 20, 30]"
      ]
     },
     "execution_count": 31,
     "metadata": {},
     "output_type": "execute_result"
    }
   ],
   "source": [
    "benimListem"
   ]
  },
  {
   "cell_type": "code",
   "execution_count": 32,
   "id": "1282dc47",
   "metadata": {},
   "outputs": [],
   "source": [
    "#istenen veri silindi"
   ]
  },
  {
   "cell_type": "code",
   "execution_count": 33,
   "id": "a225332d",
   "metadata": {},
   "outputs": [
    {
     "ename": "ValueError",
     "evalue": "list.remove(x): x not in list",
     "output_type": "error",
     "traceback": [
      "\u001b[1;31m---------------------------------------------------------------------------\u001b[0m",
      "\u001b[1;31mValueError\u001b[0m                                Traceback (most recent call last)",
      "\u001b[1;32m~\\AppData\\Local\\Temp\\ipykernel_14652\\936410960.py\u001b[0m in \u001b[0;36m<module>\u001b[1;34m\u001b[0m\n\u001b[1;32m----> 1\u001b[1;33m \u001b[0mbenimListem\u001b[0m\u001b[1;33m.\u001b[0m\u001b[0mremove\u001b[0m\u001b[1;33m(\u001b[0m\u001b[1;36m5\u001b[0m\u001b[1;33m)\u001b[0m\u001b[1;33m\u001b[0m\u001b[1;33m\u001b[0m\u001b[0m\n\u001b[0m",
      "\u001b[1;31mValueError\u001b[0m: list.remove(x): x not in list"
     ]
    }
   ],
   "source": [
    "benimListem.remove(5)"
   ]
  },
  {
   "cell_type": "code",
   "execution_count": 34,
   "id": "20b89051",
   "metadata": {},
   "outputs": [],
   "source": [
    "#olmayan bir elemanı listeden silemezsin"
   ]
  },
  {
   "cell_type": "code",
   "execution_count": 36,
   "id": "549c7d47",
   "metadata": {},
   "outputs": [
    {
     "data": {
      "text/plain": [
       "1"
      ]
     },
     "execution_count": 36,
     "metadata": {},
     "output_type": "execute_result"
    }
   ],
   "source": [
    "benimListem.count(20) \n",
    "#parametre olarak girilen elemandan dizide kaç tane var "
   ]
  },
  {
   "cell_type": "code",
   "execution_count": 37,
   "id": "a58b10be",
   "metadata": {},
   "outputs": [],
   "source": [
    "benimListem.append(20)"
   ]
  },
  {
   "cell_type": "code",
   "execution_count": 38,
   "id": "d632e367",
   "metadata": {},
   "outputs": [
    {
     "data": {
      "text/plain": [
       "2"
      ]
     },
     "execution_count": 38,
     "metadata": {},
     "output_type": "execute_result"
    }
   ],
   "source": [
    "benimListem.count(20) "
   ]
  },
  {
   "cell_type": "code",
   "execution_count": 39,
   "id": "04d72ad7",
   "metadata": {},
   "outputs": [],
   "source": [
    "benimStringListem = [\"atıl\", \"ahmet\", \"zeynep\"]  #listeler içerisinde string de kullanılabilir"
   ]
  },
  {
   "cell_type": "code",
   "execution_count": 40,
   "id": "fd3a0293",
   "metadata": {},
   "outputs": [],
   "source": [
    "benimDigerStringListem = [\"elif\", \"kerem\", \"burak\"]"
   ]
  },
  {
   "cell_type": "code",
   "execution_count": 43,
   "id": "ae4a13f2",
   "metadata": {},
   "outputs": [
    {
     "data": {
      "text/plain": [
       "'burak'"
      ]
     },
     "execution_count": 43,
     "metadata": {},
     "output_type": "execute_result"
    }
   ],
   "source": [
    "benimDigerStringListem[2]"
   ]
  },
  {
   "cell_type": "code",
   "execution_count": 44,
   "id": "a346e221",
   "metadata": {},
   "outputs": [],
   "source": [
    "benimToplamaListem = benimStringListem + benimDigerStringListem"
   ]
  },
  {
   "cell_type": "code",
   "execution_count": 45,
   "id": "be5f5316",
   "metadata": {},
   "outputs": [
    {
     "data": {
      "text/plain": [
       "['atıl', 'ahmet', 'zeynep', 'elif', 'kerem', 'burak']"
      ]
     },
     "execution_count": 45,
     "metadata": {},
     "output_type": "execute_result"
    }
   ],
   "source": [
    "benimToplamaListem"
   ]
  },
  {
   "cell_type": "code",
   "execution_count": 46,
   "id": "7ab2cce9",
   "metadata": {},
   "outputs": [],
   "source": [
    "#iki listeyi topladık"
   ]
  },
  {
   "cell_type": "code",
   "execution_count": 47,
   "id": "ce15581a",
   "metadata": {},
   "outputs": [
    {
     "data": {
      "text/plain": [
       "['atıl',\n",
       " 'ahmet',\n",
       " 'zeynep',\n",
       " 'atıl',\n",
       " 'ahmet',\n",
       " 'zeynep',\n",
       " 'atıl',\n",
       " 'ahmet',\n",
       " 'zeynep',\n",
       " 'atıl',\n",
       " 'ahmet',\n",
       " 'zeynep',\n",
       " 'atıl',\n",
       " 'ahmet',\n",
       " 'zeynep']"
      ]
     },
     "execution_count": 47,
     "metadata": {},
     "output_type": "execute_result"
    }
   ],
   "source": [
    "benimStringListem * 5"
   ]
  },
  {
   "cell_type": "code",
   "execution_count": 48,
   "id": "e001aa3d",
   "metadata": {},
   "outputs": [],
   "source": [
    "# listeyi çarptık"
   ]
  },
  {
   "cell_type": "code",
   "execution_count": 49,
   "id": "402dcc95",
   "metadata": {},
   "outputs": [
    {
     "ename": "TypeError",
     "evalue": "unsupported operand type(s) for /: 'list' and 'int'",
     "output_type": "error",
     "traceback": [
      "\u001b[1;31m---------------------------------------------------------------------------\u001b[0m",
      "\u001b[1;31mTypeError\u001b[0m                                 Traceback (most recent call last)",
      "\u001b[1;32m~\\AppData\\Local\\Temp\\ipykernel_14652\\2469284783.py\u001b[0m in \u001b[0;36m<module>\u001b[1;34m\u001b[0m\n\u001b[1;32m----> 1\u001b[1;33m \u001b[0mbenimStringListem\u001b[0m \u001b[1;33m/\u001b[0m \u001b[1;36m2\u001b[0m\u001b[1;33m\u001b[0m\u001b[1;33m\u001b[0m\u001b[0m\n\u001b[0m",
      "\u001b[1;31mTypeError\u001b[0m: unsupported operand type(s) for /: 'list' and 'int'"
     ]
    }
   ],
   "source": [
    "benimStringListem / 2"
   ]
  },
  {
   "cell_type": "code",
   "execution_count": 50,
   "id": "2d8013b2",
   "metadata": {},
   "outputs": [],
   "source": [
    "# listeyi bölmek yok"
   ]
  },
  {
   "cell_type": "code",
   "execution_count": 72,
   "id": "8b153cf6",
   "metadata": {},
   "outputs": [],
   "source": [
    "benimToplamaListem.reverse() #ilk index sona son index başa"
   ]
  },
  {
   "cell_type": "code",
   "execution_count": 73,
   "id": "8759b506",
   "metadata": {},
   "outputs": [
    {
     "data": {
      "text/plain": [
       "['burak', 'kerem', 'elif', 'zeynep', 'ahmet', 'atıl']"
      ]
     },
     "execution_count": 73,
     "metadata": {},
     "output_type": "execute_result"
    }
   ],
   "source": [
    "benimToplamaListem"
   ]
  },
  {
   "cell_type": "code",
   "execution_count": null,
   "id": "f8ad0c7a",
   "metadata": {},
   "outputs": [],
   "source": [
    "#karisik liste yapabiliyoruz"
   ]
  },
  {
   "cell_type": "code",
   "execution_count": 74,
   "id": "e06ce68d",
   "metadata": {},
   "outputs": [],
   "source": [
    "karisikListe = [1, 2, 3, \"elif\", 9]"
   ]
  },
  {
   "cell_type": "code",
   "execution_count": 76,
   "id": "1874cacc",
   "metadata": {},
   "outputs": [
    {
     "data": {
      "text/plain": [
       "list"
      ]
     },
     "execution_count": 76,
     "metadata": {},
     "output_type": "execute_result"
    }
   ],
   "source": [
    "type(karisikListe)"
   ]
  },
  {
   "cell_type": "code",
   "execution_count": 77,
   "id": "9643e4c2",
   "metadata": {},
   "outputs": [
    {
     "data": {
      "text/plain": [
       "[1, 2, 3, 'elif', 9]"
      ]
     },
     "execution_count": 77,
     "metadata": {},
     "output_type": "execute_result"
    }
   ],
   "source": [
    "karisikListe"
   ]
  },
  {
   "cell_type": "code",
   "execution_count": 78,
   "id": "0fd543bb",
   "metadata": {},
   "outputs": [],
   "source": [
    "sonucum = karisikListe[0]"
   ]
  },
  {
   "cell_type": "code",
   "execution_count": 79,
   "id": "c1244690",
   "metadata": {},
   "outputs": [
    {
     "data": {
      "text/plain": [
       "1"
      ]
     },
     "execution_count": 79,
     "metadata": {},
     "output_type": "execute_result"
    }
   ],
   "source": [
    "sonucum"
   ]
  },
  {
   "cell_type": "code",
   "execution_count": 81,
   "id": "42c1da69",
   "metadata": {},
   "outputs": [
    {
     "data": {
      "text/plain": [
       "int"
      ]
     },
     "execution_count": 81,
     "metadata": {},
     "output_type": "execute_result"
    }
   ],
   "source": [
    "type(sonucum)"
   ]
  },
  {
   "cell_type": "code",
   "execution_count": 82,
   "id": "0226057b",
   "metadata": {},
   "outputs": [],
   "source": [
    "sonucum2 = karisikListe[3]"
   ]
  },
  {
   "cell_type": "code",
   "execution_count": 83,
   "id": "5e49b663",
   "metadata": {},
   "outputs": [
    {
     "data": {
      "text/plain": [
       "'elif'"
      ]
     },
     "execution_count": 83,
     "metadata": {},
     "output_type": "execute_result"
    }
   ],
   "source": [
    "sonucum2"
   ]
  },
  {
   "cell_type": "code",
   "execution_count": 84,
   "id": "db223a02",
   "metadata": {},
   "outputs": [
    {
     "data": {
      "text/plain": [
       "str"
      ]
     },
     "execution_count": 84,
     "metadata": {},
     "output_type": "execute_result"
    }
   ],
   "source": [
    "type(sonucum2)"
   ]
  },
  {
   "cell_type": "code",
   "execution_count": 85,
   "id": "08d665ee",
   "metadata": {},
   "outputs": [],
   "source": [
    "#iç içe liste yapabiliyoruz"
   ]
  },
  {
   "cell_type": "code",
   "execution_count": 87,
   "id": "bd187ae0",
   "metadata": {},
   "outputs": [],
   "source": [
    "nestedList = [1, 5, \"elif\", 4, [6, \"z\"]] # nested-iç içe (katmanlı)"
   ]
  },
  {
   "cell_type": "code",
   "execution_count": 88,
   "id": "e813362d",
   "metadata": {},
   "outputs": [
    {
     "data": {
      "text/plain": [
       "1"
      ]
     },
     "execution_count": 88,
     "metadata": {},
     "output_type": "execute_result"
    }
   ],
   "source": [
    "nestedList[0]"
   ]
  },
  {
   "cell_type": "code",
   "execution_count": 89,
   "id": "5c01bbbb",
   "metadata": {},
   "outputs": [
    {
     "data": {
      "text/plain": [
       "'elif'"
      ]
     },
     "execution_count": 89,
     "metadata": {},
     "output_type": "execute_result"
    }
   ],
   "source": [
    "nestedList[2]"
   ]
  },
  {
   "cell_type": "code",
   "execution_count": 90,
   "id": "1e6045e9",
   "metadata": {},
   "outputs": [
    {
     "data": {
      "text/plain": [
       "[6, 'z']"
      ]
     },
     "execution_count": 90,
     "metadata": {},
     "output_type": "execute_result"
    }
   ],
   "source": [
    "nestedList[4]"
   ]
  },
  {
   "cell_type": "code",
   "execution_count": 91,
   "id": "b8fbca8b",
   "metadata": {},
   "outputs": [
    {
     "data": {
      "text/plain": [
       "list"
      ]
     },
     "execution_count": 91,
     "metadata": {},
     "output_type": "execute_result"
    }
   ],
   "source": [
    "type(nestedList[4])"
   ]
  },
  {
   "cell_type": "code",
   "execution_count": 92,
   "id": "c8597d5a",
   "metadata": {},
   "outputs": [],
   "source": [
    "#liste içine liste koyabiliyoruz"
   ]
  },
  {
   "cell_type": "code",
   "execution_count": 95,
   "id": "74c2b08a",
   "metadata": {},
   "outputs": [],
   "source": [
    "zDegiskeni = nestedList[4][1]"
   ]
  },
  {
   "cell_type": "code",
   "execution_count": 96,
   "id": "8291262b",
   "metadata": {},
   "outputs": [
    {
     "data": {
      "text/plain": [
       "'z'"
      ]
     },
     "execution_count": 96,
     "metadata": {},
     "output_type": "execute_result"
    }
   ],
   "source": [
    "zDegiskeni"
   ]
  },
  {
   "cell_type": "code",
   "execution_count": 94,
   "id": "f56d8506",
   "metadata": {},
   "outputs": [],
   "source": [
    "karmasikListe = [[1, 2, 3, [\"a\", \"b\"], 50], 40, 20, [\"z\", 5.5], [3, [\"a\"]] ]"
   ]
  },
  {
   "cell_type": "code",
   "execution_count": 99,
   "id": "a985440c",
   "metadata": {},
   "outputs": [],
   "source": [
    "bDegiskeni = karmasikListe[0][3][1]"
   ]
  },
  {
   "cell_type": "code",
   "execution_count": 100,
   "id": "8ae21460",
   "metadata": {},
   "outputs": [
    {
     "data": {
      "text/plain": [
       "'b'"
      ]
     },
     "execution_count": 100,
     "metadata": {},
     "output_type": "execute_result"
    }
   ],
   "source": [
    "bDegiskeni"
   ]
  },
  {
   "cell_type": "code",
   "execution_count": 102,
   "id": "035426c2",
   "metadata": {},
   "outputs": [
    {
     "data": {
      "text/plain": [
       "[1, 5, 'elif', 4, [6, 'z']]"
      ]
     },
     "execution_count": 102,
     "metadata": {},
     "output_type": "execute_result"
    }
   ],
   "source": [
    "nestedList"
   ]
  },
  {
   "cell_type": "code",
   "execution_count": 101,
   "id": "948e5572",
   "metadata": {},
   "outputs": [
    {
     "data": {
      "text/plain": [
       "['elif', 4, [6, 'z']]"
      ]
     },
     "execution_count": 101,
     "metadata": {},
     "output_type": "execute_result"
    }
   ],
   "source": [
    "nestedList[2:]"
   ]
  },
  {
   "cell_type": "code",
   "execution_count": 103,
   "id": "e90ea862",
   "metadata": {},
   "outputs": [
    {
     "data": {
      "text/plain": [
       "[1, 5]"
      ]
     },
     "execution_count": 103,
     "metadata": {},
     "output_type": "execute_result"
    }
   ],
   "source": [
    "nestedList[:2]"
   ]
  },
  {
   "cell_type": "code",
   "execution_count": 104,
   "id": "94a18fb0",
   "metadata": {},
   "outputs": [
    {
     "data": {
      "text/plain": [
       "list"
      ]
     },
     "execution_count": 104,
     "metadata": {},
     "output_type": "execute_result"
    }
   ],
   "source": [
    "type(nestedList[:2])"
   ]
  },
  {
   "cell_type": "code",
   "execution_count": null,
   "id": "4f1d8943",
   "metadata": {},
   "outputs": [],
   "source": [
    "#hala liste döner"
   ]
  }
 ],
 "metadata": {
  "kernelspec": {
   "display_name": "Python 3 (ipykernel)",
   "language": "python",
   "name": "python3"
  },
  "language_info": {
   "codemirror_mode": {
    "name": "ipython",
    "version": 3
   },
   "file_extension": ".py",
   "mimetype": "text/x-python",
   "name": "python",
   "nbconvert_exporter": "python",
   "pygments_lexer": "ipython3",
   "version": "3.9.13"
  }
 },
 "nbformat": 4,
 "nbformat_minor": 5
}
