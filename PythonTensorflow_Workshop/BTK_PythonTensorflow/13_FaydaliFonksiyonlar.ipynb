{
 "cells": [
  {
   "cell_type": "code",
   "execution_count": 21,
   "id": "76224ceb",
   "metadata": {},
   "outputs": [],
   "source": [
    "def bolmeIslemi(numara):\n",
    "    return numara / 2"
   ]
  },
  {
   "cell_type": "code",
   "execution_count": 22,
   "id": "8d928c97",
   "metadata": {},
   "outputs": [
    {
     "data": {
      "text/plain": [
       "10.0"
      ]
     },
     "execution_count": 22,
     "metadata": {},
     "output_type": "execute_result"
    }
   ],
   "source": [
    "bolmeIslemi(20)"
   ]
  },
  {
   "cell_type": "code",
   "execution_count": 23,
   "id": "561c2303",
   "metadata": {},
   "outputs": [],
   "source": [
    "listem = [1,2,3,4,5,6,7,8,9,10]"
   ]
  },
  {
   "cell_type": "code",
   "execution_count": 24,
   "id": "47527ff1",
   "metadata": {},
   "outputs": [],
   "source": [
    "yeniListe = []\n",
    "for eleman in listem:\n",
    "    yeniListe.append(bolmeIslemi(eleman))"
   ]
  },
  {
   "cell_type": "code",
   "execution_count": 25,
   "id": "ed3e383b",
   "metadata": {},
   "outputs": [
    {
     "data": {
      "text/plain": [
       "[0.5, 1.0, 1.5, 2.0, 2.5, 3.0, 3.5, 4.0, 4.5, 5.0]"
      ]
     },
     "execution_count": 25,
     "metadata": {},
     "output_type": "execute_result"
    }
   ],
   "source": [
    "yeniListe"
   ]
  },
  {
   "cell_type": "markdown",
   "id": "35214082",
   "metadata": {},
   "source": [
    "# map -harita, haritalamak"
   ]
  },
  {
   "cell_type": "markdown",
   "id": "6dc67ded",
   "metadata": {},
   "source": [
    "map( fonksiyon, fonksiyonu tabi tutmak istediğim liste)"
   ]
  },
  {
   "cell_type": "code",
   "execution_count": 28,
   "id": "9bd1aadb",
   "metadata": {},
   "outputs": [
    {
     "data": {
      "text/plain": [
       "<map at 0x20f6df81cd0>"
      ]
     },
     "execution_count": 28,
     "metadata": {},
     "output_type": "execute_result"
    }
   ],
   "source": [
    "map(bolmeIslemi, listem)"
   ]
  },
  {
   "cell_type": "code",
   "execution_count": 29,
   "id": "a2ef6394",
   "metadata": {},
   "outputs": [
    {
     "data": {
      "text/plain": [
       "map"
      ]
     },
     "execution_count": 29,
     "metadata": {},
     "output_type": "execute_result"
    }
   ],
   "source": [
    "type(map(bolmeIslemi, listem))"
   ]
  },
  {
   "cell_type": "markdown",
   "id": "5a977da4",
   "metadata": {},
   "source": [
    "bu bir map objesi. Ama istersem listeye dönüştürebilirim"
   ]
  },
  {
   "cell_type": "code",
   "execution_count": 30,
   "id": "ef2fe5f1",
   "metadata": {},
   "outputs": [
    {
     "data": {
      "text/plain": [
       "[0.5, 1.0, 1.5, 2.0, 2.5, 3.0, 3.5, 4.0, 4.5, 5.0]"
      ]
     },
     "execution_count": 30,
     "metadata": {},
     "output_type": "execute_result"
    }
   ],
   "source": [
    "list(map(bolmeIslemi, listem))"
   ]
  },
  {
   "cell_type": "markdown",
   "id": "80dbb44a",
   "metadata": {},
   "source": [
    "Yani **map** ile Bir dizi veriye uygulamak istediğimiz işlemi çok az kod ile yaptırabiliriz"
   ]
  },
  {
   "cell_type": "markdown",
   "id": "c44e4417",
   "metadata": {},
   "source": [
    "**map** stringler ile de kullanılabilir"
   ]
  },
  {
   "cell_type": "code",
   "execution_count": 33,
   "id": "b8f26f25",
   "metadata": {},
   "outputs": [],
   "source": [
    "def kontrolFonksiyonu(string):\n",
    "    return \"a\" in string\n",
    "# \"a\" in string ile girilen string parametresi içinde başta \" \" içinde verilen değer var mı? bunu döndürür"
   ]
  },
  {
   "cell_type": "code",
   "execution_count": 34,
   "id": "ffabf833",
   "metadata": {},
   "outputs": [
    {
     "data": {
      "text/plain": [
       "False"
      ]
     },
     "execution_count": 34,
     "metadata": {},
     "output_type": "execute_result"
    }
   ],
   "source": [
    "\"a\" in \"Atıl\""
   ]
  },
  {
   "cell_type": "code",
   "execution_count": 35,
   "id": "12665ef1",
   "metadata": {},
   "outputs": [
    {
     "data": {
      "text/plain": [
       "True"
      ]
     },
     "execution_count": 35,
     "metadata": {},
     "output_type": "execute_result"
    }
   ],
   "source": [
    "\"a\" in \"atıl\""
   ]
  },
  {
   "cell_type": "code",
   "execution_count": 36,
   "id": "52606b00",
   "metadata": {},
   "outputs": [
    {
     "data": {
      "text/plain": [
       "True"
      ]
     },
     "execution_count": 36,
     "metadata": {},
     "output_type": "execute_result"
    }
   ],
   "source": [
    "kontrolFonksiyonu(\"atıl\")"
   ]
  },
  {
   "cell_type": "code",
   "execution_count": 37,
   "id": "6972ad64",
   "metadata": {},
   "outputs": [
    {
     "data": {
      "text/plain": [
       "False"
      ]
     },
     "execution_count": 37,
     "metadata": {},
     "output_type": "execute_result"
    }
   ],
   "source": [
    "kontrolFonksiyonu(\"elif\")"
   ]
  },
  {
   "cell_type": "code",
   "execution_count": 38,
   "id": "fa39d21d",
   "metadata": {},
   "outputs": [],
   "source": [
    "stringListem = [\"atıl\", \"samancıoğlu\", \"atlas\", \"zeynep\", \"mehemt\", \"ahmet\", \"levent\"]"
   ]
  },
  {
   "cell_type": "code",
   "execution_count": 39,
   "id": "ac3d178a",
   "metadata": {},
   "outputs": [
    {
     "data": {
      "text/plain": [
       "<map at 0x20f6df64400>"
      ]
     },
     "execution_count": 39,
     "metadata": {},
     "output_type": "execute_result"
    }
   ],
   "source": [
    "map(kontrolFonksiyonu, stringListem)"
   ]
  },
  {
   "cell_type": "code",
   "execution_count": 40,
   "id": "cd988cd8",
   "metadata": {},
   "outputs": [
    {
     "data": {
      "text/plain": [
       "[True, True, True, False, False, True, False]"
      ]
     },
     "execution_count": 40,
     "metadata": {},
     "output_type": "execute_result"
    }
   ],
   "source": [
    "list(map(kontrolFonksiyonu, stringListem))"
   ]
  },
  {
   "cell_type": "markdown",
   "id": "9a9dcdeb",
   "metadata": {},
   "source": [
    "For loop kullanmadan map ile kolaylıkla stringlerde veri araması yaptık"
   ]
  },
  {
   "cell_type": "code",
   "execution_count": 41,
   "id": "f13e409c",
   "metadata": {},
   "outputs": [],
   "source": [
    "sonucListesi = list(map(kontrolFonksiyonu, stringListem))"
   ]
  },
  {
   "cell_type": "code",
   "execution_count": 43,
   "id": "b8ad3867",
   "metadata": {},
   "outputs": [
    {
     "data": {
      "text/plain": [
       "4"
      ]
     },
     "execution_count": 43,
     "metadata": {},
     "output_type": "execute_result"
    }
   ],
   "source": [
    "sonucListesi.count(True)  #verilen liste içerisinde aradığımız veriden kaç tane var yazdırdık"
   ]
  },
  {
   "cell_type": "markdown",
   "id": "81e3f129",
   "metadata": {},
   "source": [
    "# filter"
   ]
  },
  {
   "cell_type": "code",
   "execution_count": 44,
   "id": "64a04edc",
   "metadata": {},
   "outputs": [
    {
     "data": {
      "text/plain": [
       "['atıl', 'samancıoğlu', 'atlas', 'ahmet']"
      ]
     },
     "execution_count": 44,
     "metadata": {},
     "output_type": "execute_result"
    }
   ],
   "source": [
    "list(filter(kontrolFonksiyonu, stringListem))"
   ]
  },
  {
   "cell_type": "markdown",
   "id": "eb600a68",
   "metadata": {},
   "source": [
    "**map** ile strinde arama yaparken map ile aranan veri stringe var mı ? **true, false döndürdü**\n",
    "**filter** ile strinde arama yaparken filter ile aranan veri stringe var mı? **varsa var olan stringleri dönürdü**"
   ]
  },
  {
   "cell_type": "markdown",
   "id": "661b2af5",
   "metadata": {},
   "source": [
    "# lambda"
   ]
  },
  {
   "cell_type": "markdown",
   "id": "eb2962ca",
   "metadata": {},
   "source": [
    "fonksiyonları tek satırda yazmak ya da bir değişkenmiş gibi yazmak"
   ]
  },
  {
   "cell_type": "code",
   "execution_count": 45,
   "id": "920c45b7",
   "metadata": {},
   "outputs": [],
   "source": [
    "carpma = lambda numara : numara * 3\n",
    "# carpma ile çarpma işlemi tanımladık:\n",
    "# numara adlı paramete ile bir sayı alacağız ve sonra numara adlı değişkeni 3 ile çarpacağız"
   ]
  },
  {
   "cell_type": "code",
   "execution_count": 46,
   "id": "49c9839c",
   "metadata": {},
   "outputs": [
    {
     "data": {
      "text/plain": [
       "30"
      ]
     },
     "execution_count": 46,
     "metadata": {},
     "output_type": "execute_result"
    }
   ],
   "source": [
    "carpma(10)"
   ]
  },
  {
   "cell_type": "code",
   "execution_count": 47,
   "id": "660c929c",
   "metadata": {},
   "outputs": [],
   "source": [
    "ornekListe = [10,20,30]"
   ]
  },
  {
   "cell_type": "code",
   "execution_count": 48,
   "id": "1b5e0f1f",
   "metadata": {},
   "outputs": [
    {
     "data": {
      "text/plain": [
       "[40, 80, 120]"
      ]
     },
     "execution_count": 48,
     "metadata": {},
     "output_type": "execute_result"
    }
   ],
   "source": [
    "list(map(lambda numara : numara * 4, ornekListe))\n",
    "# lambda ile tek satırda fonksiyon tanımlandı\n",
    "# map ile ornekListe listesi, lambda ile tek satırda tanımlanan fonksiyona tabi tutuldu\n",
    "# list ile listenin son hali yazdırıldı"
   ]
  },
  {
   "cell_type": "code",
   "execution_count": null,
   "id": "8f03745b",
   "metadata": {},
   "outputs": [],
   "source": []
  }
 ],
 "metadata": {
  "kernelspec": {
   "display_name": "Python 3 (ipykernel)",
   "language": "python",
   "name": "python3"
  },
  "language_info": {
   "codemirror_mode": {
    "name": "ipython",
    "version": 3
   },
   "file_extension": ".py",
   "mimetype": "text/x-python",
   "name": "python",
   "nbconvert_exporter": "python",
   "pygments_lexer": "ipython3",
   "version": "3.9.13"
  }
 },
 "nbformat": 4,
 "nbformat_minor": 5
}
