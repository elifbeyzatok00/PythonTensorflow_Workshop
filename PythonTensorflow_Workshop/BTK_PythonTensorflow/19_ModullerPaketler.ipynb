{
 "cells": [
  {
   "cell_type": "markdown",
   "id": "0bf8b98f",
   "metadata": {},
   "source": [
    "kütüphaneleri anaconda içinde terminalde \"conda install kütüphaneAdı\" komutu ile anaconda içine yükledik. Ama bu yeterli değil. kütüphaneleri kullanmak istediğimiz ilgili dosyaların içinde import da etmeliyiz"
   ]
  },
  {
   "cell_type": "code",
   "execution_count": 25,
   "id": "860e961e",
   "metadata": {},
   "outputs": [],
   "source": [
    "import numpy as np\n",
    "import matplotlib.pyplot as matplot"
   ]
  },
  {
   "cell_type": "markdown",
   "id": "89a6bdc8",
   "metadata": {},
   "source": [
    "Numpy'dan ortalama 4.000 tl maaş çevresinde dolaşan ve standart sapması 500 tl olan 1000 adet veri üretmesini isteyebilirim"
   ]
  },
  {
   "cell_type": "code",
   "execution_count": 26,
   "id": "bd3d2bb1",
   "metadata": {},
   "outputs": [
    {
     "data": {
      "text/plain": [
       "3973.0224577085637"
      ]
     },
     "execution_count": 26,
     "metadata": {},
     "output_type": "execute_result"
    }
   ],
   "source": [
    "maasListesi = np.random.normal(4000, 500, 1000)\n",
    "np.mean(maasListesi)\n",
    "# normal, normal dağılım demek\n",
    "# mean() ortalmayı hesaplar"
   ]
  },
  {
   "cell_type": "code",
   "execution_count": 27,
   "id": "1d641530",
   "metadata": {},
   "outputs": [
    {
     "data": {
      "text/plain": [
       "(array([ 2.,  1.,  5.,  1.,  7.,  2.,  7.,  6., 16., 11., 12., 19., 19.,\n",
       "        13., 25., 39., 28., 37., 49., 52., 46., 47., 42., 47., 50., 45.,\n",
       "        52., 38., 33., 43., 23., 30., 27., 24., 15., 21.,  8., 15., 11.,\n",
       "         9.,  8.,  4.,  1.,  1.,  4.,  0.,  2.,  1.,  1.,  1.]),\n",
       " array([2598.19320916, 2657.05744383, 2715.92167849, 2774.78591316,\n",
       "        2833.65014783, 2892.51438249, 2951.37861716, 3010.24285182,\n",
       "        3069.10708649, 3127.97132115, 3186.83555582, 3245.69979049,\n",
       "        3304.56402515, 3363.42825982, 3422.29249448, 3481.15672915,\n",
       "        3540.02096381, 3598.88519848, 3657.74943315, 3716.61366781,\n",
       "        3775.47790248, 3834.34213714, 3893.20637181, 3952.07060648,\n",
       "        4010.93484114, 4069.79907581, 4128.66331047, 4187.52754514,\n",
       "        4246.3917798 , 4305.25601447, 4364.12024914, 4422.9844838 ,\n",
       "        4481.84871847, 4540.71295313, 4599.5771878 , 4658.44142246,\n",
       "        4717.30565713, 4776.1698918 , 4835.03412646, 4893.89836113,\n",
       "        4952.76259579, 5011.62683046, 5070.49106512, 5129.35529979,\n",
       "        5188.21953446, 5247.08376912, 5305.94800379, 5364.81223845,\n",
       "        5423.67647312, 5482.54070778, 5541.40494245]),\n",
       " <BarContainer object of 50 artists>)"
      ]
     },
     "execution_count": 27,
     "metadata": {},
     "output_type": "execute_result"
    },
    {
     "data": {
      "image/png": "[encoded data removed]",
      "text/plain": [
       "<Figure size 640x480 with 1 Axes>"
      ]
     },
     "metadata": {},
     "output_type": "display_data"
    }
   ],
   "source": [
    "matplot.hist(maasListesi, 50) #hem maasListesi verileri hem de grafik gösterir\n",
    "# hist() histogram grafiği yapar\n",
    "# maasListesi ni çizdir ve 50 histogram yapılsa yeter"
   ]
  },
  {
   "cell_type": "markdown",
   "id": "e54a7cb5",
   "metadata": {},
   "source": [
    "# "
   ]
  },
  {
   "cell_type": "code",
   "execution_count": 28,
   "id": "2f9a59a8",
   "metadata": {},
   "outputs": [
    {
     "data": {
      "text/plain": [
       "4034.9371651204015"
      ]
     },
     "execution_count": 28,
     "metadata": {},
     "output_type": "execute_result"
    }
   ],
   "source": [
    "maasListesi = np.random.normal(4000, 500, 1000)\n",
    "np.mean(maasListesi)\n",
    "# normal, normal dağılım demek\n",
    "# mean() ortalmayı hesaplar"
   ]
  },
  {
   "cell_type": "code",
   "execution_count": 29,
   "id": "e9f83e8a",
   "metadata": {},
   "outputs": [
    {
     "data": {
      "image/png": "[encoded data removed]",
      "text/plain": [
       "<Figure size 640x480 with 1 Axes>"
      ]
     },
     "metadata": {},
     "output_type": "display_data"
    }
   ],
   "source": [
    "matplot.hist(maasListesi, 50) #hem maasListesi verileri hem de grafik gösterir\n",
    "matplot.show() #sadece grafik gösterir\n",
    "# hist() histogram grafiği yapar\n",
    "# maasListesi ni çizdir ve 50 histogram yapılsa yeter"
   ]
  },
  {
   "cell_type": "raw",
   "id": "a13166da",
   "metadata": {},
   "source": [
    "numpy - verilerin oluşturulmasında\n",
    "matplot - verilerin grafiğe dökülmesinde bize yardımcı oldu"
   ]
  },
  {
   "cell_type": "markdown",
   "id": "446cce8b",
   "metadata": {},
   "source": [
    "# "
   ]
  },
  {
   "cell_type": "markdown",
   "id": "057ea514",
   "metadata": {},
   "source": [
    "**modül** : tek başına python dosyalarıdır"
   ]
  },
  {
   "cell_type": "markdown",
   "id": "390e8ea5",
   "metadata": {},
   "source": [
    "**paket** : paketler, modüllerin biraz daha geniş kapsamlısıdır"
   ]
  },
  {
   "cell_type": "code",
   "execution_count": null,
   "id": "6b7e017f",
   "metadata": {},
   "outputs": [],
   "source": []
  }
 ],
 "metadata": {
  "kernelspec": {
   "display_name": "Python 3 (ipykernel)",
   "language": "python",
   "name": "python3"
  },
  "language_info": {
   "codemirror_mode": {
    "name": "ipython",
    "version": 3
   },
   "file_extension": ".py",
   "mimetype": "text/x-python",
   "name": "python",
   "nbconvert_exporter": "python",
   "pygments_lexer": "ipython3",
   "version": "3.9.13"
  }
 },
 "nbformat": 4,
 "nbformat_minor": 5
}
